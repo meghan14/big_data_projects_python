{
 "cells": [
  {
   "cell_type": "markdown",
   "metadata": {},
   "source": [
    "# Assignment 8: Correlation Analysis and Hypothesis Testing"
   ]
  },
  {
   "cell_type": "markdown",
   "metadata": {},
   "source": [
    "## Objective"
   ]
  },
  {
   "cell_type": "markdown",
   "metadata": {},
   "source": [
    "The field of statistics is divided into two major parts: descriptive and inferential. In this assignment, we will cover two important topics in statistics: correlation analysis and hypothesis testing, where the former belongs to the descriptive part and the latter belongs to the inferential part. After this assignment, you will be able to answer the following questions:\n",
    "\n",
    "**Correlation Analysis**\n",
    "1. How to visualize the relationship between two variables?  \n",
    "2. What is Pearson's correlation? How to compute it?\n",
    "3. What is Spearman's rank correlation? How to compute it?\n",
    "4. What's the difference between Pearson's correlation and Spearman's rank correlation? \n",
    "\n",
    "\n",
    "**Hypothesis Testing**\n",
    "1. Why A/B testing?  \n",
    "2. What is a permutation test? How to implement it?\n",
    "3. What is p-value? How to avoid p-hacking? \n",
    "4. What is a chi-squared test? How to implement it?\n",
    "\n",
    "\n",
    "In this assignment, you can use [pandas](https://pandas.pydata.org/) or PySpark to manipulate data, and use [matplotlib](https://matplotlib.org/) or [seaborn](seaborn.pydata.org) to make plots. "
   ]
  },
  {
   "cell_type": "markdown",
   "metadata": {},
   "source": [
    "## Part 1. Correlation Analysis"
   ]
  },
  {
   "cell_type": "markdown",
   "metadata": {},
   "source": [
    "As a data scientist, you often face this kind of question: \"Are A and B correlated?\" For example, \n",
    "\n",
    "* Do Canadian Currency and Oil Price move together?\n",
    "* Do Vancouver Housing Price and US Stock Market have any correlation?\n",
    "* Are GPA and Gender independent? \n",
    "\n",
    "To answer these questions, you need to conduct correlation analysis. \n",
    "\n",
    "Imagine you are a data scientist working at a real-estate company. You download a dataset from [property_tax_report_2018.zip](property_tax_report_2018.zip). The dataset contains information on properties from BC Assessment (BCA) and City sources in 2018.  You can find the schema information of the dataset from this [webpage](http://data.vancouver.ca/datacatalogue/propertyTaxAttributes.htm). \n",
    "\n",
    "You may think that for a newly built house, it tends to have a higher price than the ones built decades ago. In this assignment, your first job is to figure out whether YEAR_BUILT and HOUSE_PRICE are correlated. "
   ]
  },
  {
   "cell_type": "markdown",
   "metadata": {},
   "source": [
    "We first load the data as a DataFrame. "
   ]
  },
  {
   "cell_type": "code",
   "execution_count": 4,
   "metadata": {},
   "outputs": [
    {
     "data": {
      "text/html": [
       "<div>\n",
       "<style scoped>\n",
       "    .dataframe tbody tr th:only-of-type {\n",
       "        vertical-align: middle;\n",
       "    }\n",
       "\n",
       "    .dataframe tbody tr th {\n",
       "        vertical-align: top;\n",
       "    }\n",
       "\n",
       "    .dataframe thead th {\n",
       "        text-align: right;\n",
       "    }\n",
       "</style>\n",
       "<table border=\"1\" class=\"dataframe\">\n",
       "  <thead>\n",
       "    <tr style=\"text-align: right;\">\n",
       "      <th></th>\n",
       "      <th>PID</th>\n",
       "      <th>LEGAL_TYPE</th>\n",
       "      <th>FOLIO</th>\n",
       "      <th>LAND_COORDINATE</th>\n",
       "      <th>ZONE_NAME</th>\n",
       "      <th>ZONE_CATEGORY</th>\n",
       "      <th>LOT</th>\n",
       "      <th>BLOCK</th>\n",
       "      <th>PLAN</th>\n",
       "      <th>DISTRICT_LOT</th>\n",
       "      <th>...</th>\n",
       "      <th>CURRENT_LAND_VALUE</th>\n",
       "      <th>CURRENT_IMPROVEMENT_VALUE</th>\n",
       "      <th>TAX_ASSESSMENT_YEAR</th>\n",
       "      <th>PREVIOUS_LAND_VALUE</th>\n",
       "      <th>PREVIOUS_IMPROVEMENT_VALUE</th>\n",
       "      <th>YEAR_BUILT</th>\n",
       "      <th>BIG_IMPROVEMENT_YEAR</th>\n",
       "      <th>TAX_LEVY</th>\n",
       "      <th>NEIGHBOURHOOD_CODE</th>\n",
       "      <th>HOUSE_PRICE</th>\n",
       "    </tr>\n",
       "  </thead>\n",
       "  <tbody>\n",
       "    <tr>\n",
       "      <th>0</th>\n",
       "      <td>025-734-601</td>\n",
       "      <td>STRATA</td>\n",
       "      <td>7.500400e+11</td>\n",
       "      <td>75004024</td>\n",
       "      <td>C-2</td>\n",
       "      <td>Commercial</td>\n",
       "      <td>25</td>\n",
       "      <td>NaN</td>\n",
       "      <td>BCS498</td>\n",
       "      <td>2027</td>\n",
       "      <td>...</td>\n",
       "      <td>592000</td>\n",
       "      <td>242000</td>\n",
       "      <td>2018</td>\n",
       "      <td>472000.0</td>\n",
       "      <td>238000.0</td>\n",
       "      <td>2003.0</td>\n",
       "      <td>2003.0</td>\n",
       "      <td>NaN</td>\n",
       "      <td>3</td>\n",
       "      <td>0.834</td>\n",
       "    </tr>\n",
       "    <tr>\n",
       "      <th>1</th>\n",
       "      <td>029-700-868</td>\n",
       "      <td>STRATA</td>\n",
       "      <td>6.381830e+11</td>\n",
       "      <td>63818250</td>\n",
       "      <td>CD-1 (464)</td>\n",
       "      <td>Comprehensive Development</td>\n",
       "      <td>132</td>\n",
       "      <td>NaN</td>\n",
       "      <td>EPS2983</td>\n",
       "      <td>200A</td>\n",
       "      <td>...</td>\n",
       "      <td>715000</td>\n",
       "      <td>327000</td>\n",
       "      <td>2018</td>\n",
       "      <td>603000.0</td>\n",
       "      <td>329000.0</td>\n",
       "      <td>NaN</td>\n",
       "      <td>NaN</td>\n",
       "      <td>NaN</td>\n",
       "      <td>13</td>\n",
       "      <td>1.042</td>\n",
       "    </tr>\n",
       "    <tr>\n",
       "      <th>2</th>\n",
       "      <td>029-814-227</td>\n",
       "      <td>STRATA</td>\n",
       "      <td>1.708260e+11</td>\n",
       "      <td>17082596</td>\n",
       "      <td>CD-1 (535)</td>\n",
       "      <td>Comprehensive Development</td>\n",
       "      <td>25</td>\n",
       "      <td>NaN</td>\n",
       "      <td>EPS3173</td>\n",
       "      <td>311</td>\n",
       "      <td>...</td>\n",
       "      <td>507000</td>\n",
       "      <td>273000</td>\n",
       "      <td>2018</td>\n",
       "      <td>416000.0</td>\n",
       "      <td>273000.0</td>\n",
       "      <td>NaN</td>\n",
       "      <td>NaN</td>\n",
       "      <td>NaN</td>\n",
       "      <td>12</td>\n",
       "      <td>0.780</td>\n",
       "    </tr>\n",
       "    <tr>\n",
       "      <th>3</th>\n",
       "      <td>029-918-731</td>\n",
       "      <td>STRATA</td>\n",
       "      <td>6.401940e+11</td>\n",
       "      <td>64019406</td>\n",
       "      <td>IC-3</td>\n",
       "      <td>Light Industrial</td>\n",
       "      <td>40</td>\n",
       "      <td>26</td>\n",
       "      <td>EPS2425</td>\n",
       "      <td>200A</td>\n",
       "      <td>...</td>\n",
       "      <td>227000</td>\n",
       "      <td>170000</td>\n",
       "      <td>2018</td>\n",
       "      <td>168000.0</td>\n",
       "      <td>170000.0</td>\n",
       "      <td>NaN</td>\n",
       "      <td>NaN</td>\n",
       "      <td>NaN</td>\n",
       "      <td>13</td>\n",
       "      <td>0.397</td>\n",
       "    </tr>\n",
       "    <tr>\n",
       "      <th>4</th>\n",
       "      <td>017-393-400</td>\n",
       "      <td>STRATA</td>\n",
       "      <td>6.011150e+11</td>\n",
       "      <td>60111496</td>\n",
       "      <td>CD-1 (233)</td>\n",
       "      <td>Comprehensive Development</td>\n",
       "      <td>7</td>\n",
       "      <td>NaN</td>\n",
       "      <td>LMS75</td>\n",
       "      <td>185</td>\n",
       "      <td>...</td>\n",
       "      <td>801000</td>\n",
       "      <td>380000</td>\n",
       "      <td>2018</td>\n",
       "      <td>531000.0</td>\n",
       "      <td>385000.0</td>\n",
       "      <td>1991.0</td>\n",
       "      <td>1991.0</td>\n",
       "      <td>NaN</td>\n",
       "      <td>27</td>\n",
       "      <td>1.181</td>\n",
       "    </tr>\n",
       "  </tbody>\n",
       "</table>\n",
       "<p>5 rows × 29 columns</p>\n",
       "</div>"
      ],
      "text/plain": [
       "           PID LEGAL_TYPE         FOLIO  LAND_COORDINATE   ZONE_NAME  \\\n",
       "0  025-734-601     STRATA  7.500400e+11         75004024         C-2   \n",
       "1  029-700-868     STRATA  6.381830e+11         63818250  CD-1 (464)   \n",
       "2  029-814-227     STRATA  1.708260e+11         17082596  CD-1 (535)   \n",
       "3  029-918-731     STRATA  6.401940e+11         64019406        IC-3   \n",
       "4  017-393-400     STRATA  6.011150e+11         60111496  CD-1 (233)   \n",
       "\n",
       "               ZONE_CATEGORY  LOT BLOCK     PLAN DISTRICT_LOT     ...       \\\n",
       "0                 Commercial   25   NaN   BCS498         2027     ...        \n",
       "1  Comprehensive Development  132   NaN  EPS2983         200A     ...        \n",
       "2  Comprehensive Development   25   NaN  EPS3173          311     ...        \n",
       "3           Light Industrial   40    26  EPS2425         200A     ...        \n",
       "4  Comprehensive Development    7   NaN    LMS75          185     ...        \n",
       "\n",
       "  CURRENT_LAND_VALUE  CURRENT_IMPROVEMENT_VALUE TAX_ASSESSMENT_YEAR  \\\n",
       "0             592000                     242000                2018   \n",
       "1             715000                     327000                2018   \n",
       "2             507000                     273000                2018   \n",
       "3             227000                     170000                2018   \n",
       "4             801000                     380000                2018   \n",
       "\n",
       "  PREVIOUS_LAND_VALUE PREVIOUS_IMPROVEMENT_VALUE YEAR_BUILT  \\\n",
       "0            472000.0                   238000.0     2003.0   \n",
       "1            603000.0                   329000.0        NaN   \n",
       "2            416000.0                   273000.0        NaN   \n",
       "3            168000.0                   170000.0        NaN   \n",
       "4            531000.0                   385000.0     1991.0   \n",
       "\n",
       "  BIG_IMPROVEMENT_YEAR TAX_LEVY NEIGHBOURHOOD_CODE  HOUSE_PRICE  \n",
       "0               2003.0      NaN                  3        0.834  \n",
       "1                  NaN      NaN                 13        1.042  \n",
       "2                  NaN      NaN                 12        0.780  \n",
       "3                  NaN      NaN                 13        0.397  \n",
       "4               1991.0      NaN                 27        1.181  \n",
       "\n",
       "[5 rows x 29 columns]"
      ]
     },
     "execution_count": 4,
     "metadata": {},
     "output_type": "execute_result"
    }
   ],
   "source": [
    "import pandas as pd\n",
    "\n",
    "df = pd.read_csv(\"data/property_tax_report_2018.csv\")\n",
    "\n",
    "df['HOUSE_PRICE'] = df.apply(lambda x: (x['CURRENT_LAND_VALUE']+x['CURRENT_IMPROVEMENT_VALUE'])/1000000.0, axis = 1)\n",
    "df.head()"
   ]
  },
  {
   "cell_type": "code",
   "execution_count": 12,
   "metadata": {},
   "outputs": [
    {
     "name": "stdout",
     "output_type": "stream",
     "text": [
      "<class 'pandas.core.frame.DataFrame'>\n",
      "RangeIndex: 205346 entries, 0 to 205345\n",
      "Data columns (total 29 columns):\n",
      "PID                           204809 non-null object\n",
      "LEGAL_TYPE                    205346 non-null object\n",
      "FOLIO                         205346 non-null float64\n",
      "LAND_COORDINATE               205346 non-null int64\n",
      "ZONE_NAME                     205343 non-null object\n",
      "ZONE_CATEGORY                 203502 non-null object\n",
      "LOT                           203960 non-null object\n",
      "BLOCK                         86376 non-null object\n",
      "PLAN                          205143 non-null object\n",
      "DISTRICT_LOT                  190379 non-null object\n",
      "FROM_CIVIC_NUMBER             99336 non-null object\n",
      "TO_CIVIC_NUMBER               204731 non-null float64\n",
      "STREET_NAME                   205150 non-null object\n",
      "PROPERTY_POSTAL_CODE          201545 non-null object\n",
      "NARRATIVE_LEGAL_LINE1         205247 non-null object\n",
      "NARRATIVE_LEGAL_LINE2         205173 non-null object\n",
      "NARRATIVE_LEGAL_LINE3         140646 non-null object\n",
      "NARRATIVE_LEGAL_LINE4         48991 non-null object\n",
      "NARRATIVE_LEGAL_LINE5         40136 non-null object\n",
      "CURRENT_LAND_VALUE            205346 non-null int64\n",
      "CURRENT_IMPROVEMENT_VALUE     205346 non-null int64\n",
      "TAX_ASSESSMENT_YEAR           205346 non-null int64\n",
      "PREVIOUS_LAND_VALUE           203042 non-null float64\n",
      "PREVIOUS_IMPROVEMENT_VALUE    203042 non-null float64\n",
      "YEAR_BUILT                    194899 non-null float64\n",
      "BIG_IMPROVEMENT_YEAR          194905 non-null float64\n",
      "TAX_LEVY                      0 non-null float64\n",
      "NEIGHBOURHOOD_CODE            205346 non-null int64\n",
      "HOUSE_PRICE                   205346 non-null float64\n",
      "dtypes: float64(8), int64(5), object(16)\n",
      "memory usage: 45.4+ MB\n"
     ]
    }
   ],
   "source": [
    "df.info()"
   ]
  },
  {
   "cell_type": "markdown",
   "metadata": {},
   "source": [
    "### Task A. Visualizations"
   ]
  },
  {
   "cell_type": "markdown",
   "metadata": {},
   "source": [
    "Since the housing price varies a lot by locations, we will only consider the houses whose <font color='blue'>postcode starts with 'V6A'</font>. Furthermore, we remove the houses that were <font color='blue'>built before 1900</font>."
   ]
  },
  {
   "cell_type": "code",
   "execution_count": 17,
   "metadata": {},
   "outputs": [
    {
     "data": {
      "text/html": [
       "<div>\n",
       "<style scoped>\n",
       "    .dataframe tbody tr th:only-of-type {\n",
       "        vertical-align: middle;\n",
       "    }\n",
       "\n",
       "    .dataframe tbody tr th {\n",
       "        vertical-align: top;\n",
       "    }\n",
       "\n",
       "    .dataframe thead th {\n",
       "        text-align: right;\n",
       "    }\n",
       "</style>\n",
       "<table border=\"1\" class=\"dataframe\">\n",
       "  <thead>\n",
       "    <tr style=\"text-align: right;\">\n",
       "      <th></th>\n",
       "      <th>PID</th>\n",
       "      <th>LEGAL_TYPE</th>\n",
       "      <th>FOLIO</th>\n",
       "      <th>LAND_COORDINATE</th>\n",
       "      <th>ZONE_NAME</th>\n",
       "      <th>ZONE_CATEGORY</th>\n",
       "      <th>LOT</th>\n",
       "      <th>BLOCK</th>\n",
       "      <th>PLAN</th>\n",
       "      <th>DISTRICT_LOT</th>\n",
       "      <th>...</th>\n",
       "      <th>CURRENT_LAND_VALUE</th>\n",
       "      <th>CURRENT_IMPROVEMENT_VALUE</th>\n",
       "      <th>TAX_ASSESSMENT_YEAR</th>\n",
       "      <th>PREVIOUS_LAND_VALUE</th>\n",
       "      <th>PREVIOUS_IMPROVEMENT_VALUE</th>\n",
       "      <th>YEAR_BUILT</th>\n",
       "      <th>BIG_IMPROVEMENT_YEAR</th>\n",
       "      <th>TAX_LEVY</th>\n",
       "      <th>NEIGHBOURHOOD_CODE</th>\n",
       "      <th>HOUSE_PRICE</th>\n",
       "    </tr>\n",
       "  </thead>\n",
       "  <tbody>\n",
       "    <tr>\n",
       "      <th>577</th>\n",
       "      <td>009-785-931</td>\n",
       "      <td>STRATA</td>\n",
       "      <td>5.922120e+11</td>\n",
       "      <td>59221204</td>\n",
       "      <td>RT-3</td>\n",
       "      <td>Two Family Dwelling</td>\n",
       "      <td>3</td>\n",
       "      <td>NaN</td>\n",
       "      <td>VAS2071</td>\n",
       "      <td>181</td>\n",
       "      <td>...</td>\n",
       "      <td>1046000</td>\n",
       "      <td>131000</td>\n",
       "      <td>2018</td>\n",
       "      <td>1004000.0</td>\n",
       "      <td>135000.0</td>\n",
       "      <td>1987.0</td>\n",
       "      <td>1987.0</td>\n",
       "      <td>NaN</td>\n",
       "      <td>13</td>\n",
       "      <td>1.1770</td>\n",
       "    </tr>\n",
       "    <tr>\n",
       "      <th>612</th>\n",
       "      <td>004-207-882</td>\n",
       "      <td>LAND</td>\n",
       "      <td>1.905790e+11</td>\n",
       "      <td>19057935</td>\n",
       "      <td>DEOD</td>\n",
       "      <td>Comprehensive Development</td>\n",
       "      <td>4</td>\n",
       "      <td>3</td>\n",
       "      <td>VAP184</td>\n",
       "      <td>196</td>\n",
       "      <td>...</td>\n",
       "      <td>1229000</td>\n",
       "      <td>713000</td>\n",
       "      <td>2018</td>\n",
       "      <td>1124000.0</td>\n",
       "      <td>552400.0</td>\n",
       "      <td>1908.0</td>\n",
       "      <td>1908.0</td>\n",
       "      <td>NaN</td>\n",
       "      <td>26</td>\n",
       "      <td>1.9420</td>\n",
       "    </tr>\n",
       "    <tr>\n",
       "      <th>745</th>\n",
       "      <td>003-879-607</td>\n",
       "      <td>STRATA</td>\n",
       "      <td>5.941980e+11</td>\n",
       "      <td>59419848</td>\n",
       "      <td>RT-3</td>\n",
       "      <td>Two Family Dwelling</td>\n",
       "      <td>C</td>\n",
       "      <td>NaN</td>\n",
       "      <td>VAS328</td>\n",
       "      <td>196</td>\n",
       "      <td>...</td>\n",
       "      <td>690000</td>\n",
       "      <td>68600</td>\n",
       "      <td>2018</td>\n",
       "      <td>584000.0</td>\n",
       "      <td>74500.0</td>\n",
       "      <td>1975.0</td>\n",
       "      <td>1975.0</td>\n",
       "      <td>NaN</td>\n",
       "      <td>13</td>\n",
       "      <td>0.7586</td>\n",
       "    </tr>\n",
       "    <tr>\n",
       "      <th>774</th>\n",
       "      <td>011-906-219</td>\n",
       "      <td>LAND</td>\n",
       "      <td>5.802060e+11</td>\n",
       "      <td>58020574</td>\n",
       "      <td>M-2</td>\n",
       "      <td>Industrial</td>\n",
       "      <td>15</td>\n",
       "      <td>51</td>\n",
       "      <td>VAP196</td>\n",
       "      <td>181</td>\n",
       "      <td>...</td>\n",
       "      <td>1428000</td>\n",
       "      <td>4500</td>\n",
       "      <td>2018</td>\n",
       "      <td>1066000.0</td>\n",
       "      <td>4500.0</td>\n",
       "      <td>1978.0</td>\n",
       "      <td>1978.0</td>\n",
       "      <td>NaN</td>\n",
       "      <td>13</td>\n",
       "      <td>1.4325</td>\n",
       "    </tr>\n",
       "    <tr>\n",
       "      <th>778</th>\n",
       "      <td>008-013-225</td>\n",
       "      <td>LAND</td>\n",
       "      <td>5.981990e+11</td>\n",
       "      <td>59819870</td>\n",
       "      <td>RT-3</td>\n",
       "      <td>Two Family Dwelling</td>\n",
       "      <td>15</td>\n",
       "      <td>101</td>\n",
       "      <td>VAP196</td>\n",
       "      <td>196</td>\n",
       "      <td>...</td>\n",
       "      <td>1493000</td>\n",
       "      <td>116000</td>\n",
       "      <td>2018</td>\n",
       "      <td>1349000.0</td>\n",
       "      <td>121000.0</td>\n",
       "      <td>1905.0</td>\n",
       "      <td>1965.0</td>\n",
       "      <td>NaN</td>\n",
       "      <td>13</td>\n",
       "      <td>1.6090</td>\n",
       "    </tr>\n",
       "  </tbody>\n",
       "</table>\n",
       "<p>5 rows × 29 columns</p>\n",
       "</div>"
      ],
      "text/plain": [
       "             PID LEGAL_TYPE         FOLIO  LAND_COORDINATE ZONE_NAME  \\\n",
       "577  009-785-931     STRATA  5.922120e+11         59221204      RT-3   \n",
       "612  004-207-882       LAND  1.905790e+11         19057935      DEOD   \n",
       "745  003-879-607     STRATA  5.941980e+11         59419848      RT-3   \n",
       "774  011-906-219       LAND  5.802060e+11         58020574       M-2   \n",
       "778  008-013-225       LAND  5.981990e+11         59819870      RT-3   \n",
       "\n",
       "                 ZONE_CATEGORY LOT BLOCK     PLAN DISTRICT_LOT     ...       \\\n",
       "577        Two Family Dwelling   3   NaN  VAS2071          181     ...        \n",
       "612  Comprehensive Development   4     3   VAP184          196     ...        \n",
       "745        Two Family Dwelling   C   NaN   VAS328          196     ...        \n",
       "774                 Industrial  15    51   VAP196          181     ...        \n",
       "778        Two Family Dwelling  15   101   VAP196          196     ...        \n",
       "\n",
       "    CURRENT_LAND_VALUE  CURRENT_IMPROVEMENT_VALUE TAX_ASSESSMENT_YEAR  \\\n",
       "577            1046000                     131000                2018   \n",
       "612            1229000                     713000                2018   \n",
       "745             690000                      68600                2018   \n",
       "774            1428000                       4500                2018   \n",
       "778            1493000                     116000                2018   \n",
       "\n",
       "    PREVIOUS_LAND_VALUE PREVIOUS_IMPROVEMENT_VALUE YEAR_BUILT  \\\n",
       "577           1004000.0                   135000.0     1987.0   \n",
       "612           1124000.0                   552400.0     1908.0   \n",
       "745            584000.0                    74500.0     1975.0   \n",
       "774           1066000.0                     4500.0     1978.0   \n",
       "778           1349000.0                   121000.0     1905.0   \n",
       "\n",
       "    BIG_IMPROVEMENT_YEAR TAX_LEVY NEIGHBOURHOOD_CODE  HOUSE_PRICE  \n",
       "577               1987.0      NaN                 13       1.1770  \n",
       "612               1908.0      NaN                 26       1.9420  \n",
       "745               1975.0      NaN                 13       0.7586  \n",
       "774               1978.0      NaN                 13       1.4325  \n",
       "778               1965.0      NaN                 13       1.6090  \n",
       "\n",
       "[5 rows x 29 columns]"
      ]
     },
     "execution_count": 17,
     "metadata": {},
     "output_type": "execute_result"
    }
   ],
   "source": [
    "df_v6a = df[df['PROPERTY_POSTAL_CODE'].map(lambda x: True if str(x).strip().startswith(\"V6A\") else False)]\n",
    "df_modern = df_v6a[df_v6a['YEAR_BUILT']>1900]\n",
    "df_modern.head()"
   ]
  },
  {
   "cell_type": "markdown",
   "metadata": {},
   "source": [
    "<img src=\"img/v6a.png\", width=500/>"
   ]
  },
  {
   "cell_type": "markdown",
   "metadata": {},
   "source": [
    "In the following, please make two subplots in one row. For the left subplot, it is a scatter plot with X = `YEAR_BUILT` and Y = `HOUSE_PRICE`; for the right subplot, it is a hexbin plot (gridsize = 20) with X = `YEAR_BUILT` and Y = `HOUSE_PRICE`."
   ]
  },
  {
   "cell_type": "code",
   "execution_count": 23,
   "metadata": {
    "scrolled": true
   },
   "outputs": [
    {
     "data": {
      "image/png": "[encoded data removed]",
      "text/plain": [
       "<Figure size 864x576 with 3 Axes>"
      ]
     },
     "metadata": {
      "needs_background": "light"
     },
     "output_type": "display_data"
    }
   ],
   "source": [
    "#<-- Write Your Code -->\n",
    "import matplotlib.pyplot as plt\n",
    "fig, axarr = plt.subplots(1, 2, figsize=(12, 8))\n",
    "ax1 = df_modern.plot.scatter(x='YEAR_BUILT',y='HOUSE_PRICE',ax=axarr[0])\n",
    "ax2 = df_modern.plot.hexbin(x='YEAR_BUILT',y='HOUSE_PRICE',gridsize=20,ax=axarr[1])\n",
    "plt.show()"
   ]
  },
  {
   "cell_type": "markdown",
   "metadata": {},
   "source": [
    "Please write down the **two** most interesting findings that you draw from the plot.\n",
    "\n",
    "**Findings**\n",
    "1. The number of expensive houses went up after the year 1980. \n",
    "2. Years around 1940 saw the least overall real estate prices for the total duration considered."
   ]
  },
  {
   "cell_type": "markdown",
   "metadata": {},
   "source": [
    "The above plots provide a general impression of the relationship between variables. There are some other visualizations that can provide more insight. One option is to bin one variable and plot percentiles of the other. \n",
    "\n",
    "\n",
    "In the following, please make three subplots in a row, where each subplot is a scatter plot with X = YEAR_BUILT and Y = HOUSE_PRICE. \n",
    "* The first subplot shows how the 25th percentile of `HOUSE_PRICE` changes over years (X = `YEAR_BUILT`, Y = `25TH_HOUSE_PRICE`); \n",
    "* The second subplot shows how the 50th percentile of `HOUSE_PRICE` changes over years (X = `YEAR_BUILT`, Y = `50TH_HOUSE_PRICE`); \n",
    "* The third subplot shows how the 75th percentile of `HOUSE_PRICE` changes over years (X = `YEAR_BUILT`, Y = `75TH_HOUSE_PRICE`);  \n"
   ]
  },
  {
   "cell_type": "code",
   "execution_count": 51,
   "metadata": {},
   "outputs": [
    {
     "data": {
      "image/png": "[encoded data removed]",
      "text/plain": [
       "<Figure size 864x576 with 3 Axes>"
      ]
     },
     "metadata": {
      "needs_background": "light"
     },
     "output_type": "display_data"
    }
   ],
   "source": [
    "#<-- Write Your Code -->\n",
    "import numpy as np\n",
    "\n",
    "df_new = pd.DataFrame()\n",
    "df_quantile = df_modern[['YEAR_BUILT','HOUSE_PRICE']].groupby(['YEAR_BUILT'])\n",
    "df_new[\"25TH_HOUSE_PRICE\"] = df_quantile.apply(lambda x: np.percentile(x['HOUSE_PRICE'],q=25))\n",
    "df_new[\"50TH_HOUSE_PRICE\"] = df_quantile.apply(lambda x: np.percentile(x['HOUSE_PRICE'],q=50))\n",
    "df_new[\"75TH_HOUSE_PRICE\"] = df_quantile.apply(lambda x: np.percentile(x['HOUSE_PRICE'],q=75))\n",
    "df_new[\"YEAR_BUILT\"] = df_quantile.apply(lambda x: int(x.name))\n",
    "\n",
    "#PLOTS \n",
    "fig, axarr = plt.subplots(1, 3, figsize=(12, 8))\n",
    "ax1 = df_new.plot.scatter(x='YEAR_BUILT',y='25TH_HOUSE_PRICE',ax=axarr[0])\n",
    "ax2 = df_new.plot.scatter(x='YEAR_BUILT',y='50TH_HOUSE_PRICE',ax=axarr[1])\n",
    "ax3 = df_new.plot.scatter(x='YEAR_BUILT',y='75TH_HOUSE_PRICE',ax=axarr[2])\n",
    "plt.show()"
   ]
  },
  {
   "cell_type": "markdown",
   "metadata": {},
   "source": [
    "Please write down the **two** most interesting findings that you draw from the plot.\n",
    "\n",
    "**Findings**\n",
    "1. As the house price percentile increases, the range of prices increases for subsequent years.  \n",
    "2. Majority of houses have prices in all three percentiles between the range 0-10, indicating a very small variation in prices for maximum households (for every corresponding year). "
   ]
  },
  {
   "cell_type": "markdown",
   "metadata": {},
   "source": [
    "### Task B. Correlation Coefficient"
   ]
  },
  {
   "cell_type": "markdown",
   "metadata": {},
   "source": [
    "A correlation coefficient is a numerical measure of some type of correlation, meaning a statistical relationship between a pair of variables. \n",
    "\n",
    "In the following, please compute the Pearson's correlation as well as Spearman's rank correlation for three pairs of variables: <`25TH_HOUSE_PRICE`, `YEAR_BUILT`>, <`50TH_HOUSE_PRICE`, `YEAR_BUILT`>, and <`75TH_HOUSE_PRICE`, `YEAR_BUILT`>, and then print out your results. \n",
    "\n",
    "Note that it is OK to use this [function](https://pandas.pydata.org/pandas-docs/stable/generated/pandas.DataFrame.corr.html) to do this task, but make sure that you understand how the numbers are computed. "
   ]
  },
  {
   "cell_type": "code",
   "execution_count": 54,
   "metadata": {
    "scrolled": true
   },
   "outputs": [
    {
     "name": "stdout",
     "output_type": "stream",
     "text": [
      "PEARSON CORRELATION BETWEEN 25TH_HOUSE_PRICE and YEAR_BUILT:\n",
      "\n",
      "                  25TH_HOUSE_PRICE  YEAR_BUILT\n",
      "25TH_HOUSE_PRICE          1.000000   -0.250809\n",
      "YEAR_BUILT               -0.250809    1.000000\n",
      "SPEARMAN CORRELATION BETWEEN 25TH_HOUSE_PRICE and YEAR_BUILT:\n",
      "\n",
      "                  25TH_HOUSE_PRICE  YEAR_BUILT\n",
      "25TH_HOUSE_PRICE           1.00000    -0.57736\n",
      "YEAR_BUILT                -0.57736     1.00000\n",
      "PEARSON CORRELATION BETWEEN 50TH_HOUSE_PRICE and YEAR_BUILT:\n",
      "\n",
      "                  50TH_HOUSE_PRICE  YEAR_BUILT\n",
      "50TH_HOUSE_PRICE          1.000000   -0.245879\n",
      "YEAR_BUILT               -0.245879    1.000000\n",
      "SPEARMAN CORRELATION BETWEEN 50TH_HOUSE_PRICE and YEAR_BUILT:\n",
      "\n",
      "                  50TH_HOUSE_PRICE  YEAR_BUILT\n",
      "50TH_HOUSE_PRICE          1.000000   -0.519268\n",
      "YEAR_BUILT               -0.519268    1.000000\n",
      "PEARSON CORRELATION BETWEEN 75TH_HOUSE_PRICE and YEAR_BUILT:\n",
      "\n",
      "                  75TH_HOUSE_PRICE  YEAR_BUILT\n",
      "75TH_HOUSE_PRICE          1.000000   -0.223003\n",
      "YEAR_BUILT               -0.223003    1.000000\n",
      "SPEARMAN CORRELATION BETWEEN 75TH_HOUSE_PRICE and YEAR_BUILT:\n",
      "\n",
      "                  75TH_HOUSE_PRICE  YEAR_BUILT\n",
      "75TH_HOUSE_PRICE          1.000000   -0.412724\n",
      "YEAR_BUILT               -0.412724    1.000000\n"
     ]
    }
   ],
   "source": [
    "#<-- Write Your Code -->\n",
    "cols = ['25TH_HOUSE_PRICE', '50TH_HOUSE_PRICE', '75TH_HOUSE_PRICE']\n",
    "main_col = 'YEAR_BUILT'\n",
    "for i in cols:\n",
    "    df_corr_pearson = df_new[[i,main_col]].corr(method='pearson')\n",
    "    df_corr_spearman = df_new[[i,main_col]].corr(method='spearman')\n",
    "    print(\"PEARSON CORRELATION BETWEEN {} and {}:\\n\".format(i,main_col))\n",
    "    print(df_corr_pearson)\n",
    "    print(\"SPEARMAN CORRELATION BETWEEN {} and {}:\\n\".format(i,main_col))\n",
    "    print(df_corr_spearman)"
   ]
  },
  {
   "cell_type": "markdown",
   "metadata": {},
   "source": [
    "Please write down the **two** most interesting findings that you draw from the result. \n",
    "\n",
    "**Findings**\n",
    "1. Based on the pearson correlation between the percentiles, the values vary non-linearly with YEAR_BUILT. That is, with every increasing year the values tend to decrease non-linearly. \n",
    "2. Similarly, based on spearman's correlation, the values are non-monotonically decreasing with respect to increase in yearly values. "
   ]
  },
  {
   "cell_type": "markdown",
   "metadata": {},
   "source": [
    "## Part 2. Hypothesis Testing"
   ]
  },
  {
   "cell_type": "markdown",
   "metadata": {},
   "source": [
    "In many situations, we cannot get the full population but only a sample. If we derive an interesting result from a sample, how likely can we derive the same result from the entire population? In other words, we want to know whether this result is a true finding or it just happens in the sample by chance. Hypothesis testing aims to answer this fundamental question. "
   ]
  },
  {
   "cell_type": "markdown",
   "metadata": {},
   "source": [
    "### Task C. A/B Testing\n",
    "> Acknowledgment: Thank [Greg Baker](http://www.cs.sfu.ca/~ggbaker/) for helping me to prepare this task.\n",
    "\n",
    "A very common technique to evaluate changes in a user interface is A/B testing: show some users interface A, some interface B, and then look to see if one performs better than the other.\n",
    "\n",
    "Suppose I started an A/B test on CourSys. Here are the two interfaces that I want to compare with. I want to know whether a good placeholder in the search box can attract more users to use the `search` feature.\n",
    "\n",
    "\n",
    "![](img/ab-testing.png)"
   ]
  },
  {
   "cell_type": "markdown",
   "metadata": {},
   "source": [
    "The provided [searchlog.json](./searchlog.json) has information about users' usage. The question I was interested in: is the number of searches per user different?"
   ]
  },
  {
   "cell_type": "markdown",
   "metadata": {},
   "source": [
    "To answer this question, we need to first pick up a **test statistic** to quantify how good an interface is. Here, we choose \"the search_count mean\". \n",
    "\n",
    "Please write the code to compute **the difference of the search_count means between interface A and Interface B.** "
   ]
  },
  {
   "cell_type": "code",
   "execution_count": 65,
   "metadata": {},
   "outputs": [
    {
     "data": {
      "text/html": [
       "<div>\n",
       "<style scoped>\n",
       "    .dataframe tbody tr th:only-of-type {\n",
       "        vertical-align: middle;\n",
       "    }\n",
       "\n",
       "    .dataframe tbody tr th {\n",
       "        vertical-align: top;\n",
       "    }\n",
       "\n",
       "    .dataframe thead th {\n",
       "        text-align: right;\n",
       "    }\n",
       "</style>\n",
       "<table border=\"1\" class=\"dataframe\">\n",
       "  <thead>\n",
       "    <tr style=\"text-align: right;\">\n",
       "      <th></th>\n",
       "      <th>is_instructor</th>\n",
       "      <th>search_count</th>\n",
       "      <th>search_ui</th>\n",
       "      <th>uid</th>\n",
       "    </tr>\n",
       "  </thead>\n",
       "  <tbody>\n",
       "    <tr>\n",
       "      <th>0</th>\n",
       "      <td>True</td>\n",
       "      <td>2</td>\n",
       "      <td>A</td>\n",
       "      <td>6061521</td>\n",
       "    </tr>\n",
       "    <tr>\n",
       "      <th>1</th>\n",
       "      <td>False</td>\n",
       "      <td>0</td>\n",
       "      <td>A</td>\n",
       "      <td>11986457</td>\n",
       "    </tr>\n",
       "    <tr>\n",
       "      <th>2</th>\n",
       "      <td>False</td>\n",
       "      <td>0</td>\n",
       "      <td>A</td>\n",
       "      <td>15995765</td>\n",
       "    </tr>\n",
       "    <tr>\n",
       "      <th>3</th>\n",
       "      <td>True</td>\n",
       "      <td>0</td>\n",
       "      <td>B</td>\n",
       "      <td>9106912</td>\n",
       "    </tr>\n",
       "    <tr>\n",
       "      <th>4</th>\n",
       "      <td>False</td>\n",
       "      <td>0</td>\n",
       "      <td>A</td>\n",
       "      <td>9882383</td>\n",
       "    </tr>\n",
       "  </tbody>\n",
       "</table>\n",
       "</div>"
      ],
      "text/plain": [
       "   is_instructor  search_count search_ui       uid\n",
       "0           True             2         A   6061521\n",
       "1          False             0         A  11986457\n",
       "2          False             0         A  15995765\n",
       "3           True             0         B   9106912\n",
       "4          False             0         A   9882383"
      ]
     },
     "execution_count": 65,
     "metadata": {},
     "output_type": "execute_result"
    }
   ],
   "source": [
    "source = \"data/searchlog.json\"\n",
    "df_search = pd.read_json(source,lines=True)\n",
    "df_search.head()"
   ]
  },
  {
   "cell_type": "code",
   "execution_count": 66,
   "metadata": {},
   "outputs": [
    {
     "name": "stdout",
     "output_type": "stream",
     "text": [
      "0.13500569535052287\n"
     ]
    }
   ],
   "source": [
    "#<-- Write Your Code -->\n",
    "df_search_A = df_search[df_search['search_ui']=='A']['search_count']\n",
    "df_search_B = df_search[df_search['search_ui']=='B']['search_count']\n",
    "print(abs(df_search_A.mean()-df_search_B.mean()))"
   ]
  },
  {
   "cell_type": "markdown",
   "metadata": {},
   "source": [
    "Suppose we find that the mean value increased by 0.135. Then, we wonder whether this result is just caused by random variation. \n",
    "\n",
    "We define the Null Hypothesis as\n",
    " * The difference in search_count mean between Interface A and Interface B is caused by random variation. \n",
    " \n",
    "Then the next job is to check whether we can reject the null hypothesis or not. If it does, we can adopt the alternative explanation:\n",
    " * The difference in search_count mean  between Interface A and Interface B is caused by the design differences between the two.\n",
    "\n",
    "We compute the p-value of the observed result. If p-value is low (e.g., <0.01), we can reject the null hypothesis, and adopt  the alternative explanation.  \n",
    "\n",
    "Please implement a permutation test (numSamples = 10000) to compute the p-value. Note that you are NOT allowed to use an implementation in an existing library. You have to implement it by yourself."
   ]
  },
  {
   "cell_type": "code",
   "execution_count": 64,
   "metadata": {},
   "outputs": [
    {
     "name": "stdout",
     "output_type": "stream",
     "text": [
      "0.2541\n"
     ]
    }
   ],
   "source": [
    "#<-- Write Your Code -->\n",
    "numSamples = 10000\n",
    "def perm_test(xs, ys, nm):\n",
    "    n, k = len(xs), 0\n",
    "    diff = np.abs(np.mean(xs) - np.mean(ys))\n",
    "    zs = np.concatenate([xs, ys])\n",
    "    for j in range(nm):\n",
    "        np.random.shuffle(zs)\n",
    "        k += diff < np.abs(np.mean(zs[:n]) - np.mean(zs[n:]))\n",
    "    return k / nm\n",
    "print(perm_test(df_search_A,df_search_B,numSamples)) "
   ]
  },
  {
   "cell_type": "markdown",
   "metadata": {},
   "source": [
    "Suppose we want to use the same dataset to do another A/B testing. We suspect that instructors are the ones who can get more useful information from the search feature, so perhaps non-instructors didn't touch the search feature because it was genuinely not relevant to them.\n",
    "\n",
    "So we decide to repeat the above analysis looking only at instructors."
   ]
  },
  {
   "cell_type": "markdown",
   "metadata": {},
   "source": [
    "**Q. If using the same dataset to do this analysis, do you feel like we're p-hacking? If so, what can we do with it? **"
   ]
  },
  {
   "cell_type": "markdown",
   "metadata": {},
   "source": [
    "**A.**  If we want to test the above for instructors we might as well re-sample or use a different set of data. There are chances that this particular dataset is biased for instructors. Using a new approach of hypothesis testing is also a good idea with a different dataset to reject the null hypothesis. "
   ]
  },
  {
   "cell_type": "markdown",
   "metadata": {},
   "source": [
    "### Task D. Chi-squared test "
   ]
  },
  {
   "cell_type": "markdown",
   "metadata": {},
   "source": [
    "There are tens of different hypothesis testing methods. It's impossible to cover all of them in one week. Given that this is an important topic in statistics, I highly recommend using your free time to learn some other popular ones such as <a href=\"https://en.wikipedia.org/wiki/Chi-squared_test\">Chi-Squired test</a>, <a href=\"https://en.wikipedia.org/wiki/G-test\">G-test</a>, <a href=\"https://en.wikipedia.org/wiki/Student%27s_t-test\">T-test</a>, and <a href=\"https://en.wikipedia.org/wiki/Mann%E2%80%93Whitney_U_test\">Mann–Whitney U test</a>.\n",
    "\n",
    "On the searchlog dataset, there are two categorical columns: `is_instructor` and `search_ui`. In Task D, your job is to first learn how a Chi-Squired test works by yourself and then use it to test whether `is_instructor` and `search_ui` are correlated. "
   ]
  },
  {
   "cell_type": "markdown",
   "metadata": {},
   "source": [
    "Please write code to compute the contingency table, the chi-squared stat, the degrees of freedom, and the p-value. Note that unlike Task C, you can call any function in an existing library. But, please make sure to understand how those functions are implemented. "
   ]
  },
  {
   "cell_type": "code",
   "execution_count": 71,
   "metadata": {},
   "outputs": [
    {
     "name": "stdout",
     "output_type": "stream",
     "text": [
      "Contingency table::\n",
      "search        A    B\n",
      "instructor          \n",
      "False       233  213\n",
      "True        115  120\n",
      "\n",
      "p value: 0.459393799574249 , chi square test:0.5473712356215867, degrees of freedom:1\n"
     ]
    }
   ],
   "source": [
    "#<-- Write Your Code -->\n",
    "import json\n",
    "from scipy.stats import chi2_contingency\n",
    "import pandas as pd\n",
    "\n",
    "data_a = []\n",
    "data_b = []\n",
    "data = []\n",
    "with open('data/searchlog.json') as f:\n",
    "    for line in f:\n",
    "        json_row = json.loads(line)\n",
    "        data.append(json_row)\n",
    "\n",
    "instructors = [d['is_instructor'] for d in data]\n",
    "searchui = [d['search_ui'] for d in data]\n",
    "\n",
    "\n",
    "df = pd.DataFrame(np.column_stack([instructors, searchui]), \n",
    "                               columns=['instructor', 'search'])\n",
    "\n",
    "table = pd.crosstab(df['instructor'], df['search'])\n",
    "\n",
    "print('Contingency table::')\n",
    "print(table)\n",
    "\n",
    "chi2, p, dof, expected = chi2_contingency(table)\n",
    "print ('\\np value: {} , chi square test:{}, degrees of freedom:{}'.format(p,chi2,dof))"
   ]
  },
  {
   "cell_type": "markdown",
   "metadata": {},
   "source": [
    "## Submission"
   ]
  },
  {
   "cell_type": "markdown",
   "metadata": {},
   "source": [
    "Complete Tasks A-D in this [notebook](https://github.com/sfu-db/bigdata-cmpt733/blob/master/Assignments/A8/A8.ipynb), and submit it to the CourSys activity Assignment 8."
   ]
  }
 ],
 "metadata": {
  "kernelspec": {
   "display_name": "Python 3",
   "language": "python",
   "name": "python3"
  },
  "language_info": {
   "codemirror_mode": {
    "name": "ipython",
    "version": 3
   },
   "file_extension": ".py",
   "mimetype": "text/x-python",
   "name": "python",
   "nbconvert_exporter": "python",
   "pygments_lexer": "ipython3",
   "version": "3.7.1"
  }
 },
 "nbformat": 4,
 "nbformat_minor": 2
}
