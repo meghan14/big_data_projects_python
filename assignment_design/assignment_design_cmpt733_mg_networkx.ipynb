{
 "cells": [
  {
   "cell_type": "markdown",
   "metadata": {},
   "source": [
    "### Problem statement.\n",
    "Social network analysis is an example of a widely faced issue in data science industry. eg. paper citations. \n",
    "(in case there is a problem with getting the dataset, feel free to change the scenario to US government choosing potential immigrants to their country based on their social media authencity. We figured out a way to do that) : https://www.nytimes.com/2019/06/02/us/us-visa-application-social-media.html\n",
    "Below we study a method to perform graphical network analysis and use them to create features for our learning. "
   ]
  },
  {
   "cell_type": "markdown",
   "metadata": {},
   "source": [
    "Dataset : http://snap.stanford.edu/data/ego-Facebook.html"
   ]
  },
  {
   "cell_type": "markdown",
   "metadata": {},
   "source": [
    "* say you are in the recruiting team of a company. and your company needs to hire data scientists.\n",
    "* Now since there are a lot of applicants, instead of going through their resumes (since all of the look the same anyway ;)), you plan on using their coorporate social media profile for finding the most \"renowned\" data scientists for your company. \n",
    "* Now, assume that luckily you also have data from linkedin with their connections and recommendations etc and you plan on doing some social network analysis. -- no data\n",
    "-----------------------------------------------------------------------------------------------\n",
    "##### Note : We will be using graph-tool for the demo. But you can feel free to use networkx (or any other tool) for graphical analysis\n",
    "* check A8 for notes on introduction. \n",
    "* Create 4000 records atleast (70% training 30% test)\n",
    "* Add noise to the data\n",
    "* remove columns of connections"
   ]
  },
  {
   "cell_type": "markdown",
   "metadata": {},
   "source": [
    "### Task 1:\n",
    "Find the betweenness centrality for each connection.\n",
    "    ----- Include the story behind using betweeness centrality. Save the image created (as A.png, will be used for submission later)\n",
    "    ----- Show them in a graphical format. (check how to make a graphical structure from networkx package.)\n",
    "    ----- include the code snippet that does the calculation if required using the networkx pkg"
   ]
  },
  {
   "cell_type": "code",
   "execution_count": 3,
   "metadata": {},
   "outputs": [
    {
     "data": {
      "text/html": [
       "<div>\n",
       "<style scoped>\n",
       "    .dataframe tbody tr th:only-of-type {\n",
       "        vertical-align: middle;\n",
       "    }\n",
       "\n",
       "    .dataframe tbody tr th {\n",
       "        vertical-align: top;\n",
       "    }\n",
       "\n",
       "    .dataframe thead th {\n",
       "        text-align: right;\n",
       "    }\n",
       "</style>\n",
       "<table border=\"1\" class=\"dataframe\">\n",
       "  <thead>\n",
       "    <tr style=\"text-align: right;\">\n",
       "      <th></th>\n",
       "      <th>0</th>\n",
       "      <th>1</th>\n",
       "    </tr>\n",
       "  </thead>\n",
       "  <tbody>\n",
       "    <tr>\n",
       "      <th>0</th>\n",
       "      <td>953</td>\n",
       "      <td>1323</td>\n",
       "    </tr>\n",
       "    <tr>\n",
       "      <th>1</th>\n",
       "      <td>1789</td>\n",
       "      <td>1707</td>\n",
       "    </tr>\n",
       "    <tr>\n",
       "      <th>2</th>\n",
       "      <td>1175</td>\n",
       "      <td>1059</td>\n",
       "    </tr>\n",
       "    <tr>\n",
       "      <th>3</th>\n",
       "      <td>1329</td>\n",
       "      <td>1559</td>\n",
       "    </tr>\n",
       "    <tr>\n",
       "      <th>4</th>\n",
       "      <td>1804</td>\n",
       "      <td>1898</td>\n",
       "    </tr>\n",
       "    <tr>\n",
       "      <th>5</th>\n",
       "      <td>1622</td>\n",
       "      <td>1520</td>\n",
       "    </tr>\n",
       "    <tr>\n",
       "      <th>6</th>\n",
       "      <td>1200</td>\n",
       "      <td>1202</td>\n",
       "    </tr>\n",
       "    <tr>\n",
       "      <th>7</th>\n",
       "      <td>1449</td>\n",
       "      <td>1836</td>\n",
       "    </tr>\n",
       "    <tr>\n",
       "      <th>8</th>\n",
       "      <td>1156</td>\n",
       "      <td>1605</td>\n",
       "    </tr>\n",
       "    <tr>\n",
       "      <th>9</th>\n",
       "      <td>1149</td>\n",
       "      <td>1559</td>\n",
       "    </tr>\n",
       "  </tbody>\n",
       "</table>\n",
       "</div>"
      ],
      "text/plain": [
       "      0     1\n",
       "0   953  1323\n",
       "1  1789  1707\n",
       "2  1175  1059\n",
       "3  1329  1559\n",
       "4  1804  1898\n",
       "5  1622  1520\n",
       "6  1200  1202\n",
       "7  1449  1836\n",
       "8  1156  1605\n",
       "9  1149  1559"
      ]
     },
     "execution_count": 3,
     "metadata": {},
     "output_type": "execute_result"
    }
   ],
   "source": [
    "from networkx import *\n",
    "import os\n",
    "import pandas as pd\n",
    "import matplotlib.pyplot as plt\n",
    "#from graph_tool.all import *\n",
    "\n",
    "source = \"data/facebook/\" #try reading from gzip file\n",
    "\n",
    "# Reading all *.edges files in dataframes.  \n",
    "files = [f for f in os.listdir(source) if f.endswith(\".edges\")]\n",
    "fs = files[:2] # remove this later just for testing. \n",
    "df = pd.DataFrame()\n",
    "for f in fs:\n",
    "    with open(source+f,'r') as fopen:\n",
    "        temp = pd.read_csv(fopen,sep=\" \",header=None)\n",
    "        fopen.close()\n",
    "        df = pd.concat([temp,df])\n",
    "df.head(10)"
   ]
  },
  {
   "cell_type": "code",
   "execution_count": 4,
   "metadata": {},
   "outputs": [
    {
     "data": {
      "image/png": "[encoded data removed]",
      "text/plain": [
       "<Figure size 432x288 with 1 Axes>"
      ]
     },
     "metadata": {},
     "output_type": "display_data"
    }
   ],
   "source": [
    "g= Graph(directed=True)\n",
    "for i,rows in df.head(10).iterrows():\n",
    "    g.add_edge(rows[0],rows[1])\n",
    "draw(g, with_labels=True)"
   ]
  },
  {
   "cell_type": "markdown",
   "metadata": {},
   "source": [
    "https://www.geeksforgeeks.org/betweenness-centrality-centrality-measure/"
   ]
  },
  {
   "cell_type": "code",
   "execution_count": 17,
   "metadata": {},
   "outputs": [
    {
     "ename": "NameError",
     "evalue": "name 'accumulate_basic' is not defined",
     "output_type": "error",
     "traceback": [
      "\u001b[1;31m---------------------------------------------------------------------------\u001b[0m",
      "\u001b[1;31mNameError\u001b[0m                                 Traceback (most recent call last)",
      "\u001b[1;32m<ipython-input-17-dd229557892d>\u001b[0m in \u001b[0;36m<module>\u001b[1;34m\u001b[0m\n\u001b[0;32m     31\u001b[0m     \u001b[0mbetweenness\u001b[0m \u001b[1;33m=\u001b[0m \u001b[0m_rescale\u001b[0m\u001b[1;33m(\u001b[0m\u001b[0mbetweenness\u001b[0m\u001b[1;33m,\u001b[0m \u001b[0mlen\u001b[0m\u001b[1;33m(\u001b[0m\u001b[0mG\u001b[0m\u001b[1;33m)\u001b[0m\u001b[1;33m,\u001b[0m \u001b[0mdirected\u001b[0m\u001b[1;33m=\u001b[0m\u001b[0mG\u001b[0m\u001b[1;33m.\u001b[0m\u001b[0mis_directed\u001b[0m\u001b[1;33m(\u001b[0m\u001b[1;33m)\u001b[0m\u001b[1;33m)\u001b[0m\u001b[1;33m\u001b[0m\u001b[1;33m\u001b[0m\u001b[0m\n\u001b[0;32m     32\u001b[0m     \u001b[1;32mreturn\u001b[0m \u001b[0mbetweenness\u001b[0m\u001b[1;33m\u001b[0m\u001b[1;33m\u001b[0m\u001b[0m\n\u001b[1;32m---> 33\u001b[1;33m \u001b[0mb\u001b[0m \u001b[1;33m=\u001b[0m \u001b[0mget_betweenness_centrality\u001b[0m\u001b[1;33m(\u001b[0m\u001b[0mg\u001b[0m\u001b[1;33m)\u001b[0m\u001b[1;33m\u001b[0m\u001b[1;33m\u001b[0m\u001b[0m\n\u001b[0m\u001b[0;32m     34\u001b[0m \u001b[1;32mfor\u001b[0m \u001b[0mi\u001b[0m \u001b[1;32min\u001b[0m \u001b[0mb\u001b[0m\u001b[1;33m.\u001b[0m\u001b[0mkeys\u001b[0m\u001b[1;33m(\u001b[0m\u001b[1;33m)\u001b[0m\u001b[1;33m:\u001b[0m\u001b[1;33m\u001b[0m\u001b[1;33m\u001b[0m\u001b[0m\n\u001b[0;32m     35\u001b[0m     \u001b[0mprint\u001b[0m\u001b[1;33m(\u001b[0m\u001b[1;34m\"{} {}\"\u001b[0m\u001b[1;33m.\u001b[0m\u001b[0mformat\u001b[0m\u001b[1;33m(\u001b[0m\u001b[0mi\u001b[0m\u001b[1;33m,\u001b[0m\u001b[0mb\u001b[0m\u001b[1;33m[\u001b[0m\u001b[0mi\u001b[0m\u001b[1;33m]\u001b[0m\u001b[1;33m)\u001b[0m\u001b[1;33m)\u001b[0m\u001b[1;33m\u001b[0m\u001b[1;33m\u001b[0m\u001b[0m\n",
      "\u001b[1;32m<ipython-input-17-dd229557892d>\u001b[0m in \u001b[0;36mget_betweenness_centrality\u001b[1;34m(G)\u001b[0m\n\u001b[0;32m     27\u001b[0m     \u001b[1;32mfor\u001b[0m \u001b[0ms\u001b[0m \u001b[1;32min\u001b[0m \u001b[0mnodes\u001b[0m\u001b[1;33m:\u001b[0m\u001b[1;33m\u001b[0m\u001b[1;33m\u001b[0m\u001b[0m\n\u001b[0;32m     28\u001b[0m         \u001b[0mP\u001b[0m \u001b[1;33m=\u001b[0m \u001b[0msingle_source_dijkstra_path\u001b[0m\u001b[1;33m(\u001b[0m\u001b[0mG\u001b[0m\u001b[1;33m,\u001b[0m \u001b[0ms\u001b[0m\u001b[1;33m,\u001b[0m \u001b[1;36m1\u001b[0m\u001b[1;33m)\u001b[0m\u001b[1;33m\u001b[0m\u001b[1;33m\u001b[0m\u001b[0m\n\u001b[1;32m---> 29\u001b[1;33m         \u001b[0mbetweenness\u001b[0m \u001b[1;33m=\u001b[0m \u001b[0maccumulate_basic\u001b[0m\u001b[1;33m(\u001b[0m\u001b[0mbetweenness\u001b[0m\u001b[1;33m,\u001b[0m \u001b[0mS\u001b[0m\u001b[1;33m,\u001b[0m \u001b[0mP\u001b[0m\u001b[1;33m,\u001b[0m \u001b[0msigma\u001b[0m\u001b[1;33m,\u001b[0m \u001b[0ms\u001b[0m\u001b[1;33m)\u001b[0m\u001b[1;33m\u001b[0m\u001b[1;33m\u001b[0m\u001b[0m\n\u001b[0m\u001b[0;32m     30\u001b[0m \u001b[1;33m\u001b[0m\u001b[0m\n\u001b[0;32m     31\u001b[0m     \u001b[0mbetweenness\u001b[0m \u001b[1;33m=\u001b[0m \u001b[0m_rescale\u001b[0m\u001b[1;33m(\u001b[0m\u001b[0mbetweenness\u001b[0m\u001b[1;33m,\u001b[0m \u001b[0mlen\u001b[0m\u001b[1;33m(\u001b[0m\u001b[0mG\u001b[0m\u001b[1;33m)\u001b[0m\u001b[1;33m,\u001b[0m \u001b[0mdirected\u001b[0m\u001b[1;33m=\u001b[0m\u001b[0mG\u001b[0m\u001b[1;33m.\u001b[0m\u001b[0mis_directed\u001b[0m\u001b[1;33m(\u001b[0m\u001b[1;33m)\u001b[0m\u001b[1;33m)\u001b[0m\u001b[1;33m\u001b[0m\u001b[1;33m\u001b[0m\u001b[0m\n",
      "\u001b[1;31mNameError\u001b[0m: name 'accumulate_basic' is not defined"
     ]
    }
   ],
   "source": [
    "###### WRITE UR CODE HERE ############\n",
    "def get_betweenness_centrality(G):\n",
    "    \"\"\"Compute the shortest-path betweenness centrality for nodes. \n",
    "    Args \n",
    "    ---------- \n",
    "    G : graph \n",
    "      A NetworkX graph. \n",
    "      \n",
    "    normalized : bool, optional \n",
    "      If True the betweenness values are normalized by `2/((n-1)(n-2))` \n",
    "      for graphs, and `1/((n-1)(n-2))` for directed graphs where `n` \n",
    "      is the number of nodes in G. \n",
    "  \n",
    "    weight : None or string, optional (default=None) \n",
    "      If None, all edge weights are considered equal. \n",
    "      Otherwise holds the name of the edge attribute used as weight. \n",
    "  \n",
    "    endpoints : bool, optional \n",
    "      If True include the endpoints in the shortest path counts. \n",
    "  \n",
    "    Returns \n",
    "    ------- \n",
    "    nodes : dictionary \n",
    "       Dictionary of nodes with betweenness centrality as the value.       \n",
    "    \"\"\"\n",
    "    nodes = G.nodes()\n",
    "    for s in nodes: \n",
    "        P = single_source_dijkstra_path(G, s, 1) \n",
    "        betweenness = accumulate_basic(betweenness, S, P, sigma, s) \n",
    "\n",
    "    betweenness = _rescale(betweenness, len(G), directed=G.is_directed()) \n",
    "    return betweenness\n",
    "b = get_betweenness_centrality(g)\n",
    "for i in b.keys():\n",
    "    print(\"{} {}\".format(i,b[i]))"
   ]
  },
  {
   "cell_type": "code",
   "execution_count": 16,
   "metadata": {},
   "outputs": [
    {
     "ename": "NameError",
     "evalue": "name '_single_source_shortest_path_basic' is not defined",
     "output_type": "error",
     "traceback": [
      "\u001b[1;31m---------------------------------------------------------------------------\u001b[0m",
      "\u001b[1;31mNameError\u001b[0m                                 Traceback (most recent call last)",
      "\u001b[1;32m<ipython-input-16-ebc4f7cea39a>\u001b[0m in \u001b[0;36m<module>\u001b[1;34m\u001b[0m\n\u001b[0;32m     25\u001b[0m                            directed=G.is_directed(), k=k) \n\u001b[0;32m     26\u001b[0m     \u001b[1;32mreturn\u001b[0m \u001b[0mbetweenness\u001b[0m\u001b[1;33m\u001b[0m\u001b[1;33m\u001b[0m\u001b[0m\n\u001b[1;32m---> 27\u001b[1;33m \u001b[0mprint\u001b[0m\u001b[1;33m(\u001b[0m\u001b[0mbetweenness_centrality\u001b[0m\u001b[1;33m(\u001b[0m\u001b[0mg\u001b[0m\u001b[1;33m)\u001b[0m\u001b[1;33m)\u001b[0m\u001b[1;33m\u001b[0m\u001b[1;33m\u001b[0m\u001b[0m\n\u001b[0m",
      "\u001b[1;32m<ipython-input-16-ebc4f7cea39a>\u001b[0m in \u001b[0;36mbetweenness_centrality\u001b[1;34m(G, k, normalized, weight, endpoints, seed)\u001b[0m\n\u001b[0;32m     11\u001b[0m         \u001b[1;31m# single source shortest paths\u001b[0m\u001b[1;33m\u001b[0m\u001b[1;33m\u001b[0m\u001b[1;33m\u001b[0m\u001b[0m\n\u001b[0;32m     12\u001b[0m         \u001b[1;32mif\u001b[0m \u001b[0mweight\u001b[0m \u001b[1;32mis\u001b[0m \u001b[1;32mNone\u001b[0m\u001b[1;33m:\u001b[0m  \u001b[1;31m# use BFS\u001b[0m\u001b[1;33m\u001b[0m\u001b[1;33m\u001b[0m\u001b[0m\n\u001b[1;32m---> 13\u001b[1;33m             \u001b[0mS\u001b[0m\u001b[1;33m,\u001b[0m \u001b[0mP\u001b[0m\u001b[1;33m,\u001b[0m \u001b[0msigma\u001b[0m \u001b[1;33m=\u001b[0m \u001b[0m_single_source_shortest_path_basic\u001b[0m\u001b[1;33m(\u001b[0m\u001b[0mG\u001b[0m\u001b[1;33m,\u001b[0m \u001b[0ms\u001b[0m\u001b[1;33m)\u001b[0m\u001b[1;33m\u001b[0m\u001b[1;33m\u001b[0m\u001b[0m\n\u001b[0m\u001b[0;32m     14\u001b[0m         \u001b[1;32melse\u001b[0m\u001b[1;33m:\u001b[0m  \u001b[1;31m# use Dijkstra's algorithm\u001b[0m\u001b[1;33m\u001b[0m\u001b[1;33m\u001b[0m\u001b[0m\n\u001b[0;32m     15\u001b[0m             \u001b[0mS\u001b[0m\u001b[1;33m,\u001b[0m \u001b[0mP\u001b[0m\u001b[1;33m,\u001b[0m \u001b[0msigma\u001b[0m \u001b[1;33m=\u001b[0m \u001b[0m_single_source_dijkstra_path_basic\u001b[0m\u001b[1;33m(\u001b[0m\u001b[0mG\u001b[0m\u001b[1;33m,\u001b[0m \u001b[0ms\u001b[0m\u001b[1;33m,\u001b[0m \u001b[0mweight\u001b[0m\u001b[1;33m)\u001b[0m\u001b[1;33m\u001b[0m\u001b[1;33m\u001b[0m\u001b[0m\n",
      "\u001b[1;31mNameError\u001b[0m: name '_single_source_shortest_path_basic' is not defined"
     ]
    }
   ],
   "source": [
    "def betweenness_centrality(G, k=None, normalized=True, weight=None, \n",
    "                           endpoints=False, seed=None): \n",
    "    betweenness = dict.fromkeys(G, 0.0)  # b[v]=0 for v in G \n",
    "    if k is None: \n",
    "        nodes = G \n",
    "    else: \n",
    "        random.seed(seed) \n",
    "        nodes = random.sample(G.nodes(), k) \n",
    "    for s in nodes: \n",
    "  \n",
    "        # single source shortest paths \n",
    "        if weight is None:  # use BFS \n",
    "            S, P, sigma = _single_source_shortest_path_basic(G, s) \n",
    "        else:  # use Dijkstra's algorithm \n",
    "            S, P, sigma = _single_source_dijkstra_path_basic(G, s, weight) \n",
    "  \n",
    "        # accumulation \n",
    "        if endpoints: \n",
    "            betweenness = _accumulate_endpoints(betweenness, S, P, sigma, s) \n",
    "        else: \n",
    "            betweenness = _accumulate_basic(betweenness, S, P, sigma, s) \n",
    "  \n",
    "    # rescaling \n",
    "    betweenness = _rescale(betweenness, len(G), normalized=normalized, \n",
    "                           directed=G.is_directed(), k=k) \n",
    "    return betweenness "
   ]
  },
  {
   "cell_type": "code",
   "execution_count": 10,
   "metadata": {},
   "outputs": [
    {
     "name": "stdout",
     "output_type": "stream",
     "text": [
      "953 5.006181057877139e-06\n",
      "1323 5.006181057877139e-06\n",
      "1789 5.006181057877139e-06\n",
      "1707 5.006181057877139e-06\n",
      "1175 5.006181057877139e-06\n",
      "1059 5.006181057877139e-06\n",
      "1329 0.4999999998997524\n",
      "1559 0.707106781044776\n",
      "1804 5.006181057877139e-06\n",
      "1898 5.006181057877139e-06\n",
      "1622 5.006181057877139e-06\n",
      "1520 5.006181057877139e-06\n",
      "1200 5.006181057877139e-06\n",
      "1202 5.006181057877139e-06\n",
      "1449 5.006181057877139e-06\n",
      "1836 5.006181057877139e-06\n",
      "1156 5.006181057877139e-06\n",
      "1605 5.006181057877139e-06\n",
      "1149 0.4999999998997524\n"
     ]
    }
   ],
   "source": [
    "### Find betweenness centrality\n",
    "#bet = betweenness_centrality(g)\n",
    "#for i in bet.keys():\n",
    "    #print(\"{} {}\".format(i,bet[i]))\n",
    "    \n",
    "### Find degree centrality    \n",
    "#deg = degree_centrality(g)\n",
    "#for i in deg.keys():\n",
    "    #print(\"{} {}\".format(i,deg[i]))\n",
    "\n",
    "### Find eigen centrality    \n",
    "eig = eigenvector_centrality(g)\n",
    "for i in eig.keys():\n",
    "    print(\"{} {}\".format(i,eig[i]))"
   ]
  },
  {
   "cell_type": "code",
   "execution_count": null,
   "metadata": {},
   "outputs": [],
   "source": [
    "def create_graph():\n",
    "    ''' Write code to create the graph from df\n",
    "    '''\n",
    "    g= Graph(directed=False) #Use for graphtool\n",
    "    "
   ]
  },
  {
   "cell_type": "markdown",
   "metadata": {},
   "source": [
    "### Task 2:\n",
    "Find the eighenvector centrality for each connection. \n",
    "    -----  Include the story behind using eighenvector centrality. Save the image created (as B.png, will be used for submission later)\n",
    "    ----- Show them in a graphical format. (check how to make a graphical structure from networkx package.) \n",
    "    ----- include the code snippet that does the calculation if required using the networkx pkg"
   ]
  },
  {
   "cell_type": "code",
   "execution_count": null,
   "metadata": {},
   "outputs": [],
   "source": []
  },
  {
   "cell_type": "markdown",
   "metadata": {},
   "source": [
    "### Task 3:\n",
    "Now as a part of this step, we expect you to use the above two created fields and use it one by one (along with original fields in the dataset) to train any of the three machine learning models (we studied) based on ones you think will be suitable for the problem set and compare the results. Based on the results obtained. Answer the questions below and submit the answer file as answer.txt. Remember to not exceed more than 3 sentences for each question.\n",
    "\n",
    "Hint: https://spark.apache.org/docs/latest/ml-tuning.html\n",
    "https://rawgit.com/sfu-db/bigdata-cmpt733/master/Assignments/A5/A5.html"
   ]
  },
  {
   "cell_type": "code",
   "execution_count": null,
   "metadata": {},
   "outputs": [],
   "source": []
  },
  {
   "cell_type": "markdown",
   "metadata": {},
   "source": [
    "### Task 4 :\n",
    "   * q1) Which 3 models did you choose and why? Explain reasons behind chosing these 3 ML models.\n",
    "   * q2) Compare the performance of these three models and explain. Why do you think you get such results. \n",
    "   * q3) What is the evaluation method you used?\n",
    "   * q4) Do you think adding the inferential feature vectors (Betweeness and eighenvector) for centrality was a good idea and why? Can you think of a different approach for solving this problem (other than Social Network Graphical analysis)"
   ]
  },
  {
   "cell_type": "markdown",
   "metadata": {},
   "source": [
    "Submit all the files in a zipped format under Coursys."
   ]
  },
  {
   "cell_type": "markdown",
   "metadata": {},
   "source": [
    "### Dataset Locations (potential links) :-\n",
    "* https://github.com/awesomedata/awesome-public-datasets\n",
    "  * https://github.com/awesomedata/awesome-public-datasets#complexnetworks\n",
    "  * https://github.com/awesomedata/awesome-public-datasets#socialnetworks\n",
    "  * https://github.com/awesomedata/awesome-public-datasets#searchengines\n",
    "  * http://www-personal.umich.edu/~mejn/netdata/\n",
    "  * https://www.kdnuggets.com/2014/08/interesting-social-media-datasets.html+\n",
    "  * google keyword (awesome public datasets social network)\n",
    "  * http://snap.stanford.edu/data/"
   ]
  }
 ],
 "metadata": {
  "kernelspec": {
   "display_name": "Python 3",
   "language": "python",
   "name": "python3"
  },
  "language_info": {
   "codemirror_mode": {
    "name": "ipython",
    "version": 3
   },
   "file_extension": ".py",
   "mimetype": "text/x-python",
   "name": "python",
   "nbconvert_exporter": "python",
   "pygments_lexer": "ipython3",
   "version": "3.7.3"
  }
 },
 "nbformat": 4,
 "nbformat_minor": 2
}
