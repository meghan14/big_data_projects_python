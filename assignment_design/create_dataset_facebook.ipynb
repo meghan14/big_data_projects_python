{
 "cells": [
  {
   "cell_type": "code",
   "execution_count": 2,
   "metadata": {},
   "outputs": [],
   "source": [
    "import os\n",
    "import numpy as np\n",
    "import pandas as pd"
   ]
  },
  {
   "cell_type": "code",
   "execution_count": 14,
   "metadata": {},
   "outputs": [
    {
     "data": {
      "text/html": [
       "<div>\n",
       "<style scoped>\n",
       "    .dataframe tbody tr th:only-of-type {\n",
       "        vertical-align: middle;\n",
       "    }\n",
       "\n",
       "    .dataframe tbody tr th {\n",
       "        vertical-align: top;\n",
       "    }\n",
       "\n",
       "    .dataframe thead th {\n",
       "        text-align: right;\n",
       "    }\n",
       "</style>\n",
       "<table border=\"1\" class=\"dataframe\">\n",
       "  <thead>\n",
       "    <tr style=\"text-align: right;\">\n",
       "      <th></th>\n",
       "      <th>node0</th>\n",
       "      <th>node1</th>\n",
       "    </tr>\n",
       "  </thead>\n",
       "  <tbody>\n",
       "    <tr>\n",
       "      <th>0</th>\n",
       "      <td>881</td>\n",
       "      <td>858</td>\n",
       "    </tr>\n",
       "    <tr>\n",
       "      <th>1</th>\n",
       "      <td>828</td>\n",
       "      <td>697</td>\n",
       "    </tr>\n",
       "    <tr>\n",
       "      <th>2</th>\n",
       "      <td>884</td>\n",
       "      <td>864</td>\n",
       "    </tr>\n",
       "    <tr>\n",
       "      <th>3</th>\n",
       "      <td>856</td>\n",
       "      <td>869</td>\n",
       "    </tr>\n",
       "    <tr>\n",
       "      <th>4</th>\n",
       "      <td>889</td>\n",
       "      <td>856</td>\n",
       "    </tr>\n",
       "  </tbody>\n",
       "</table>\n",
       "</div>"
      ],
      "text/plain": [
       "   node0  node1\n",
       "0    881    858\n",
       "1    828    697\n",
       "2    884    864\n",
       "3    856    869\n",
       "4    889    856"
      ]
     },
     "execution_count": 14,
     "metadata": {},
     "output_type": "execute_result"
    }
   ],
   "source": [
    "source = \"data/facebook/\" #try reading from gzip file\n",
    "\n",
    "# Reading all *.edges files in dataframes.  \n",
    "files = [f for f in os.listdir(source) if f.endswith(\".edges\")]\n",
    "#fs = files[:2] # remove this later just for testing. \n",
    "df = pd.DataFrame()\n",
    "for f in files:\n",
    "    with open(source+f,'r') as fopen:\n",
    "        temp = pd.read_csv(fopen,sep=\" \",header=None)\n",
    "        fopen.close()\n",
    "        df = pd.concat([temp,df])\n",
    "df.columns = ['node0','node1']\n",
    "df.head()"
   ]
  },
  {
   "cell_type": "code",
   "execution_count": 63,
   "metadata": {},
   "outputs": [
    {
     "name": "stdout",
     "output_type": "stream",
     "text": [
      "<class 'pandas.core.frame.DataFrame'>\n",
      "Int64Index: 170174 entries, 0 to 5037\n",
      "Data columns (total 2 columns):\n",
      "node0    170174 non-null int64\n",
      "node1    170174 non-null int64\n",
      "dtypes: int64(2)\n",
      "memory usage: 3.9 MB\n",
      "<class 'pandas.core.frame.DataFrame'>\n",
      "Int64Index: 258408 entries, 0 to 88233\n",
      "Data columns (total 2 columns):\n",
      "node0    258408 non-null int64\n",
      "node1    258408 non-null int64\n",
      "dtypes: int64(2)\n",
      "memory usage: 5.9 MB\n"
     ]
    }
   ],
   "source": [
    "df.info()\n",
    "with open(\"data/facebook_combined.txt\",'r') as fopen:\n",
    "    df_comb = pd.read_csv(fopen,sep=\" \",header=None)\n",
    "    fopen.close()\n",
    "df_comb.columns = df.columns\n",
    "df = pd.concat([df,df_comb])\n",
    "df.info()"
   ]
  },
  {
   "cell_type": "code",
   "execution_count": 67,
   "metadata": {},
   "outputs": [
    {
     "name": "stdout",
     "output_type": "stream",
     "text": [
      "<class 'pandas.core.frame.DataFrame'>\n",
      "Int64Index: 110755 entries, 0 to 45346\n",
      "Data columns (total 2 columns):\n",
      "node0    110755 non-null int64\n",
      "node1    110755 non-null int64\n",
      "dtypes: int64(2)\n",
      "memory usage: 2.5 MB\n"
     ]
    }
   ],
   "source": [
    "total_samples = 2000\n",
    "df_filtered = df[(df['node0']<=total_samples) & (df['node1']<=total_samples)] \n",
    "df_filtered.info()\n",
    "df_filtered.to_csv(\"data/edges_combined.csv\",index=False)"
   ]
  },
  {
   "cell_type": "code",
   "execution_count": 70,
   "metadata": {},
   "outputs": [
    {
     "data": {
      "text/html": [
       "<div>\n",
       "<style scoped>\n",
       "    .dataframe tbody tr th:only-of-type {\n",
       "        vertical-align: middle;\n",
       "    }\n",
       "\n",
       "    .dataframe tbody tr th {\n",
       "        vertical-align: top;\n",
       "    }\n",
       "\n",
       "    .dataframe thead th {\n",
       "        text-align: right;\n",
       "    }\n",
       "</style>\n",
       "<table border=\"1\" class=\"dataframe\">\n",
       "  <thead>\n",
       "    <tr style=\"text-align: right;\">\n",
       "      <th></th>\n",
       "      <th>index</th>\n",
       "      <th>userid</th>\n",
       "      <th>age</th>\n",
       "      <th>dob_day</th>\n",
       "      <th>dob_year</th>\n",
       "      <th>dob_month</th>\n",
       "      <th>gender</th>\n",
       "      <th>tenure</th>\n",
       "      <th>friend_count</th>\n",
       "      <th>friendships_initiated</th>\n",
       "      <th>likes</th>\n",
       "      <th>likes_received</th>\n",
       "      <th>mobile_likes</th>\n",
       "      <th>mobile_likes_received</th>\n",
       "      <th>www_likes</th>\n",
       "      <th>www_likes_received</th>\n",
       "      <th>viable_candidate</th>\n",
       "    </tr>\n",
       "  </thead>\n",
       "  <tbody>\n",
       "    <tr>\n",
       "      <th>0</th>\n",
       "      <td>53460</td>\n",
       "      <td>1576816</td>\n",
       "      <td>21</td>\n",
       "      <td>5</td>\n",
       "      <td>1992</td>\n",
       "      <td>4</td>\n",
       "      <td>female</td>\n",
       "      <td>603.0</td>\n",
       "      <td>95</td>\n",
       "      <td>18</td>\n",
       "      <td>2</td>\n",
       "      <td>3</td>\n",
       "      <td>2</td>\n",
       "      <td>2</td>\n",
       "      <td>0</td>\n",
       "      <td>1</td>\n",
       "      <td>1</td>\n",
       "    </tr>\n",
       "    <tr>\n",
       "      <th>1</th>\n",
       "      <td>276</td>\n",
       "      <td>1908036</td>\n",
       "      <td>19</td>\n",
       "      <td>5</td>\n",
       "      <td>1994</td>\n",
       "      <td>4</td>\n",
       "      <td>male</td>\n",
       "      <td>2.0</td>\n",
       "      <td>0</td>\n",
       "      <td>0</td>\n",
       "      <td>0</td>\n",
       "      <td>0</td>\n",
       "      <td>0</td>\n",
       "      <td>0</td>\n",
       "      <td>0</td>\n",
       "      <td>0</td>\n",
       "      <td>0</td>\n",
       "    </tr>\n",
       "    <tr>\n",
       "      <th>2</th>\n",
       "      <td>53436</td>\n",
       "      <td>1710170</td>\n",
       "      <td>14</td>\n",
       "      <td>5</td>\n",
       "      <td>1999</td>\n",
       "      <td>2</td>\n",
       "      <td>male</td>\n",
       "      <td>82.0</td>\n",
       "      <td>96</td>\n",
       "      <td>88</td>\n",
       "      <td>2</td>\n",
       "      <td>0</td>\n",
       "      <td>2</td>\n",
       "      <td>0</td>\n",
       "      <td>0</td>\n",
       "      <td>0</td>\n",
       "      <td>1</td>\n",
       "    </tr>\n",
       "    <tr>\n",
       "      <th>3</th>\n",
       "      <td>59694</td>\n",
       "      <td>2015007</td>\n",
       "      <td>17</td>\n",
       "      <td>26</td>\n",
       "      <td>1996</td>\n",
       "      <td>7</td>\n",
       "      <td>male</td>\n",
       "      <td>224.0</td>\n",
       "      <td>117</td>\n",
       "      <td>96</td>\n",
       "      <td>12</td>\n",
       "      <td>7</td>\n",
       "      <td>12</td>\n",
       "      <td>7</td>\n",
       "      <td>0</td>\n",
       "      <td>0</td>\n",
       "      <td>0</td>\n",
       "    </tr>\n",
       "    <tr>\n",
       "      <th>4</th>\n",
       "      <td>66082</td>\n",
       "      <td>1189104</td>\n",
       "      <td>20</td>\n",
       "      <td>26</td>\n",
       "      <td>1993</td>\n",
       "      <td>7</td>\n",
       "      <td>male</td>\n",
       "      <td>90.0</td>\n",
       "      <td>148</td>\n",
       "      <td>132</td>\n",
       "      <td>247</td>\n",
       "      <td>25</td>\n",
       "      <td>243</td>\n",
       "      <td>15</td>\n",
       "      <td>4</td>\n",
       "      <td>10</td>\n",
       "      <td>1</td>\n",
       "    </tr>\n",
       "  </tbody>\n",
       "</table>\n",
       "</div>"
      ],
      "text/plain": [
       "   index   userid  age  dob_day  dob_year  dob_month  gender  tenure  \\\n",
       "0  53460  1576816   21        5      1992          4  female   603.0   \n",
       "1    276  1908036   19        5      1994          4    male     2.0   \n",
       "2  53436  1710170   14        5      1999          2    male    82.0   \n",
       "3  59694  2015007   17       26      1996          7    male   224.0   \n",
       "4  66082  1189104   20       26      1993          7    male    90.0   \n",
       "\n",
       "   friend_count  friendships_initiated  likes  likes_received  mobile_likes  \\\n",
       "0            95                     18      2               3             2   \n",
       "1             0                      0      0               0             0   \n",
       "2            96                     88      2               0             2   \n",
       "3           117                     96     12               7            12   \n",
       "4           148                    132    247              25           243   \n",
       "\n",
       "   mobile_likes_received  www_likes  www_likes_received  viable_candidate  \n",
       "0                      2          0                   1                 1  \n",
       "1                      0          0                   0                 0  \n",
       "2                      0          0                   0                 1  \n",
       "3                      7          0                   0                 0  \n",
       "4                     15          4                  10                 1  "
      ]
     },
     "execution_count": 70,
     "metadata": {},
     "output_type": "execute_result"
    }
   ],
   "source": [
    "#### Creating dataset for uder details \n",
    "source_path = \"data/pseudo_facebook.csv\"\n",
    "det_df = pd.read_csv(source_path,sep=',',header=0)\n",
    "det_df['viable_candidate'] = [random.randint(0,1) for i in det_df.index]\n",
    "#det_df.head()\n",
    "sample_df = det_df.sample(n=total_samples,replace=False,axis=0)\n",
    "sample_df = sample_df.reset_index()\n",
    "sample_df.to_csv(\"data/filtered_facebook_{}.csv\".format(total_samples),index=True)\n",
    "sample_df.head()"
   ]
  },
  {
   "cell_type": "code",
   "execution_count": 71,
   "metadata": {},
   "outputs": [
    {
     "data": {
      "text/plain": [
       "1020"
      ]
     },
     "execution_count": 71,
     "metadata": {},
     "output_type": "execute_result"
    }
   ],
   "source": [
    "sample_df['viable_candidate'].sum()"
   ]
  },
  {
   "cell_type": "code",
   "execution_count": null,
   "metadata": {},
   "outputs": [],
   "source": [
    "### separate for training and test dataset "
   ]
  }
 ],
 "metadata": {
  "kernelspec": {
   "display_name": "Python 3",
   "language": "python",
   "name": "python3"
  },
  "language_info": {
   "codemirror_mode": {
    "name": "ipython",
    "version": 3
   },
   "file_extension": ".py",
   "mimetype": "text/x-python",
   "name": "python",
   "nbconvert_exporter": "python",
   "pygments_lexer": "ipython3",
   "version": "3.7.1"
  }
 },
 "nbformat": 4,
 "nbformat_minor": 2
}
