{
 "cells": [
  {
   "cell_type": "code",
   "execution_count": 1,
   "metadata": {},
   "outputs": [],
   "source": [
    "import os\n",
    "import numpy as np\n",
    "import pandas as pd"
   ]
  },
  {
   "cell_type": "code",
   "execution_count": 2,
   "metadata": {},
   "outputs": [
    {
     "data": {
      "text/html": [
       "<div>\n",
       "<style scoped>\n",
       "    .dataframe tbody tr th:only-of-type {\n",
       "        vertical-align: middle;\n",
       "    }\n",
       "\n",
       "    .dataframe tbody tr th {\n",
       "        vertical-align: top;\n",
       "    }\n",
       "\n",
       "    .dataframe thead th {\n",
       "        text-align: right;\n",
       "    }\n",
       "</style>\n",
       "<table border=\"1\" class=\"dataframe\">\n",
       "  <thead>\n",
       "    <tr style=\"text-align: right;\">\n",
       "      <th></th>\n",
       "      <th>node0</th>\n",
       "      <th>node1</th>\n",
       "    </tr>\n",
       "  </thead>\n",
       "  <tbody>\n",
       "    <tr>\n",
       "      <th>0</th>\n",
       "      <td>881</td>\n",
       "      <td>858</td>\n",
       "    </tr>\n",
       "    <tr>\n",
       "      <th>1</th>\n",
       "      <td>828</td>\n",
       "      <td>697</td>\n",
       "    </tr>\n",
       "    <tr>\n",
       "      <th>2</th>\n",
       "      <td>884</td>\n",
       "      <td>864</td>\n",
       "    </tr>\n",
       "    <tr>\n",
       "      <th>3</th>\n",
       "      <td>856</td>\n",
       "      <td>869</td>\n",
       "    </tr>\n",
       "    <tr>\n",
       "      <th>4</th>\n",
       "      <td>889</td>\n",
       "      <td>856</td>\n",
       "    </tr>\n",
       "  </tbody>\n",
       "</table>\n",
       "</div>"
      ],
      "text/plain": [
       "   node0  node1\n",
       "0    881    858\n",
       "1    828    697\n",
       "2    884    864\n",
       "3    856    869\n",
       "4    889    856"
      ]
     },
     "execution_count": 2,
     "metadata": {},
     "output_type": "execute_result"
    }
   ],
   "source": [
    "source = \"data/facebook/\" #try reading from gzip file\n",
    "\n",
    "# Reading all *.edges files in dataframes.  \n",
    "files = [f for f in os.listdir(source) if f.endswith(\".edges\")]\n",
    "#fs = files[:2] # remove this later just for testing. \n",
    "df = pd.DataFrame()\n",
    "for f in files:\n",
    "    with open(source+f,'r') as fopen:\n",
    "        temp = pd.read_csv(fopen,sep=\" \",header=None)\n",
    "        fopen.close()\n",
    "        df = pd.concat([temp,df])\n",
    "df.columns = ['node0','node1']\n",
    "df.head()"
   ]
  },
  {
   "cell_type": "code",
   "execution_count": 3,
   "metadata": {},
   "outputs": [
    {
     "name": "stdout",
     "output_type": "stream",
     "text": [
      "<class 'pandas.core.frame.DataFrame'>\n",
      "Int64Index: 170174 entries, 0 to 5037\n",
      "Data columns (total 2 columns):\n",
      "node0    170174 non-null int64\n",
      "node1    170174 non-null int64\n",
      "dtypes: int64(2)\n",
      "memory usage: 3.9 MB\n",
      "<class 'pandas.core.frame.DataFrame'>\n",
      "Int64Index: 258408 entries, 0 to 88233\n",
      "Data columns (total 2 columns):\n",
      "node0    258408 non-null int64\n",
      "node1    258408 non-null int64\n",
      "dtypes: int64(2)\n",
      "memory usage: 5.9 MB\n"
     ]
    }
   ],
   "source": [
    "df.info()\n",
    "with open(\"data/facebook_combined.txt\",'r') as fopen:\n",
    "    df_comb = pd.read_csv(fopen,sep=\" \",header=None)\n",
    "    fopen.close()\n",
    "df_comb.columns = df.columns\n",
    "df = pd.concat([df,df_comb])\n",
    "df.info()"
   ]
  },
  {
   "cell_type": "code",
   "execution_count": 4,
   "metadata": {},
   "outputs": [
    {
     "name": "stdout",
     "output_type": "stream",
     "text": [
      "<class 'pandas.core.frame.DataFrame'>\n",
      "Int64Index: 258004 entries, 0 to 88164\n",
      "Data columns (total 2 columns):\n",
      "node0    258004 non-null int64\n",
      "node1    258004 non-null int64\n",
      "dtypes: int64(2)\n",
      "memory usage: 5.9 MB\n"
     ]
    }
   ],
   "source": [
    "total_samples = 4000\n",
    "df_filtered = df[(df['node0']<=total_samples) & (df['node1']<=total_samples)] \n",
    "df_filtered.info()\n",
    "#df_filtered.to_csv(\"data/dataset/facebook_edges.csv\",index=False)"
   ]
  },
  {
   "cell_type": "code",
   "execution_count": 21,
   "metadata": {},
   "outputs": [
    {
     "data": {
      "text/html": [
       "<div>\n",
       "<style scoped>\n",
       "    .dataframe tbody tr th:only-of-type {\n",
       "        vertical-align: middle;\n",
       "    }\n",
       "\n",
       "    .dataframe tbody tr th {\n",
       "        vertical-align: top;\n",
       "    }\n",
       "\n",
       "    .dataframe thead th {\n",
       "        text-align: right;\n",
       "    }\n",
       "</style>\n",
       "<table border=\"1\" class=\"dataframe\">\n",
       "  <thead>\n",
       "    <tr style=\"text-align: right;\">\n",
       "      <th></th>\n",
       "      <th>index</th>\n",
       "      <th>age</th>\n",
       "      <th>gender</th>\n",
       "      <th>tenure</th>\n",
       "      <th>friend_count</th>\n",
       "      <th>friendships_initiated</th>\n",
       "      <th>likes</th>\n",
       "      <th>likes_received</th>\n",
       "      <th>mobile_likes</th>\n",
       "      <th>mobile_likes_received</th>\n",
       "      <th>www_likes</th>\n",
       "      <th>www_likes_received</th>\n",
       "    </tr>\n",
       "  </thead>\n",
       "  <tbody>\n",
       "    <tr>\n",
       "      <th>0</th>\n",
       "      <td>65314</td>\n",
       "      <td>46</td>\n",
       "      <td>male</td>\n",
       "      <td>1569.0</td>\n",
       "      <td>146</td>\n",
       "      <td>69</td>\n",
       "      <td>1</td>\n",
       "      <td>0</td>\n",
       "      <td>0</td>\n",
       "      <td>0</td>\n",
       "      <td>1</td>\n",
       "      <td>0</td>\n",
       "    </tr>\n",
       "    <tr>\n",
       "      <th>1</th>\n",
       "      <td>32528</td>\n",
       "      <td>29</td>\n",
       "      <td>male</td>\n",
       "      <td>705.0</td>\n",
       "      <td>44</td>\n",
       "      <td>10</td>\n",
       "      <td>0</td>\n",
       "      <td>0</td>\n",
       "      <td>0</td>\n",
       "      <td>0</td>\n",
       "      <td>0</td>\n",
       "      <td>0</td>\n",
       "    </tr>\n",
       "    <tr>\n",
       "      <th>2</th>\n",
       "      <td>46197</td>\n",
       "      <td>16</td>\n",
       "      <td>female</td>\n",
       "      <td>528.0</td>\n",
       "      <td>72</td>\n",
       "      <td>29</td>\n",
       "      <td>326</td>\n",
       "      <td>12</td>\n",
       "      <td>326</td>\n",
       "      <td>11</td>\n",
       "      <td>0</td>\n",
       "      <td>1</td>\n",
       "    </tr>\n",
       "    <tr>\n",
       "      <th>3</th>\n",
       "      <td>62214</td>\n",
       "      <td>15</td>\n",
       "      <td>male</td>\n",
       "      <td>425.0</td>\n",
       "      <td>133</td>\n",
       "      <td>105</td>\n",
       "      <td>0</td>\n",
       "      <td>0</td>\n",
       "      <td>0</td>\n",
       "      <td>0</td>\n",
       "      <td>0</td>\n",
       "      <td>0</td>\n",
       "    </tr>\n",
       "    <tr>\n",
       "      <th>4</th>\n",
       "      <td>53772</td>\n",
       "      <td>43</td>\n",
       "      <td>female</td>\n",
       "      <td>303.0</td>\n",
       "      <td>96</td>\n",
       "      <td>51</td>\n",
       "      <td>18</td>\n",
       "      <td>49</td>\n",
       "      <td>0</td>\n",
       "      <td>17</td>\n",
       "      <td>18</td>\n",
       "      <td>32</td>\n",
       "    </tr>\n",
       "  </tbody>\n",
       "</table>\n",
       "</div>"
      ],
      "text/plain": [
       "   index  age  gender  tenure  friend_count  friendships_initiated  likes  \\\n",
       "0  65314   46    male  1569.0           146                     69      1   \n",
       "1  32528   29    male   705.0            44                     10      0   \n",
       "2  46197   16  female   528.0            72                     29    326   \n",
       "3  62214   15    male   425.0           133                    105      0   \n",
       "4  53772   43  female   303.0            96                     51     18   \n",
       "\n",
       "   likes_received  mobile_likes  mobile_likes_received  www_likes  \\\n",
       "0               0             0                      0          1   \n",
       "1               0             0                      0          0   \n",
       "2              12           326                     11          0   \n",
       "3               0             0                      0          0   \n",
       "4              49             0                     17         18   \n",
       "\n",
       "   www_likes_received  \n",
       "0                   0  \n",
       "1                   0  \n",
       "2                   1  \n",
       "3                   0  \n",
       "4                  32  "
      ]
     },
     "execution_count": 21,
     "metadata": {},
     "output_type": "execute_result"
    }
   ],
   "source": [
    "#### Creating dataset for uder details \n",
    "source_path = \"data/pseudo_facebook_final.csv\"\n",
    "det_df = pd.read_csv(source_path,sep=',',header=0)\n",
    "total = 500\n",
    "#det_df['viable_candidate'] = [random.randint(0,1) for i in det_df.index]\n",
    "#det_df.head()\n",
    "cols = ['age','gender','tenure','friend_count','friendships_initiated','likes','likes_received','mobile_likes','mobile_likes_received','www_likes','www_likes_received']\n",
    "sample_df = det_df.sample(n=total,replace=False,axis=0)\n",
    "sample_df = sample_df.reset_index()\n",
    "sample_df.to_csv(\"data/dataset/facebook_info_{}.csv\".format(total),index=True,columns=cols)\n",
    "\n",
    "sample_df.head()"
   ]
  },
  {
   "cell_type": "code",
   "execution_count": 22,
   "metadata": {},
   "outputs": [],
   "source": [
    "#sample_df.to_parquet(\"data/dataset/facebook_info.gzip\",compression='gzip',partition_cols = cols)\n",
    "sample_df.to_parquet(\"data/dataset/facebook_info.parquet\")"
   ]
  },
  {
   "cell_type": "code",
   "execution_count": 8,
   "metadata": {},
   "outputs": [
    {
     "data": {
      "text/plain": [
       "['age',\n",
       " 'dob_day',\n",
       " 'dob_year',\n",
       " 'dob_month',\n",
       " 'gender',\n",
       " 'tenure',\n",
       " 'friend_count',\n",
       " 'friendships_initiated',\n",
       " 'likes',\n",
       " 'likes_received',\n",
       " 'mobile_likes',\n",
       " 'mobile_likes_received',\n",
       " 'www_likes',\n",
       " 'www_likes_received']"
      ]
     },
     "execution_count": 8,
     "metadata": {},
     "output_type": "execute_result"
    }
   ],
   "source": [
    "### separate for training and test dataset \n",
    "l = \"age,dob_day,dob_year,dob_month,gender,tenure,friend_count,friendships_initiated,likes,likes_received,mobile_likes,mobile_likes_received,www_likes,www_likes_received\"\n",
    "l.split(',')"
   ]
  }
 ],
 "metadata": {
  "kernelspec": {
   "display_name": "Python 3",
   "language": "python",
   "name": "python3"
  },
  "language_info": {
   "codemirror_mode": {
    "name": "ipython",
    "version": 3
   },
   "file_extension": ".py",
   "mimetype": "text/x-python",
   "name": "python",
   "nbconvert_exporter": "python",
   "pygments_lexer": "ipython3",
   "version": "3.7.1"
  }
 },
 "nbformat": 4,
 "nbformat_minor": 2
}
