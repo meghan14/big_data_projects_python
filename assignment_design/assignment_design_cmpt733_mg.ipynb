{
 "cells": [
  {
   "cell_type": "markdown",
   "metadata": {},
   "source": [
    "### Problem statement.\n",
    "Social network analysis is an example of a widely faced issue in data science industry. eg. paper citations. \n",
    "(in case there is a problem with getting the dataset, feel free to change the scenario to US government choosing potential immigrants to their country based on their social media authencity. We figured out a way to do that) : https://www.nytimes.com/2019/06/02/us/us-visa-application-social-media.html\n",
    "Below we study a method to perform graphical network analysis and use them to create features for our learning. "
   ]
  },
  {
   "cell_type": "markdown",
   "metadata": {},
   "source": [
    "Dataset : http://snap.stanford.edu/data/ego-Twitter.html"
   ]
  },
  {
   "cell_type": "markdown",
   "metadata": {},
   "source": [
    "* say you are in the recruiting team of a company. and your company needs to hire data scientists.\n",
    "* Now since there are a lot of applicants, instead of going through their resumes (since all of the look the same anyway ;)), you plan on using their coorporate social media profile for finding the most \"renowned\" data scientists for your company. \n",
    "* Now, assume that luckily you also have data from linkedin with their connections and recommendations etc and you plan on doing some social network analysis. -- no data\n",
    "-----------------------------------------------------------------------------------------------\n",
    "##### Note : We will be using graph-tool for the demo. But you can feel free to use networkx (or any other tool) for graphical analysis"
   ]
  },
  {
   "cell_type": "markdown",
   "metadata": {},
   "source": [
    "### Task 1:\n",
    "Find the betweenness centrality for each connection.\n",
    "    ----- Include the story behind using betweeness centrality. Save the image created (as A.png, will be used for submission later)\n",
    "    ----- Show them in a graphical format. (check how to make a graphical structure from networkx package.)\n",
    "    ----- include the code snippet that does the calculation if required using the networkx pkg"
   ]
  },
  {
   "cell_type": "code",
   "execution_count": 10,
   "metadata": {},
   "outputs": [
    {
     "data": {
      "text/html": [
       "<div>\n",
       "<style scoped>\n",
       "    .dataframe tbody tr th:only-of-type {\n",
       "        vertical-align: middle;\n",
       "    }\n",
       "\n",
       "    .dataframe tbody tr th {\n",
       "        vertical-align: top;\n",
       "    }\n",
       "\n",
       "    .dataframe thead th {\n",
       "        text-align: right;\n",
       "    }\n",
       "</style>\n",
       "<table border=\"1\" class=\"dataframe\">\n",
       "  <thead>\n",
       "    <tr style=\"text-align: right;\">\n",
       "      <th></th>\n",
       "      <th>0</th>\n",
       "      <th>1</th>\n",
       "    </tr>\n",
       "  </thead>\n",
       "  <tbody>\n",
       "    <tr>\n",
       "      <th>0</th>\n",
       "      <td>72680406</td>\n",
       "      <td>11259362</td>\n",
       "    </tr>\n",
       "    <tr>\n",
       "      <th>1</th>\n",
       "      <td>16216637</td>\n",
       "      <td>767809</td>\n",
       "    </tr>\n",
       "    <tr>\n",
       "      <th>2</th>\n",
       "      <td>30690708</td>\n",
       "      <td>5992502</td>\n",
       "    </tr>\n",
       "    <tr>\n",
       "      <th>3</th>\n",
       "      <td>17859804</td>\n",
       "      <td>83876527</td>\n",
       "    </tr>\n",
       "    <tr>\n",
       "      <th>4</th>\n",
       "      <td>17859804</td>\n",
       "      <td>19681661</td>\n",
       "    </tr>\n",
       "  </tbody>\n",
       "</table>\n",
       "</div>"
      ],
      "text/plain": [
       "          0         1\n",
       "0  72680406  11259362\n",
       "1  16216637    767809\n",
       "2  30690708   5992502\n",
       "3  17859804  83876527\n",
       "4  17859804  19681661"
      ]
     },
     "execution_count": 10,
     "metadata": {},
     "output_type": "execute_result"
    }
   ],
   "source": [
    "import networkx as nx\n",
    "import os\n",
    "import pandas as pd\n",
    "import matplotlib.pyplot as plt\n",
    "#from graph_tool.all import *\n",
    "\n",
    "source = \"data/twitter.tar/twitter/\" #try reading from gzip file\n",
    "\n",
    "# Reading all *.edges files in dataframes.  \n",
    "files = [f for f in os.listdir(source) if f.endswith(\".edges\")]\n",
    "fs = files[:2] # remove this later just for testing. \n",
    "df = pd.DataFrame()\n",
    "for f in fs:\n",
    "    with open(source+f,'r') as fopen:\n",
    "        temp = pd.read_csv(fopen,sep=\" \",header=None)\n",
    "        fopen.close()\n",
    "        df = pd.concat([temp,df])\n",
    "df.head()"
   ]
  },
  {
   "cell_type": "code",
   "execution_count": null,
   "metadata": {},
   "outputs": [],
   "source": [
    "def create_graph():\n",
    "    ''' Write code to create the graph from df\n",
    "    '''\n",
    "    graph = nx.graph() #Use for graphtool\n",
    "    "
   ]
  },
  {
   "cell_type": "markdown",
   "metadata": {},
   "source": [
    "### Task 2:\n",
    "Find the eighenvector centrality for each connection. \n",
    "    -----  Include the story behind using eighenvector centrality. Save the image created (as B.png, will be used for submission later)\n",
    "    ----- Show them in a graphical format. (check how to make a graphical structure from networkx package.) \n",
    "    ----- include the code snippet that does the calculation if required using the networkx pkg"
   ]
  },
  {
   "cell_type": "code",
   "execution_count": null,
   "metadata": {},
   "outputs": [],
   "source": []
  },
  {
   "cell_type": "markdown",
   "metadata": {},
   "source": [
    "### Task 3:\n",
    "Now as a part of this step, we expect you to use the above two created fields and use it one by one (along with original fields in the dataset) to train any of the three machine learning models (we studied) based on ones you think will be suitable for the problem set and compare the results. Based on the results obtained. Answer the questions below and submit the answer file as answer.txt. Remember to not exceed more than 3 sentences for each question."
   ]
  },
  {
   "cell_type": "markdown",
   "metadata": {},
   "source": [
    "### Task 4 :\n",
    "   * q1) Which 3 models did you choose and why? Explain reasons behind chosing these 3 ML models.\n",
    "   * q2) Compare the performance of these three models and explain. Why do you think you get such results. \n",
    "   * q3) What is the evaluation method you used?\n",
    "   * q4) Do you think adding the inferential feature vectors (Betweeness and eighenvector) for centrality was a good idea and why? Can you think of a different approach for solving this problem (other than Social Network Graphical analysis)"
   ]
  },
  {
   "cell_type": "markdown",
   "metadata": {},
   "source": [
    "Submit all the files in a zipped format under Coursys."
   ]
  },
  {
   "cell_type": "markdown",
   "metadata": {},
   "source": [
    "### Dataset Locations (potential links) :-\n",
    "* https://github.com/awesomedata/awesome-public-datasets\n",
    "  * https://github.com/awesomedata/awesome-public-datasets#complexnetworks\n",
    "  * https://github.com/awesomedata/awesome-public-datasets#socialnetworks\n",
    "  * https://github.com/awesomedata/awesome-public-datasets#searchengines\n",
    "  * http://www-personal.umich.edu/~mejn/netdata/\n",
    "  * https://www.kdnuggets.com/2014/08/interesting-social-media-datasets.html+\n",
    "  * google keyword (awesome public datasets social network)\n",
    "  * http://snap.stanford.edu/data/"
   ]
  }
 ],
 "metadata": {
  "kernelspec": {
   "display_name": "Python 3",
   "language": "python",
   "name": "python3"
  },
  "language_info": {
   "codemirror_mode": {
    "name": "ipython",
    "version": 3
   },
   "file_extension": ".py",
   "mimetype": "text/x-python",
   "name": "python",
   "nbconvert_exporter": "python",
   "pygments_lexer": "ipython3",
   "version": "3.7.1"
  }
 },
 "nbformat": 4,
 "nbformat_minor": 2
}
