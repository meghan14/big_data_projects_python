{
 "cells": [
  {
   "cell_type": "markdown",
   "metadata": {},
   "source": [
    "## Assignment : Graphical Social Network analysis and ML \n",
    "Social network analysis is an example of a widely faced issue in data science industry. eg. paper citations. \n",
    "(in case there is a problem with getting the dataset, feel free to change the scenario to US government choosing potential immigrants to their country based on their social media authencity. We figured out a way to do that) : https://www.nytimes.com/2019/06/02/us/us-visa-application-social-media.html\n",
    "Below we study a method to perform graphical network analysis and use them to create features for our learning. "
   ]
  },
  {
   "cell_type": "markdown",
   "metadata": {},
   "source": [
    "Dataset : http://snap.stanford.edu/data/ego-Facebook.html"
   ]
  },
  {
   "cell_type": "markdown",
   "metadata": {},
   "source": [
    "* say you are in the recruiting team of a company. and your company needs to hire data scientists.\n",
    "* Now since there are a lot of applicants, instead of going through their resumes (since all of the look the same anyway ;)), you plan on using their coorporate social media profile for finding the most \"renowned\" data scientists for your company. \n",
    "* Now, assume that luckily you also have data from linkedin with their connections and recommendations etc and you plan on doing some social network analysis. -- no data\n",
    "-----------------------------------------------------------------------------------------------\n",
    "##### Note : We will be using graph-tool for the demo. But you can feel free to use networkx (or any other tool) for graphical analysis\n",
    "* check A8 for notes on introduction. \n",
    "* Create 4000 records atleast (70% training 30% test)\n",
    "* Add noise to the data\n",
    "* remove columns of connections"
   ]
  },
  {
   "cell_type": "markdown",
   "metadata": {},
   "source": [
    "## Part 1: Centrality Measures"
   ]
  },
  {
   "cell_type": "markdown",
   "metadata": {},
   "source": [
    "* The data collected from Facebook is spread out in two locations : \n",
    "       * facebook_data.csv : \n",
    "       * edges.csv : \n",
    "We first need to read the data in pandas DataFrame and then implement algorithms related to centrality measures (elaborate) to understand the importance in graphical analysis for social media. "
   ]
  },
  {
   "cell_type": "code",
   "execution_count": 22,
   "metadata": {},
   "outputs": [
    {
     "data": {
      "text/html": [
       "<div>\n",
       "<style scoped>\n",
       "    .dataframe tbody tr th:only-of-type {\n",
       "        vertical-align: middle;\n",
       "    }\n",
       "\n",
       "    .dataframe tbody tr th {\n",
       "        vertical-align: top;\n",
       "    }\n",
       "\n",
       "    .dataframe thead th {\n",
       "        text-align: right;\n",
       "    }\n",
       "</style>\n",
       "<table border=\"1\" class=\"dataframe\">\n",
       "  <thead>\n",
       "    <tr style=\"text-align: right;\">\n",
       "      <th></th>\n",
       "      <th>node0</th>\n",
       "      <th>node1</th>\n",
       "    </tr>\n",
       "  </thead>\n",
       "  <tbody>\n",
       "    <tr>\n",
       "      <th>0</th>\n",
       "      <td>881</td>\n",
       "      <td>858</td>\n",
       "    </tr>\n",
       "    <tr>\n",
       "      <th>1</th>\n",
       "      <td>828</td>\n",
       "      <td>697</td>\n",
       "    </tr>\n",
       "    <tr>\n",
       "      <th>2</th>\n",
       "      <td>884</td>\n",
       "      <td>864</td>\n",
       "    </tr>\n",
       "    <tr>\n",
       "      <th>3</th>\n",
       "      <td>856</td>\n",
       "      <td>869</td>\n",
       "    </tr>\n",
       "    <tr>\n",
       "      <th>4</th>\n",
       "      <td>889</td>\n",
       "      <td>856</td>\n",
       "    </tr>\n",
       "    <tr>\n",
       "      <th>5</th>\n",
       "      <td>872</td>\n",
       "      <td>873</td>\n",
       "    </tr>\n",
       "    <tr>\n",
       "      <th>6</th>\n",
       "      <td>719</td>\n",
       "      <td>713</td>\n",
       "    </tr>\n",
       "    <tr>\n",
       "      <th>7</th>\n",
       "      <td>861</td>\n",
       "      <td>863</td>\n",
       "    </tr>\n",
       "    <tr>\n",
       "      <th>8</th>\n",
       "      <td>840</td>\n",
       "      <td>803</td>\n",
       "    </tr>\n",
       "    <tr>\n",
       "      <th>9</th>\n",
       "      <td>864</td>\n",
       "      <td>856</td>\n",
       "    </tr>\n",
       "  </tbody>\n",
       "</table>\n",
       "</div>"
      ],
      "text/plain": [
       "   node0  node1\n",
       "0    881    858\n",
       "1    828    697\n",
       "2    884    864\n",
       "3    856    869\n",
       "4    889    856\n",
       "5    872    873\n",
       "6    719    713\n",
       "7    861    863\n",
       "8    840    803\n",
       "9    864    856"
      ]
     },
     "execution_count": 22,
     "metadata": {},
     "output_type": "execute_result"
    }
   ],
   "source": [
    "from networkx import *\n",
    "import os\n",
    "import pandas as pd\n",
    "import matplotlib.pyplot as plt\n",
    "#from graph_tool.all import *\n",
    "\n",
    "source = \"data/\"\n",
    "df = pd.read_csv(source+\"edges.csv\")\n",
    "'''\n",
    "for f in fs:\n",
    "    with open(source+f,'r') as fopen:\n",
    "        temp = pd.read_csv(fopen,sep=\" \",header=None)\n",
    "        fopen.close()\n",
    "        df = pd.concat([temp,df])\n",
    "'''\n",
    "df.head(10)"
   ]
  },
  {
   "cell_type": "markdown",
   "metadata": {},
   "source": [
    "As a part of the first task, create a graph from the first `100` entries of the dataframe and save the image as A.png. Now, for every node find the number of adjacent nodes to each nodes and display the top 100 nodes with highest number of neighbors. Save this image as B.png"
   ]
  },
  {
   "cell_type": "code",
   "execution_count": 33,
   "metadata": {},
   "outputs": [
    {
     "data": {
      "image/png": "[encoded data removed]",
      "text/plain": [
       "<Figure size 432x288 with 1 Axes>"
      ]
     },
     "metadata": {},
     "output_type": "display_data"
    }
   ],
   "source": [
    "g= Graph(directed=True)\n",
    "for i,rows in df.head(100).iterrows():\n",
    "    g.add_edge(rows[0],rows[1])\n",
    "draw(g, with_labels=True)"
   ]
  },
  {
   "cell_type": "code",
   "execution_count": 30,
   "metadata": {},
   "outputs": [],
   "source": [
    "def get_friends(node):\n",
    "    return len([p for p in g.neighbors(node)])"
   ]
  },
  {
   "cell_type": "markdown",
   "metadata": {},
   "source": [
    "### Task 1a: Shortest Path and Degree Centrality"
   ]
  },
  {
   "cell_type": "code",
   "execution_count": 26,
   "metadata": {},
   "outputs": [
    {
     "name": "stdout",
     "output_type": "stream",
     "text": [
      "{881: 20.0, 858: 6.0, 828: 82.0, 697: 63.0, 884: 36.0, 864: 106.0, 856: 608.0, 869: 133.0, 889: 574.0, 872: 28.0, 873: 16.0, 719: 121.0, 713: 57.0, 861: 102.0, 863: 36.0, 840: 108.0, 803: 36.0, 745: 50.0, 805: 96.0, 865: 2.0, 857: 4.0, 874: 18.0, 708: 84.0, 823: 138.0, 885: 26.0, 870: 8.0, 871: 10.0, 888: 216.0, 825: 36.0, 774: 228.0, 729: 114.0, 769: 106.0, 800: 36.0, 819: 50.0, 859: 8.0, 876: 36.0, 887: 14.0, 895: 10.0, 890: 36.0, 810: 120.0, 879: 20.0, 753: 183.0, 830: 58.0, 747: 131.0, 776: 8.0, 772: 78.0, 804: 38.0, 886: 36.0, 893: 36.0, 811: 36.0, 867: 14.0, 868: 2.0, 878: 36.0, 877: 12.0, 882: 36.0, 894: 6.0}\n"
     ]
    }
   ],
   "source": [
    "n_spaths = dict.fromkeys(g,0.0)\n",
    "s= dict(all_pairs_shortest_path(g))\n",
    "#print([p for p in s])\n",
    "for source in g:\n",
    "        for path in s[source].values():\n",
    "            for node in path[1:]: # ignore firs element (source == node)\n",
    "                n_spaths[node] += 1 # this path passes through `node`\n",
    "        \n",
    "print(n_spaths)"
   ]
  },
  {
   "cell_type": "code",
   "execution_count": null,
   "metadata": {},
   "outputs": [],
   "source": []
  },
  {
   "cell_type": "markdown",
   "metadata": {},
   "source": [
    "\n",
    "Find the betweenness centrality for each connection.\n",
    "    ----- Include the story behind using betweeness centrality. Save the image created (as A.png, will be used for submission later)\n",
    "    ----- Show them in a graphical format. (check how to make a graphical structure from networkx package.)\n",
    "    ----- include the code snippet that does the calculation if required using the networkx pkg\n",
    "https://en.wikipedia.org/wiki/Betweenness_centrality"
   ]
  },
  {
   "cell_type": "code",
   "execution_count": 17,
   "metadata": {},
   "outputs": [
    {
     "ename": "NameError",
     "evalue": "name 'accumulate_basic' is not defined",
     "output_type": "error",
     "traceback": [
      "\u001b[1;31m---------------------------------------------------------------------------\u001b[0m",
      "\u001b[1;31mNameError\u001b[0m                                 Traceback (most recent call last)",
      "\u001b[1;32m<ipython-input-17-dd229557892d>\u001b[0m in \u001b[0;36m<module>\u001b[1;34m\u001b[0m\n\u001b[0;32m     31\u001b[0m     \u001b[0mbetweenness\u001b[0m \u001b[1;33m=\u001b[0m \u001b[0m_rescale\u001b[0m\u001b[1;33m(\u001b[0m\u001b[0mbetweenness\u001b[0m\u001b[1;33m,\u001b[0m \u001b[0mlen\u001b[0m\u001b[1;33m(\u001b[0m\u001b[0mG\u001b[0m\u001b[1;33m)\u001b[0m\u001b[1;33m,\u001b[0m \u001b[0mdirected\u001b[0m\u001b[1;33m=\u001b[0m\u001b[0mG\u001b[0m\u001b[1;33m.\u001b[0m\u001b[0mis_directed\u001b[0m\u001b[1;33m(\u001b[0m\u001b[1;33m)\u001b[0m\u001b[1;33m)\u001b[0m\u001b[1;33m\u001b[0m\u001b[1;33m\u001b[0m\u001b[0m\n\u001b[0;32m     32\u001b[0m     \u001b[1;32mreturn\u001b[0m \u001b[0mbetweenness\u001b[0m\u001b[1;33m\u001b[0m\u001b[1;33m\u001b[0m\u001b[0m\n\u001b[1;32m---> 33\u001b[1;33m \u001b[0mb\u001b[0m \u001b[1;33m=\u001b[0m \u001b[0mget_betweenness_centrality\u001b[0m\u001b[1;33m(\u001b[0m\u001b[0mg\u001b[0m\u001b[1;33m)\u001b[0m\u001b[1;33m\u001b[0m\u001b[1;33m\u001b[0m\u001b[0m\n\u001b[0m\u001b[0;32m     34\u001b[0m \u001b[1;32mfor\u001b[0m \u001b[0mi\u001b[0m \u001b[1;32min\u001b[0m \u001b[0mb\u001b[0m\u001b[1;33m.\u001b[0m\u001b[0mkeys\u001b[0m\u001b[1;33m(\u001b[0m\u001b[1;33m)\u001b[0m\u001b[1;33m:\u001b[0m\u001b[1;33m\u001b[0m\u001b[1;33m\u001b[0m\u001b[0m\n\u001b[0;32m     35\u001b[0m     \u001b[0mprint\u001b[0m\u001b[1;33m(\u001b[0m\u001b[1;34m\"{} {}\"\u001b[0m\u001b[1;33m.\u001b[0m\u001b[0mformat\u001b[0m\u001b[1;33m(\u001b[0m\u001b[0mi\u001b[0m\u001b[1;33m,\u001b[0m\u001b[0mb\u001b[0m\u001b[1;33m[\u001b[0m\u001b[0mi\u001b[0m\u001b[1;33m]\u001b[0m\u001b[1;33m)\u001b[0m\u001b[1;33m)\u001b[0m\u001b[1;33m\u001b[0m\u001b[1;33m\u001b[0m\u001b[0m\n",
      "\u001b[1;32m<ipython-input-17-dd229557892d>\u001b[0m in \u001b[0;36mget_betweenness_centrality\u001b[1;34m(G)\u001b[0m\n\u001b[0;32m     27\u001b[0m     \u001b[1;32mfor\u001b[0m \u001b[0ms\u001b[0m \u001b[1;32min\u001b[0m \u001b[0mnodes\u001b[0m\u001b[1;33m:\u001b[0m\u001b[1;33m\u001b[0m\u001b[1;33m\u001b[0m\u001b[0m\n\u001b[0;32m     28\u001b[0m         \u001b[0mP\u001b[0m \u001b[1;33m=\u001b[0m \u001b[0msingle_source_dijkstra_path\u001b[0m\u001b[1;33m(\u001b[0m\u001b[0mG\u001b[0m\u001b[1;33m,\u001b[0m \u001b[0ms\u001b[0m\u001b[1;33m,\u001b[0m \u001b[1;36m1\u001b[0m\u001b[1;33m)\u001b[0m\u001b[1;33m\u001b[0m\u001b[1;33m\u001b[0m\u001b[0m\n\u001b[1;32m---> 29\u001b[1;33m         \u001b[0mbetweenness\u001b[0m \u001b[1;33m=\u001b[0m \u001b[0maccumulate_basic\u001b[0m\u001b[1;33m(\u001b[0m\u001b[0mbetweenness\u001b[0m\u001b[1;33m,\u001b[0m \u001b[0mS\u001b[0m\u001b[1;33m,\u001b[0m \u001b[0mP\u001b[0m\u001b[1;33m,\u001b[0m \u001b[0msigma\u001b[0m\u001b[1;33m,\u001b[0m \u001b[0ms\u001b[0m\u001b[1;33m)\u001b[0m\u001b[1;33m\u001b[0m\u001b[1;33m\u001b[0m\u001b[0m\n\u001b[0m\u001b[0;32m     30\u001b[0m \u001b[1;33m\u001b[0m\u001b[0m\n\u001b[0;32m     31\u001b[0m     \u001b[0mbetweenness\u001b[0m \u001b[1;33m=\u001b[0m \u001b[0m_rescale\u001b[0m\u001b[1;33m(\u001b[0m\u001b[0mbetweenness\u001b[0m\u001b[1;33m,\u001b[0m \u001b[0mlen\u001b[0m\u001b[1;33m(\u001b[0m\u001b[0mG\u001b[0m\u001b[1;33m)\u001b[0m\u001b[1;33m,\u001b[0m \u001b[0mdirected\u001b[0m\u001b[1;33m=\u001b[0m\u001b[0mG\u001b[0m\u001b[1;33m.\u001b[0m\u001b[0mis_directed\u001b[0m\u001b[1;33m(\u001b[0m\u001b[1;33m)\u001b[0m\u001b[1;33m)\u001b[0m\u001b[1;33m\u001b[0m\u001b[1;33m\u001b[0m\u001b[0m\n",
      "\u001b[1;31mNameError\u001b[0m: name 'accumulate_basic' is not defined"
     ]
    }
   ],
   "source": [
    "###### WRITE UR CODE HERE ############\n",
    "def get_betweenness_centrality(G):\n",
    "    \"\"\"Compute the shortest-path betweenness centrality for nodes. \n",
    "    Args \n",
    "    ---------- \n",
    "    G : graph \n",
    "      A NetworkX graph. \n",
    "      \n",
    "    normalized : bool, optional \n",
    "      If True the betweenness values are normalized by `2/((n-1)(n-2))` \n",
    "      for graphs, and `1/((n-1)(n-2))` for directed graphs where `n` \n",
    "      is the number of nodes in G. \n",
    "  \n",
    "    Returns \n",
    "    ------- \n",
    "    nodes : dictionary \n",
    "       Dictionary of nodes with betweenness centrality as the value.       \n",
    "    \"\"\"\n",
    "    nodes = G.nodes()\n",
    "    for s in nodes: \n",
    "        P = single_source_dijkstra_path(G, s, 1) \n",
    "        betweenness = accumulate_basic(betweenness, S, P, sigma, s) \n",
    "\n",
    "    betweenness = _rescale(betweenness, len(G), directed=G.is_directed()) \n",
    "    return betweenness\n",
    "\n",
    "b = get_betweenness_centrality(g)\n",
    "for i in b.keys():\n",
    "    print(\"{} {}\".format(i,b[i]))"
   ]
  },
  {
   "cell_type": "code",
   "execution_count": 29,
   "metadata": {},
   "outputs": [],
   "source": []
  },
  {
   "cell_type": "code",
   "execution_count": 28,
   "metadata": {},
   "outputs": [
    {
     "name": "stdout",
     "output_type": "stream",
     "text": [
      "881 7.0\n",
      "858 0.0\n",
      "828 31.707142857142856\n",
      "697 16.037301587301588\n",
      "884 0.0\n",
      "864 35.0\n",
      "856 266.93809523809523\n",
      "869 29.09285714285714\n",
      "889 267.20952380952383\n",
      "872 7.666666666666667\n",
      "873 1.4166666666666667\n",
      "719 36.03571428571429\n",
      "713 7.687301587301586\n",
      "861 66.6666666666667\n",
      "863 0.0\n",
      "840 35.56111111111112\n",
      "803 0.0\n",
      "745 4.385714285714284\n",
      "805 20.84761904761904\n",
      "865 0.0\n",
      "857 1.0\n",
      "874 4.333333333333333\n",
      "708 49.33253968253968\n",
      "823 65.45634920634922\n",
      "885 9.083333333333334\n",
      "870 1.0\n",
      "871 2.0\n",
      "888 34.999999999999986\n",
      "825 0.0\n",
      "774 73.82857142857141\n",
      "729 38.0\n",
      "769 35.0\n",
      "800 0.4333333333333333\n",
      "819 8.519047619047619\n",
      "859 0.0\n",
      "876 20.000000000000007\n",
      "887 3.6666666666666665\n",
      "895 2.0\n",
      "890 0.0\n",
      "810 47.615079365079346\n",
      "879 7.0\n",
      "753 97.02222222222223\n",
      "830 15.52777777777777\n",
      "747 31.98730158730158\n",
      "776 1.0833333333333333\n",
      "772 34.44206349206349\n",
      "804 2.6666666666666665\n",
      "886 0.0\n",
      "893 0.0\n",
      "811 0.0\n",
      "867 4.833333333333333\n",
      "868 0.0\n",
      "878 0.0\n",
      "877 3.9166666666666665\n",
      "882 0.0\n",
      "894 0.0\n"
     ]
    }
   ],
   "source": [
    "### Find betweenness centrality\n",
    "bet = betweenness_centrality(g, normalized=False)\n",
    "for i in bet.keys():\n",
    "    print(\"{} {}\".format(i,bet[i]))\n",
    "    \n",
    "### Find degree centrality    \n",
    "#deg = degree_centrality(g)\n",
    "#for i in deg.keys():\n",
    "    #print(\"{} {}\".format(i,deg[i]))\n",
    "\n",
    "### Find eigen centrality    \n",
    "#eig = eigenvector_centrality(g)\n",
    "#for i in eig.keys():\n",
    "    #print(\"{} {}\".format(i,eig[i]))"
   ]
  },
  {
   "cell_type": "markdown",
   "metadata": {},
   "source": [
    "### Task 2: EighenVector Centrality\n",
    "As we saw, computing shortest paths is kind of a pain. For this reason, betweenness and closeness centrality aren’t often used on large networks. The less intuitive (but generally easier to compute) eigenvector centrality is more frequently used. even the Find the eighenvector centrality for each connection. \n",
    "    -----  Include the story behind using eighenvector centrality. Save the image created (as B.png, will be used for submission later)\n",
    "    ----- Show them in a graphical format. (check how to make a graphical structure from networkx package.) \n",
    "    ----- include the code snippet that does the calculation if required using the networkx pkg"
   ]
  },
  {
   "cell_type": "code",
   "execution_count": null,
   "metadata": {},
   "outputs": [],
   "source": [
    "def get_eigenvector_centrality(G, max_iter=100, tol=1.0e-6, nstart=None, \n",
    "                           weight='weight'): \n",
    "    \"\"\"Compute the eigenvector centrality for the graph G. \n",
    "  \n",
    "    Eigenvector centrality computes the centrality for a node based on the \n",
    "    centrality of its neighbors. The eigenvector centrality for node `i` is \n",
    "  \n",
    "    .. math:: \n",
    "  \n",
    "        \\mathbf{Ax} = \\lambda \\mathbf{x} \n",
    "  \n",
    "    where `A` is the adjacency matrix of the graph G with eigenvalue `\\lambda`. \n",
    "    By virtue of the Perron–Frobenius theorem, there is a unique and positive \n",
    "    solution if `\\lambda` is the largest eigenvalue associated with the \n",
    "    eigenvector of the adjacency matrix `A` ([2]_). \n",
    "  \n",
    "    Parameters \n",
    "    ---------- \n",
    "    G : graph \n",
    "      A networkx graph \n",
    "  \n",
    "    max_iter : integer, optional \n",
    "      Maximum number of iterations in power method. \n",
    "  \n",
    "    tol : float, optional \n",
    "      Error tolerance used to check convergence in power method iteration. \n",
    "  \n",
    "    nstart : dictionary, optional \n",
    "      Starting value of eigenvector iteration for each node. \n",
    "  \n",
    "    weight : None or string, optional \n",
    "      If None, all edge weights are considered equal. \n",
    "      Otherwise holds the name of the edge attribute used as weight. \n",
    "  \n",
    "    Returns \n",
    "    ------- \n",
    "    nodes : dictionary \n",
    "       Dictionary of nodes with eigenvector centrality as the value. \n",
    "  \n",
    "        \n",
    "    Notes \n",
    "    ------ \n",
    "    The eigenvector calculation is done by the power iteration method and has \n",
    "    no guarantee of convergence. The iteration will stop after ``max_iter`` \n",
    "    iterations or an error tolerance of ``number_of_nodes(G)*tol`` has been \n",
    "    reached. \n",
    "  \n",
    "    For directed graphs this is \"left\" eigenvector centrality which corresponds \n",
    "    to the in-edges in the graph. For out-edges eigenvector centrality \n",
    "    first reverse the graph with ``G.reverse()``. \n",
    "  \n",
    "     \n",
    "    \"\"\"\n",
    "    from math import sqrt \n",
    "    if type(G) == nx.MultiGraph or type(G) == nx.MultiDiGraph: \n",
    "        raise nx.NetworkXException(\"Not defined for multigraphs.\") \n",
    "  \n",
    "    if len(G) == 0: \n",
    "        raise nx.NetworkXException(\"Empty graph.\") \n",
    "  \n",
    "    if nstart is None: \n",
    "  \n",
    "        # choose starting vector with entries of 1/len(G) \n",
    "        x = dict([(n,1.0/len(G)) for n in G]) \n",
    "    else: \n",
    "        x = nstart \n",
    "  \n",
    "    # normalize starting vector \n",
    "    s = 1.0/sum(x.values()) \n",
    "    for k in x: \n",
    "        x[k] *= s \n",
    "    nnodes = G.number_of_nodes() \n",
    "  \n",
    "    # make up to max_iter iterations \n",
    "    for i in range(max_iter): \n",
    "        xlast = x \n",
    "        x = dict.fromkeys(xlast, 0) \n",
    "  \n",
    "        # do the multiplication y^T = x^T A \n",
    "        for n in x: \n",
    "            for nbr in G[n]: \n",
    "                x[nbr] += xlast[n] * G[n][nbr].get(weight, 1) \n",
    "  \n",
    "        # normalize vector \n",
    "        try: \n",
    "            s = 1.0/sqrt(sum(v**2 for v in x.values())) \n",
    "  \n",
    "        # this should never be zero? \n",
    "        except ZeroDivisionError: \n",
    "            s = 1.0\n",
    "        for n in x: \n",
    "            x[n] *= s \n",
    "  \n",
    "        # check convergence \n",
    "        err = sum([abs(x[n]-xlast[n]) for n in x]) \n",
    "        if err < nnodes*tol: \n",
    "            return x \n",
    "  \n",
    "    raise nx.NetworkXError(\"\"\"eigenvector_centrality(): power iteration failed to converge in %d iterations.\"%(i+1))\"\"\")"
   ]
  },
  {
   "cell_type": "markdown",
   "metadata": {},
   "source": [
    "Add the three parameters found above closeness_centrality, betweenness_centrality and eighenvector_centrality to the file `facebook_info.csv` . This file will be used later for Task 3. "
   ]
  },
  {
   "cell_type": "markdown",
   "metadata": {},
   "source": [
    "## Part 2: Modelling and Parameter Tuning in Spark\n",
    "### Task 3a:  Cross Validation\n",
    "Now as a part of this step, we expect you to use the above two created fields and use it one by one (along with original fields in the dataset) to train any of the three machine learning models (we studied) based on ones you think will be suitable for the problem set and compare the results. Based on the results obtained. Answer the questions below and submit the answer file as answer.txt. Remember to not exceed more than 3 sentences for each question.\n",
    "\n",
    "Hint: https://spark.apache.org/docs/latest/ml-tuning.html\n",
    "https://rawgit.com/sfu-db/bigdata-cmpt733/master/Assignments/A5/A5.html"
   ]
  },
  {
   "cell_type": "code",
   "execution_count": null,
   "metadata": {},
   "outputs": [],
   "source": []
  },
  {
   "cell_type": "markdown",
   "metadata": {},
   "source": [
    "### Task 3b: Train Validation Split"
   ]
  },
  {
   "cell_type": "code",
   "execution_count": null,
   "metadata": {},
   "outputs": [],
   "source": []
  },
  {
   "cell_type": "markdown",
   "metadata": {},
   "source": [
    "### Task 4 :\n",
    "   * q1) Which 3 models did you choose and why? Explain reasons behind chosing these 3 ML models.\n",
    "   * q2) Compare the performance of these three models and explain. Why do you think you get such results. \n",
    "   * q3) What is the evaluation method you used?\n",
    "   * q4) Do you think adding the inferential feature vectors (Betweeness and eighenvector) for centrality was a good idea and why? Can you think of a different approach for solving this problem (other than Social Network Graphical analysis)"
   ]
  },
  {
   "cell_type": "markdown",
   "metadata": {},
   "source": [
    "Submit all the files in a zipped format under Coursys."
   ]
  },
  {
   "cell_type": "markdown",
   "metadata": {},
   "source": [
    "### Dataset Locations (potential links) :-\n",
    "* https://github.com/awesomedata/awesome-public-datasets\n",
    "  * https://github.com/awesomedata/awesome-public-datasets#complexnetworks\n",
    "  * https://github.com/awesomedata/awesome-public-datasets#socialnetworks\n",
    "  * https://github.com/awesomedata/awesome-public-datasets#searchengines\n",
    "  * http://www-personal.umich.edu/~mejn/netdata/\n",
    "  * https://www.kdnuggets.com/2014/08/interesting-social-media-datasets.html+\n",
    "  * google keyword (awesome public datasets social network)\n",
    "  * http://snap.stanford.edu/data/"
   ]
  }
 ],
 "metadata": {
  "kernelspec": {
   "display_name": "Python 3",
   "language": "python",
   "name": "python3"
  },
  "language_info": {
   "codemirror_mode": {
    "name": "ipython",
    "version": 3
   },
   "file_extension": ".py",
   "mimetype": "text/x-python",
   "name": "python",
   "nbconvert_exporter": "python",
   "pygments_lexer": "ipython3",
   "version": "3.7.1"
  }
 },
 "nbformat": 4,
 "nbformat_minor": 2
}
