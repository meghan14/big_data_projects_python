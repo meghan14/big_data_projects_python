{
 "cells": [
  {
   "cell_type": "markdown",
   "metadata": {},
   "source": [
    "### Problem statement.\n",
    "Social network analysis is an example of a widely faced issue in data science industry. eg. paper citations. \n",
    "(in case there is a problem with getting the dataset, feel free to change the scenario to US government choosing potential immigrants to their country based on their social media authencity. We figured out a way to do that) \n",
    "Below we study a method to perform graphical network analysis and use them to create features for our learning. "
   ]
  },
  {
   "cell_type": "markdown",
   "metadata": {},
   "source": [
    "* 1) say you are in the recruiting team of a company. and your company needs to hire data scientists.\n",
    "* 2) Now since there are a lot of applicants, instead of going through their resumes (since all of the look the same anyway ;)), you plan on using their coorporate social media profile for finding the most \"renowned\" data scientists for your company. \n",
    "* 3) Now, assume that luckily you also have data from linkedin with their connections and recommendations etc and you plan on doing some social network analysis. \n",
    "* 4) The task:\n",
    "  *  a) Find the betweenness centrality for each connection.\n",
    "    ----- Include the story behind using betweeness centrality. Save the image created (as A.png, will be used for submission later)\n",
    "    ----- Show them in a graphical format. (check how to make a graphical structure from networkx package.)\n",
    "    ----- include the code snippet that does the calculation if required using the networkx pkg\n",
    "  *  b) Find the eighenvector centrality for each connection. \n",
    "    -----  Include the story behind using eighenvector centrality. Save the image created (as B.png, will be used for submission later)\n",
    "    ----- Show them in a graphical format. (check how to make a graphical structure from networkx package.) \n",
    "    ----- include the code snippet that does the calculation if required using the networkx pkg\n",
    "  *  c) Now as a part of this step, we expect you to use the above two created fields and use it one by one (along with original fields in the dataset) to train any of the three machine learning models (we studied) based on ones you think will be suitable for the problem set and compare the results. Based on the results obtained. Answer the questions below and submit the answer file as answer.txt. Remember to not exceed more than 3 sentences for each question.  \n",
    "       * q1) Which 3 models did you choose and why? Explain reasons behind chosing these 3 ML models.\n",
    "       * q2) Compare the performance of these three models and explain. Why do you think you get such results. \n",
    "       * q3) What is the evaluation method you used?\n",
    "       * q4) Do you think adding the inferential feature vectors (Betweeness and eighenvector) for centrality was a good idea and why? Can you think of a different approach for solving this problem (other than Social Network Graphical analysis) \n",
    "-----------------------------------------------------------------------------------------------\n",
    "Submit all the files in a zipped format under Coursys."
   ]
  },
  {
   "cell_type": "markdown",
   "metadata": {},
   "source": [
    "### Dataset Locations (potential links) :-\n",
    "* https://github.com/awesomedata/awesome-public-datasets\n",
    "  * https://github.com/awesomedata/awesome-public-datasets#complexnetworks\n",
    "  * https://github.com/awesomedata/awesome-public-datasets#socialnetworks\n",
    "  * https://github.com/awesomedata/awesome-public-datasets#searchengines\n",
    "  * http://www-personal.umich.edu/~mejn/netdata/\n",
    "  * https://www.kdnuggets.com/2014/08/interesting-social-media-datasets.html+\n",
    "  * google keyword (awesome public datasets social network)"
   ]
  },
  {
   "cell_type": "code",
   "execution_count": null,
   "metadata": {},
   "outputs": [],
   "source": []
  }
 ],
 "metadata": {
  "kernelspec": {
   "display_name": "Python 3",
   "language": "python",
   "name": "python3"
  },
  "language_info": {
   "codemirror_mode": {
    "name": "ipython",
    "version": 3
   },
   "file_extension": ".py",
   "mimetype": "text/x-python",
   "name": "python",
   "nbconvert_exporter": "python",
   "pygments_lexer": "ipython3",
   "version": "3.7.1"
  }
 },
 "nbformat": 4,
 "nbformat_minor": 2
}
