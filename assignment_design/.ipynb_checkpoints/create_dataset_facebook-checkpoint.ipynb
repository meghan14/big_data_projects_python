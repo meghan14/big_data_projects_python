{
 "cells": [
  {
   "cell_type": "code",
   "execution_count": 1,
   "metadata": {},
   "outputs": [],
   "source": [
    "import os\n",
    "import numpy as np\n",
    "import pandas as pd"
   ]
  },
  {
   "cell_type": "code",
   "execution_count": 2,
   "metadata": {},
   "outputs": [
    {
     "data": {
      "text/html": [
       "<div>\n",
       "<style scoped>\n",
       "    .dataframe tbody tr th:only-of-type {\n",
       "        vertical-align: middle;\n",
       "    }\n",
       "\n",
       "    .dataframe tbody tr th {\n",
       "        vertical-align: top;\n",
       "    }\n",
       "\n",
       "    .dataframe thead th {\n",
       "        text-align: right;\n",
       "    }\n",
       "</style>\n",
       "<table border=\"1\" class=\"dataframe\">\n",
       "  <thead>\n",
       "    <tr style=\"text-align: right;\">\n",
       "      <th></th>\n",
       "      <th>node0</th>\n",
       "      <th>node1</th>\n",
       "    </tr>\n",
       "  </thead>\n",
       "  <tbody>\n",
       "    <tr>\n",
       "      <th>0</th>\n",
       "      <td>881</td>\n",
       "      <td>858</td>\n",
       "    </tr>\n",
       "    <tr>\n",
       "      <th>1</th>\n",
       "      <td>828</td>\n",
       "      <td>697</td>\n",
       "    </tr>\n",
       "    <tr>\n",
       "      <th>2</th>\n",
       "      <td>884</td>\n",
       "      <td>864</td>\n",
       "    </tr>\n",
       "    <tr>\n",
       "      <th>3</th>\n",
       "      <td>856</td>\n",
       "      <td>869</td>\n",
       "    </tr>\n",
       "    <tr>\n",
       "      <th>4</th>\n",
       "      <td>889</td>\n",
       "      <td>856</td>\n",
       "    </tr>\n",
       "  </tbody>\n",
       "</table>\n",
       "</div>"
      ],
      "text/plain": [
       "   node0  node1\n",
       "0    881    858\n",
       "1    828    697\n",
       "2    884    864\n",
       "3    856    869\n",
       "4    889    856"
      ]
     },
     "execution_count": 2,
     "metadata": {},
     "output_type": "execute_result"
    }
   ],
   "source": [
    "source = \"data/facebook/\" #try reading from gzip file\n",
    "\n",
    "# Reading all *.edges files in dataframes.  \n",
    "files = [f for f in os.listdir(source) if f.endswith(\".edges\")]\n",
    "#fs = files[:2] # remove this later just for testing. \n",
    "df = pd.DataFrame()\n",
    "for f in files:\n",
    "    with open(source+f,'r') as fopen:\n",
    "        temp = pd.read_csv(fopen,sep=\" \",header=None)\n",
    "        fopen.close()\n",
    "        df = pd.concat([temp,df])\n",
    "df.columns = ['node0','node1']\n",
    "df.head()"
   ]
  },
  {
   "cell_type": "code",
   "execution_count": 3,
   "metadata": {},
   "outputs": [
    {
     "name": "stdout",
     "output_type": "stream",
     "text": [
      "<class 'pandas.core.frame.DataFrame'>\n",
      "Int64Index: 170174 entries, 0 to 5037\n",
      "Data columns (total 2 columns):\n",
      "node0    170174 non-null int64\n",
      "node1    170174 non-null int64\n",
      "dtypes: int64(2)\n",
      "memory usage: 3.9 MB\n",
      "<class 'pandas.core.frame.DataFrame'>\n",
      "Int64Index: 258408 entries, 0 to 88233\n",
      "Data columns (total 2 columns):\n",
      "node0    258408 non-null int64\n",
      "node1    258408 non-null int64\n",
      "dtypes: int64(2)\n",
      "memory usage: 5.9 MB\n"
     ]
    }
   ],
   "source": [
    "df.info()\n",
    "with open(\"data/facebook_combined.txt\",'r') as fopen:\n",
    "    df_comb = pd.read_csv(fopen,sep=\" \",header=None)\n",
    "    fopen.close()\n",
    "df_comb.columns = df.columns\n",
    "df = pd.concat([df,df_comb])\n",
    "df.info()"
   ]
  },
  {
   "cell_type": "code",
   "execution_count": 4,
   "metadata": {},
   "outputs": [
    {
     "name": "stdout",
     "output_type": "stream",
     "text": [
      "<class 'pandas.core.frame.DataFrame'>\n",
      "Int64Index: 258004 entries, 0 to 88164\n",
      "Data columns (total 2 columns):\n",
      "node0    258004 non-null int64\n",
      "node1    258004 non-null int64\n",
      "dtypes: int64(2)\n",
      "memory usage: 5.9 MB\n"
     ]
    }
   ],
   "source": [
    "total_samples = 4000\n",
    "df_filtered = df[(df['node0']<=total_samples) & (df['node1']<=total_samples)] \n",
    "df_filtered.info()\n",
    "#df_filtered.to_csv(\"data/dataset/facebook_edges.csv\",index=False)"
   ]
  },
  {
   "cell_type": "code",
   "execution_count": 5,
   "metadata": {},
   "outputs": [
    {
     "data": {
      "text/html": [
       "<div>\n",
       "<style scoped>\n",
       "    .dataframe tbody tr th:only-of-type {\n",
       "        vertical-align: middle;\n",
       "    }\n",
       "\n",
       "    .dataframe tbody tr th {\n",
       "        vertical-align: top;\n",
       "    }\n",
       "\n",
       "    .dataframe thead th {\n",
       "        text-align: right;\n",
       "    }\n",
       "</style>\n",
       "<table border=\"1\" class=\"dataframe\">\n",
       "  <thead>\n",
       "    <tr style=\"text-align: right;\">\n",
       "      <th></th>\n",
       "      <th>index</th>\n",
       "      <th>userid</th>\n",
       "      <th>age</th>\n",
       "      <th>dob_day</th>\n",
       "      <th>dob_year</th>\n",
       "      <th>dob_month</th>\n",
       "      <th>gender</th>\n",
       "      <th>tenure</th>\n",
       "      <th>friend_count</th>\n",
       "      <th>friendships_initiated</th>\n",
       "      <th>likes</th>\n",
       "      <th>likes_received</th>\n",
       "      <th>mobile_likes</th>\n",
       "      <th>mobile_likes_received</th>\n",
       "      <th>www_likes</th>\n",
       "      <th>www_likes_received</th>\n",
       "    </tr>\n",
       "  </thead>\n",
       "  <tbody>\n",
       "    <tr>\n",
       "      <th>0</th>\n",
       "      <td>1803</td>\n",
       "      <td>1519123</td>\n",
       "      <td>24</td>\n",
       "      <td>17</td>\n",
       "      <td>1989</td>\n",
       "      <td>3</td>\n",
       "      <td>male</td>\n",
       "      <td>168.0</td>\n",
       "      <td>0</td>\n",
       "      <td>0</td>\n",
       "      <td>2</td>\n",
       "      <td>0</td>\n",
       "      <td>2</td>\n",
       "      <td>0</td>\n",
       "      <td>0</td>\n",
       "      <td>0</td>\n",
       "    </tr>\n",
       "    <tr>\n",
       "      <th>1</th>\n",
       "      <td>22227</td>\n",
       "      <td>2083623</td>\n",
       "      <td>66</td>\n",
       "      <td>8</td>\n",
       "      <td>1947</td>\n",
       "      <td>9</td>\n",
       "      <td>female</td>\n",
       "      <td>615.0</td>\n",
       "      <td>27</td>\n",
       "      <td>15</td>\n",
       "      <td>34</td>\n",
       "      <td>13</td>\n",
       "      <td>0</td>\n",
       "      <td>8</td>\n",
       "      <td>34</td>\n",
       "      <td>5</td>\n",
       "    </tr>\n",
       "    <tr>\n",
       "      <th>2</th>\n",
       "      <td>88448</td>\n",
       "      <td>1284996</td>\n",
       "      <td>16</td>\n",
       "      <td>15</td>\n",
       "      <td>1997</td>\n",
       "      <td>4</td>\n",
       "      <td>female</td>\n",
       "      <td>21.0</td>\n",
       "      <td>425</td>\n",
       "      <td>26</td>\n",
       "      <td>22</td>\n",
       "      <td>193</td>\n",
       "      <td>22</td>\n",
       "      <td>142</td>\n",
       "      <td>0</td>\n",
       "      <td>51</td>\n",
       "    </tr>\n",
       "    <tr>\n",
       "      <th>3</th>\n",
       "      <td>2168</td>\n",
       "      <td>1161005</td>\n",
       "      <td>20</td>\n",
       "      <td>1</td>\n",
       "      <td>1993</td>\n",
       "      <td>2</td>\n",
       "      <td>male</td>\n",
       "      <td>386.0</td>\n",
       "      <td>1</td>\n",
       "      <td>0</td>\n",
       "      <td>0</td>\n",
       "      <td>0</td>\n",
       "      <td>0</td>\n",
       "      <td>0</td>\n",
       "      <td>0</td>\n",
       "      <td>0</td>\n",
       "    </tr>\n",
       "    <tr>\n",
       "      <th>4</th>\n",
       "      <td>14693</td>\n",
       "      <td>2112499</td>\n",
       "      <td>72</td>\n",
       "      <td>6</td>\n",
       "      <td>1941</td>\n",
       "      <td>12</td>\n",
       "      <td>male</td>\n",
       "      <td>32.0</td>\n",
       "      <td>16</td>\n",
       "      <td>14</td>\n",
       "      <td>0</td>\n",
       "      <td>0</td>\n",
       "      <td>0</td>\n",
       "      <td>0</td>\n",
       "      <td>0</td>\n",
       "      <td>0</td>\n",
       "    </tr>\n",
       "  </tbody>\n",
       "</table>\n",
       "</div>"
      ],
      "text/plain": [
       "   index   userid  age  dob_day  dob_year  dob_month  gender  tenure  \\\n",
       "0   1803  1519123   24       17      1989          3    male   168.0   \n",
       "1  22227  2083623   66        8      1947          9  female   615.0   \n",
       "2  88448  1284996   16       15      1997          4  female    21.0   \n",
       "3   2168  1161005   20        1      1993          2    male   386.0   \n",
       "4  14693  2112499   72        6      1941         12    male    32.0   \n",
       "\n",
       "   friend_count  friendships_initiated  likes  likes_received  mobile_likes  \\\n",
       "0             0                      0      2               0             2   \n",
       "1            27                     15     34              13             0   \n",
       "2           425                     26     22             193            22   \n",
       "3             1                      0      0               0             0   \n",
       "4            16                     14      0               0             0   \n",
       "\n",
       "   mobile_likes_received  www_likes  www_likes_received  \n",
       "0                      0          0                   0  \n",
       "1                      8         34                   5  \n",
       "2                    142          0                  51  \n",
       "3                      0          0                   0  \n",
       "4                      0          0                   0  "
      ]
     },
     "execution_count": 5,
     "metadata": {},
     "output_type": "execute_result"
    }
   ],
   "source": [
    "#### Creating dataset for uder details \n",
    "source_path = \"data/pseudo_facebook.csv\"\n",
    "det_df = pd.read_csv(source_path,sep=',',header=0)\n",
    "total = 2000\n",
    "#det_df['viable_candidate'] = [random.randint(0,1) for i in det_df.index]\n",
    "#det_df.head()\n",
    "cols = ['age','dob_day','dob_year', 'dob_month','gender','tenure','friend_count','friendships_initiated','likes','likes_received','mobile_likes','mobile_likes_received','www_likes','www_likes_received']\n",
    "sample_df = det_df.sample(n=total,replace=False,axis=0)\n",
    "sample_df = sample_df.reset_index()\n",
    "sample_df.to_csv(\"data/dataset/facebook_info_{}.csv\".format(total),index=True,columns=cols)\n",
    "\n",
    "sample_df.head()"
   ]
  },
  {
   "cell_type": "code",
   "execution_count": null,
   "metadata": {},
   "outputs": [],
   "source": [
    "!pip install fastparquet\n",
    "#sample_df['viable_candidate'].sum()"
   ]
  },
  {
   "cell_type": "code",
   "execution_count": 8,
   "metadata": {},
   "outputs": [
    {
     "ename": "ImportError",
     "evalue": "Unable to find a usable engine; tried using: 'pyarrow', 'fastparquet'.\npyarrow or fastparquet is required for parquet support",
     "output_type": "error",
     "traceback": [
      "\u001b[1;31m---------------------------------------------------------------------------\u001b[0m",
      "\u001b[1;31mImportError\u001b[0m                               Traceback (most recent call last)",
      "\u001b[1;32m<ipython-input-8-184eda8ddf2b>\u001b[0m in \u001b[0;36m<module>\u001b[1;34m\u001b[0m\n\u001b[1;32m----> 1\u001b[1;33m \u001b[0msample_df\u001b[0m\u001b[1;33m.\u001b[0m\u001b[0mto_parquet\u001b[0m\u001b[1;33m(\u001b[0m\u001b[1;34m\"data/dataset/facebook_info.gzip\"\u001b[0m\u001b[1;33m,\u001b[0m\u001b[0mcompression\u001b[0m\u001b[1;33m=\u001b[0m\u001b[1;34m'gzip'\u001b[0m\u001b[1;33m,\u001b[0m\u001b[0mindex\u001b[0m\u001b[1;33m=\u001b[0m\u001b[1;32mTrue\u001b[0m\u001b[1;33m,\u001b[0m\u001b[0mpartition_cols\u001b[0m \u001b[1;33m=\u001b[0m \u001b[0mcols\u001b[0m\u001b[1;33m)\u001b[0m\u001b[1;33m\u001b[0m\u001b[1;33m\u001b[0m\u001b[0m\n\u001b[0m",
      "\u001b[1;32m~\\Anaconda3\\lib\\site-packages\\pandas\\core\\frame.py\u001b[0m in \u001b[0;36mto_parquet\u001b[1;34m(self, fname, engine, compression, **kwargs)\u001b[0m\n\u001b[0;32m   1943\u001b[0m         \u001b[1;32mfrom\u001b[0m \u001b[0mpandas\u001b[0m\u001b[1;33m.\u001b[0m\u001b[0mio\u001b[0m\u001b[1;33m.\u001b[0m\u001b[0mparquet\u001b[0m \u001b[1;32mimport\u001b[0m \u001b[0mto_parquet\u001b[0m\u001b[1;33m\u001b[0m\u001b[1;33m\u001b[0m\u001b[0m\n\u001b[0;32m   1944\u001b[0m         to_parquet(self, fname, engine,\n\u001b[1;32m-> 1945\u001b[1;33m                    compression=compression, **kwargs)\n\u001b[0m\u001b[0;32m   1946\u001b[0m \u001b[1;33m\u001b[0m\u001b[0m\n\u001b[0;32m   1947\u001b[0m     @Substitution(header='Write out the column names. If a list of strings '\n",
      "\u001b[1;32m~\\Anaconda3\\lib\\site-packages\\pandas\\io\\parquet.py\u001b[0m in \u001b[0;36mto_parquet\u001b[1;34m(df, path, engine, compression, **kwargs)\u001b[0m\n\u001b[0;32m    254\u001b[0m         \u001b[0mAdditional\u001b[0m \u001b[0mkeyword\u001b[0m \u001b[0marguments\u001b[0m \u001b[0mpassed\u001b[0m \u001b[0mto\u001b[0m \u001b[0mthe\u001b[0m \u001b[0mengine\u001b[0m\u001b[1;33m\u001b[0m\u001b[1;33m\u001b[0m\u001b[0m\n\u001b[0;32m    255\u001b[0m     \"\"\"\n\u001b[1;32m--> 256\u001b[1;33m     \u001b[0mimpl\u001b[0m \u001b[1;33m=\u001b[0m \u001b[0mget_engine\u001b[0m\u001b[1;33m(\u001b[0m\u001b[0mengine\u001b[0m\u001b[1;33m)\u001b[0m\u001b[1;33m\u001b[0m\u001b[1;33m\u001b[0m\u001b[0m\n\u001b[0m\u001b[0;32m    257\u001b[0m     \u001b[1;32mreturn\u001b[0m \u001b[0mimpl\u001b[0m\u001b[1;33m.\u001b[0m\u001b[0mwrite\u001b[0m\u001b[1;33m(\u001b[0m\u001b[0mdf\u001b[0m\u001b[1;33m,\u001b[0m \u001b[0mpath\u001b[0m\u001b[1;33m,\u001b[0m \u001b[0mcompression\u001b[0m\u001b[1;33m=\u001b[0m\u001b[0mcompression\u001b[0m\u001b[1;33m,\u001b[0m \u001b[1;33m**\u001b[0m\u001b[0mkwargs\u001b[0m\u001b[1;33m)\u001b[0m\u001b[1;33m\u001b[0m\u001b[1;33m\u001b[0m\u001b[0m\n\u001b[0;32m    258\u001b[0m \u001b[1;33m\u001b[0m\u001b[0m\n",
      "\u001b[1;32m~\\Anaconda3\\lib\\site-packages\\pandas\\io\\parquet.py\u001b[0m in \u001b[0;36mget_engine\u001b[1;34m(engine)\u001b[0m\n\u001b[0;32m     27\u001b[0m             \u001b[1;32mpass\u001b[0m\u001b[1;33m\u001b[0m\u001b[1;33m\u001b[0m\u001b[0m\n\u001b[0;32m     28\u001b[0m \u001b[1;33m\u001b[0m\u001b[0m\n\u001b[1;32m---> 29\u001b[1;33m         raise ImportError(\"Unable to find a usable engine; \"\n\u001b[0m\u001b[0;32m     30\u001b[0m                           \u001b[1;34m\"tried using: 'pyarrow', 'fastparquet'.\\n\"\u001b[0m\u001b[1;33m\u001b[0m\u001b[1;33m\u001b[0m\u001b[0m\n\u001b[0;32m     31\u001b[0m                           \u001b[1;34m\"pyarrow or fastparquet is required for parquet \"\u001b[0m\u001b[1;33m\u001b[0m\u001b[1;33m\u001b[0m\u001b[0m\n",
      "\u001b[1;31mImportError\u001b[0m: Unable to find a usable engine; tried using: 'pyarrow', 'fastparquet'.\npyarrow or fastparquet is required for parquet support"
     ]
    }
   ],
   "source": [
    "sample_df.to_parquet(\"data/dataset/facebook_info.gzip\",compression='gzip',index=True,partition_cols = cols)"
   ]
  },
  {
   "cell_type": "code",
   "execution_count": 8,
   "metadata": {},
   "outputs": [
    {
     "data": {
      "text/plain": [
       "['age',\n",
       " 'dob_day',\n",
       " 'dob_year',\n",
       " 'dob_month',\n",
       " 'gender',\n",
       " 'tenure',\n",
       " 'friend_count',\n",
       " 'friendships_initiated',\n",
       " 'likes',\n",
       " 'likes_received',\n",
       " 'mobile_likes',\n",
       " 'mobile_likes_received',\n",
       " 'www_likes',\n",
       " 'www_likes_received']"
      ]
     },
     "execution_count": 8,
     "metadata": {},
     "output_type": "execute_result"
    }
   ],
   "source": [
    "### separate for training and test dataset \n",
    "l = \"age,dob_day,dob_year,dob_month,gender,tenure,friend_count,friendships_initiated,likes,likes_received,mobile_likes,mobile_likes_received,www_likes,www_likes_received\"\n",
    "l.split(',')"
   ]
  }
 ],
 "metadata": {
  "kernelspec": {
   "display_name": "Python 3",
   "language": "python",
   "name": "python3"
  },
  "language_info": {
   "codemirror_mode": {
    "name": "ipython",
    "version": 3
   },
   "file_extension": ".py",
   "mimetype": "text/x-python",
   "name": "python",
   "nbconvert_exporter": "python",
   "pygments_lexer": "ipython3",
   "version": "3.7.1"
  }
 },
 "nbformat": 4,
 "nbformat_minor": 2
}
