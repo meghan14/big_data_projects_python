{
 "cells": [
  {
   "cell_type": "markdown",
   "metadata": {},
   "source": [
    "# Assignment 4: EDA and Bootstrapping"
   ]
  },
  {
   "cell_type": "markdown",
   "metadata": {},
   "source": [
    "## Objective"
   ]
  },
  {
   "cell_type": "markdown",
   "metadata": {},
   "source": [
    "Statistics play a vital role in data science for two reasons. First, it can be used to gain a deep understanding of data. This process is known as **Exploratory Data Analysis (EDA)**. Second, it can be used to infer the relationship between a sample and the population. This process is known as **inference**. In this assignment, you will learn about EDA and statistical inference through the analysis of a very interesting dataset - [property tax report data](http://data.vancouver.ca/datacatalogue/propertyTax.htm). Specifically, you will learn the followings:\n",
    "\n",
    "1. Be able to perform EDA on a single column (i.e., univariate analysis) \n",
    "2. Be able to perform EDA on multiple columns (i.e., multivariate analysis)\n",
    "3. Be able to extract insights from visualizations\n",
    "4. Be able to ask critical questions about data\n",
    "5. Be able to estimate a population parameter based on a sample\n",
    "6. Be able to use the bootstrap to quantify the uncertainty of an estimated value\n",
    "\n",
    "In this assignment, you can use [pandas](https://pandas.pydata.org/) or PySpark to manipulate data, and use [matplotlib](https://matplotlib.org/) or [seaborn](https://seaborn.pydata.org) to make plots. \n",
    "\n",
    "You can download the datasets of each assignment from  http://tiny.cc/cmpt733-datasets."
   ]
  },
  {
   "cell_type": "markdown",
   "metadata": {},
   "source": [
    "## Part 1. EDA"
   ]
  },
  {
   "cell_type": "markdown",
   "metadata": {},
   "source": [
    "Imagine you are a data scientist working at a real-estate company. In this week, your job is to analyze the Vancouver's housing price. You first download a dataset from [property_tax_report_2018.zip](http://tiny.cc/cmpt733-datasets/property_tax_report_2018.zip). The dataset contains information on properties from BC Assessment (BCA) and City sources in 2018.  You can find the schema information of the dataset from this [webpage](http://data.vancouver.ca/datacatalogue/propertyTaxAttributes.htm). But this is not enough. You still know little about the data. That's why you need to do EDA in order to get a better and deeper understanding of the data."
   ]
  },
  {
   "cell_type": "markdown",
   "metadata": {},
   "source": [
    "We first load the data as a DataFrame. To make this analysis more interesting, I added two new columns to the data: `CURRENT_PRICE` represents the property price in 2018; `PREVIOUS_PRICE` represents the property price in 2017. "
   ]
  },
  {
   "cell_type": "code",
   "execution_count": 1,
   "metadata": {},
   "outputs": [],
   "source": [
    "import pandas as pd\n",
    "\n",
    "source = 'data/'\n",
    "df = pd.read_csv(source + \"property_tax_report_2018.csv\")\n",
    "\n",
    "df['CURRENT_PRICE'] = df.apply(lambda x: x['CURRENT_LAND_VALUE']+x['CURRENT_IMPROVEMENT_VALUE'], axis = 1)\n",
    "\n",
    "df['PREVIOUS_PRICE'] = df.apply(lambda x: x['PREVIOUS_LAND_VALUE']+x['PREVIOUS_IMPROVEMENT_VALUE'], axis = 1)"
   ]
  },
  {
   "cell_type": "markdown",
   "metadata": {},
   "source": [
    "Now let's start the EDA process. \n",
    "\n",
    "**Hint.** For some of the following questions, I provided an example plot (see [link](A4-plots.html)). But note that you do not have to use the same plot design. In fact, I didn't do a good job to follow the *Principles of Visualization Design* presented in Lecture 4.  You should think about how to correct the bad designs in my plots."
   ]
  },
  {
   "cell_type": "markdown",
   "metadata": {},
   "source": [
    "### Question 1. Look at some example rows\n",
    "Print the first five rows of the data:"
   ]
  },
  {
   "cell_type": "code",
   "execution_count": 2,
   "metadata": {
    "scrolled": false
   },
   "outputs": [
    {
     "data": {
      "text/html": [
       "<div>\n",
       "<style scoped>\n",
       "    .dataframe tbody tr th:only-of-type {\n",
       "        vertical-align: middle;\n",
       "    }\n",
       "\n",
       "    .dataframe tbody tr th {\n",
       "        vertical-align: top;\n",
       "    }\n",
       "\n",
       "    .dataframe thead th {\n",
       "        text-align: right;\n",
       "    }\n",
       "</style>\n",
       "<table border=\"1\" class=\"dataframe\">\n",
       "  <thead>\n",
       "    <tr style=\"text-align: right;\">\n",
       "      <th></th>\n",
       "      <th>PID</th>\n",
       "      <th>LEGAL_TYPE</th>\n",
       "      <th>FOLIO</th>\n",
       "      <th>LAND_COORDINATE</th>\n",
       "      <th>ZONE_NAME</th>\n",
       "      <th>ZONE_CATEGORY</th>\n",
       "      <th>LOT</th>\n",
       "      <th>BLOCK</th>\n",
       "      <th>PLAN</th>\n",
       "      <th>DISTRICT_LOT</th>\n",
       "      <th>...</th>\n",
       "      <th>CURRENT_IMPROVEMENT_VALUE</th>\n",
       "      <th>TAX_ASSESSMENT_YEAR</th>\n",
       "      <th>PREVIOUS_LAND_VALUE</th>\n",
       "      <th>PREVIOUS_IMPROVEMENT_VALUE</th>\n",
       "      <th>YEAR_BUILT</th>\n",
       "      <th>BIG_IMPROVEMENT_YEAR</th>\n",
       "      <th>TAX_LEVY</th>\n",
       "      <th>NEIGHBOURHOOD_CODE</th>\n",
       "      <th>CURRENT_PRICE</th>\n",
       "      <th>PREVIOUS_PRICE</th>\n",
       "    </tr>\n",
       "  </thead>\n",
       "  <tbody>\n",
       "    <tr>\n",
       "      <th>0</th>\n",
       "      <td>025-734-601</td>\n",
       "      <td>STRATA</td>\n",
       "      <td>7.500400e+11</td>\n",
       "      <td>75004024</td>\n",
       "      <td>C-2</td>\n",
       "      <td>Commercial</td>\n",
       "      <td>25</td>\n",
       "      <td>NaN</td>\n",
       "      <td>BCS498</td>\n",
       "      <td>2027</td>\n",
       "      <td>...</td>\n",
       "      <td>242000</td>\n",
       "      <td>2018</td>\n",
       "      <td>472000.0</td>\n",
       "      <td>238000.0</td>\n",
       "      <td>2003.0</td>\n",
       "      <td>2003.0</td>\n",
       "      <td>NaN</td>\n",
       "      <td>3</td>\n",
       "      <td>834000</td>\n",
       "      <td>710000.0</td>\n",
       "    </tr>\n",
       "    <tr>\n",
       "      <th>1</th>\n",
       "      <td>029-700-868</td>\n",
       "      <td>STRATA</td>\n",
       "      <td>6.381830e+11</td>\n",
       "      <td>63818250</td>\n",
       "      <td>CD-1 (464)</td>\n",
       "      <td>Comprehensive Development</td>\n",
       "      <td>132</td>\n",
       "      <td>NaN</td>\n",
       "      <td>EPS2983</td>\n",
       "      <td>200A</td>\n",
       "      <td>...</td>\n",
       "      <td>327000</td>\n",
       "      <td>2018</td>\n",
       "      <td>603000.0</td>\n",
       "      <td>329000.0</td>\n",
       "      <td>NaN</td>\n",
       "      <td>NaN</td>\n",
       "      <td>NaN</td>\n",
       "      <td>13</td>\n",
       "      <td>1042000</td>\n",
       "      <td>932000.0</td>\n",
       "    </tr>\n",
       "    <tr>\n",
       "      <th>2</th>\n",
       "      <td>029-814-227</td>\n",
       "      <td>STRATA</td>\n",
       "      <td>1.708260e+11</td>\n",
       "      <td>17082596</td>\n",
       "      <td>CD-1 (535)</td>\n",
       "      <td>Comprehensive Development</td>\n",
       "      <td>25</td>\n",
       "      <td>NaN</td>\n",
       "      <td>EPS3173</td>\n",
       "      <td>311</td>\n",
       "      <td>...</td>\n",
       "      <td>273000</td>\n",
       "      <td>2018</td>\n",
       "      <td>416000.0</td>\n",
       "      <td>273000.0</td>\n",
       "      <td>NaN</td>\n",
       "      <td>NaN</td>\n",
       "      <td>NaN</td>\n",
       "      <td>12</td>\n",
       "      <td>780000</td>\n",
       "      <td>689000.0</td>\n",
       "    </tr>\n",
       "    <tr>\n",
       "      <th>3</th>\n",
       "      <td>029-918-731</td>\n",
       "      <td>STRATA</td>\n",
       "      <td>6.401940e+11</td>\n",
       "      <td>64019406</td>\n",
       "      <td>IC-3</td>\n",
       "      <td>Light Industrial</td>\n",
       "      <td>40</td>\n",
       "      <td>26</td>\n",
       "      <td>EPS2425</td>\n",
       "      <td>200A</td>\n",
       "      <td>...</td>\n",
       "      <td>170000</td>\n",
       "      <td>2018</td>\n",
       "      <td>168000.0</td>\n",
       "      <td>170000.0</td>\n",
       "      <td>NaN</td>\n",
       "      <td>NaN</td>\n",
       "      <td>NaN</td>\n",
       "      <td>13</td>\n",
       "      <td>397000</td>\n",
       "      <td>338000.0</td>\n",
       "    </tr>\n",
       "    <tr>\n",
       "      <th>4</th>\n",
       "      <td>017-393-400</td>\n",
       "      <td>STRATA</td>\n",
       "      <td>6.011150e+11</td>\n",
       "      <td>60111496</td>\n",
       "      <td>CD-1 (233)</td>\n",
       "      <td>Comprehensive Development</td>\n",
       "      <td>7</td>\n",
       "      <td>NaN</td>\n",
       "      <td>LMS75</td>\n",
       "      <td>185</td>\n",
       "      <td>...</td>\n",
       "      <td>380000</td>\n",
       "      <td>2018</td>\n",
       "      <td>531000.0</td>\n",
       "      <td>385000.0</td>\n",
       "      <td>1991.0</td>\n",
       "      <td>1991.0</td>\n",
       "      <td>NaN</td>\n",
       "      <td>27</td>\n",
       "      <td>1181000</td>\n",
       "      <td>916000.0</td>\n",
       "    </tr>\n",
       "  </tbody>\n",
       "</table>\n",
       "<p>5 rows × 30 columns</p>\n",
       "</div>"
      ],
      "text/plain": [
       "           PID LEGAL_TYPE         FOLIO  LAND_COORDINATE   ZONE_NAME  \\\n",
       "0  025-734-601     STRATA  7.500400e+11         75004024         C-2   \n",
       "1  029-700-868     STRATA  6.381830e+11         63818250  CD-1 (464)   \n",
       "2  029-814-227     STRATA  1.708260e+11         17082596  CD-1 (535)   \n",
       "3  029-918-731     STRATA  6.401940e+11         64019406        IC-3   \n",
       "4  017-393-400     STRATA  6.011150e+11         60111496  CD-1 (233)   \n",
       "\n",
       "               ZONE_CATEGORY  LOT BLOCK     PLAN DISTRICT_LOT       ...        \\\n",
       "0                 Commercial   25   NaN   BCS498         2027       ...         \n",
       "1  Comprehensive Development  132   NaN  EPS2983         200A       ...         \n",
       "2  Comprehensive Development   25   NaN  EPS3173          311       ...         \n",
       "3           Light Industrial   40    26  EPS2425         200A       ...         \n",
       "4  Comprehensive Development    7   NaN    LMS75          185       ...         \n",
       "\n",
       "  CURRENT_IMPROVEMENT_VALUE  TAX_ASSESSMENT_YEAR PREVIOUS_LAND_VALUE  \\\n",
       "0                    242000                 2018            472000.0   \n",
       "1                    327000                 2018            603000.0   \n",
       "2                    273000                 2018            416000.0   \n",
       "3                    170000                 2018            168000.0   \n",
       "4                    380000                 2018            531000.0   \n",
       "\n",
       "  PREVIOUS_IMPROVEMENT_VALUE YEAR_BUILT BIG_IMPROVEMENT_YEAR TAX_LEVY  \\\n",
       "0                   238000.0     2003.0               2003.0      NaN   \n",
       "1                   329000.0        NaN                  NaN      NaN   \n",
       "2                   273000.0        NaN                  NaN      NaN   \n",
       "3                   170000.0        NaN                  NaN      NaN   \n",
       "4                   385000.0     1991.0               1991.0      NaN   \n",
       "\n",
       "  NEIGHBOURHOOD_CODE CURRENT_PRICE  PREVIOUS_PRICE  \n",
       "0                  3        834000        710000.0  \n",
       "1                 13       1042000        932000.0  \n",
       "2                 12        780000        689000.0  \n",
       "3                 13        397000        338000.0  \n",
       "4                 27       1181000        916000.0  \n",
       "\n",
       "[5 rows x 30 columns]"
      ]
     },
     "execution_count": 2,
     "metadata": {},
     "output_type": "execute_result"
    }
   ],
   "source": [
    "# --- Write your code below ---\n",
    "df.head(5)"
   ]
  },
  {
   "cell_type": "markdown",
   "metadata": {},
   "source": [
    "### Question 2. Get summary statistics"
   ]
  },
  {
   "cell_type": "markdown",
   "metadata": {},
   "source": [
    "From the above output, you will know that the data has 28 columns. Please use the describe() function to get the summary statistics of each column."
   ]
  },
  {
   "cell_type": "code",
   "execution_count": 3,
   "metadata": {},
   "outputs": [
    {
     "data": {
      "text/html": [
       "<div>\n",
       "<style scoped>\n",
       "    .dataframe tbody tr th:only-of-type {\n",
       "        vertical-align: middle;\n",
       "    }\n",
       "\n",
       "    .dataframe tbody tr th {\n",
       "        vertical-align: top;\n",
       "    }\n",
       "\n",
       "    .dataframe thead th {\n",
       "        text-align: right;\n",
       "    }\n",
       "</style>\n",
       "<table border=\"1\" class=\"dataframe\">\n",
       "  <thead>\n",
       "    <tr style=\"text-align: right;\">\n",
       "      <th></th>\n",
       "      <th>FOLIO</th>\n",
       "      <th>LAND_COORDINATE</th>\n",
       "      <th>TO_CIVIC_NUMBER</th>\n",
       "      <th>CURRENT_LAND_VALUE</th>\n",
       "      <th>CURRENT_IMPROVEMENT_VALUE</th>\n",
       "      <th>TAX_ASSESSMENT_YEAR</th>\n",
       "      <th>PREVIOUS_LAND_VALUE</th>\n",
       "      <th>PREVIOUS_IMPROVEMENT_VALUE</th>\n",
       "      <th>YEAR_BUILT</th>\n",
       "      <th>BIG_IMPROVEMENT_YEAR</th>\n",
       "      <th>TAX_LEVY</th>\n",
       "      <th>NEIGHBOURHOOD_CODE</th>\n",
       "      <th>CURRENT_PRICE</th>\n",
       "      <th>PREVIOUS_PRICE</th>\n",
       "    </tr>\n",
       "  </thead>\n",
       "  <tbody>\n",
       "    <tr>\n",
       "      <th>count</th>\n",
       "      <td>2.053460e+05</td>\n",
       "      <td>2.053460e+05</td>\n",
       "      <td>204731.000000</td>\n",
       "      <td>2.053460e+05</td>\n",
       "      <td>2.053460e+05</td>\n",
       "      <td>205346.0</td>\n",
       "      <td>2.030420e+05</td>\n",
       "      <td>2.030420e+05</td>\n",
       "      <td>194899.000000</td>\n",
       "      <td>194905.000000</td>\n",
       "      <td>0.0</td>\n",
       "      <td>205346.000000</td>\n",
       "      <td>2.053460e+05</td>\n",
       "      <td>2.030420e+05</td>\n",
       "    </tr>\n",
       "    <tr>\n",
       "      <th>mean</th>\n",
       "      <td>4.984322e+11</td>\n",
       "      <td>4.984322e+07</td>\n",
       "      <td>2355.494566</td>\n",
       "      <td>1.862369e+06</td>\n",
       "      <td>4.006923e+05</td>\n",
       "      <td>2018.0</td>\n",
       "      <td>1.695359e+06</td>\n",
       "      <td>3.875009e+05</td>\n",
       "      <td>1979.969641</td>\n",
       "      <td>1987.354090</td>\n",
       "      <td>NaN</td>\n",
       "      <td>16.524159</td>\n",
       "      <td>2.263062e+06</td>\n",
       "      <td>2.082860e+06</td>\n",
       "    </tr>\n",
       "    <tr>\n",
       "      <th>std</th>\n",
       "      <td>2.479372e+11</td>\n",
       "      <td>2.479372e+07</td>\n",
       "      <td>1947.760697</td>\n",
       "      <td>1.074259e+07</td>\n",
       "      <td>4.148662e+06</td>\n",
       "      <td>0.0</td>\n",
       "      <td>9.646130e+06</td>\n",
       "      <td>4.236152e+06</td>\n",
       "      <td>29.419729</td>\n",
       "      <td>19.839132</td>\n",
       "      <td>NaN</td>\n",
       "      <td>9.052394</td>\n",
       "      <td>1.258726e+07</td>\n",
       "      <td>1.131819e+07</td>\n",
       "    </tr>\n",
       "    <tr>\n",
       "      <th>min</th>\n",
       "      <td>1.963206e+10</td>\n",
       "      <td>1.963206e+06</td>\n",
       "      <td>1.000000</td>\n",
       "      <td>0.000000e+00</td>\n",
       "      <td>0.000000e+00</td>\n",
       "      <td>2018.0</td>\n",
       "      <td>0.000000e+00</td>\n",
       "      <td>0.000000e+00</td>\n",
       "      <td>1800.000000</td>\n",
       "      <td>200.000000</td>\n",
       "      <td>NaN</td>\n",
       "      <td>1.000000</td>\n",
       "      <td>1.000000e+00</td>\n",
       "      <td>1.000000e+00</td>\n",
       "    </tr>\n",
       "    <tr>\n",
       "      <th>25%</th>\n",
       "      <td>2.107920e+11</td>\n",
       "      <td>2.107919e+07</td>\n",
       "      <td>948.000000</td>\n",
       "      <td>4.680000e+05</td>\n",
       "      <td>9.530000e+04</td>\n",
       "      <td>2018.0</td>\n",
       "      <td>3.840000e+05</td>\n",
       "      <td>9.470000e+04</td>\n",
       "      <td>1965.000000</td>\n",
       "      <td>1975.000000</td>\n",
       "      <td>NaN</td>\n",
       "      <td>9.000000</td>\n",
       "      <td>6.530000e+05</td>\n",
       "      <td>5.670000e+05</td>\n",
       "    </tr>\n",
       "    <tr>\n",
       "      <th>50%</th>\n",
       "      <td>6.122360e+11</td>\n",
       "      <td>6.122363e+07</td>\n",
       "      <td>1777.000000</td>\n",
       "      <td>1.057000e+06</td>\n",
       "      <td>1.830000e+05</td>\n",
       "      <td>2018.0</td>\n",
       "      <td>9.440000e+05</td>\n",
       "      <td>1.810000e+05</td>\n",
       "      <td>1990.000000</td>\n",
       "      <td>1992.000000</td>\n",
       "      <td>NaN</td>\n",
       "      <td>16.000000</td>\n",
       "      <td>1.278000e+06</td>\n",
       "      <td>1.201000e+06</td>\n",
       "    </tr>\n",
       "    <tr>\n",
       "      <th>75%</th>\n",
       "      <td>6.882770e+11</td>\n",
       "      <td>6.882774e+07</td>\n",
       "      <td>3290.000000</td>\n",
       "      <td>1.692000e+06</td>\n",
       "      <td>2.950000e+05</td>\n",
       "      <td>2018.0</td>\n",
       "      <td>1.680000e+06</td>\n",
       "      <td>2.880000e+05</td>\n",
       "      <td>2002.000000</td>\n",
       "      <td>2002.000000</td>\n",
       "      <td>NaN</td>\n",
       "      <td>25.000000</td>\n",
       "      <td>1.984000e+06</td>\n",
       "      <td>1.937000e+06</td>\n",
       "    </tr>\n",
       "    <tr>\n",
       "      <th>max</th>\n",
       "      <td>8.453130e+11</td>\n",
       "      <td>8.453134e+07</td>\n",
       "      <td>9295.000000</td>\n",
       "      <td>3.516727e+09</td>\n",
       "      <td>6.117980e+08</td>\n",
       "      <td>2018.0</td>\n",
       "      <td>3.319471e+09</td>\n",
       "      <td>6.262320e+08</td>\n",
       "      <td>2015.000000</td>\n",
       "      <td>2015.000000</td>\n",
       "      <td>NaN</td>\n",
       "      <td>30.000000</td>\n",
       "      <td>3.516727e+09</td>\n",
       "      <td>3.319471e+09</td>\n",
       "    </tr>\n",
       "  </tbody>\n",
       "</table>\n",
       "</div>"
      ],
      "text/plain": [
       "              FOLIO  LAND_COORDINATE  TO_CIVIC_NUMBER  CURRENT_LAND_VALUE  \\\n",
       "count  2.053460e+05     2.053460e+05    204731.000000        2.053460e+05   \n",
       "mean   4.984322e+11     4.984322e+07      2355.494566        1.862369e+06   \n",
       "std    2.479372e+11     2.479372e+07      1947.760697        1.074259e+07   \n",
       "min    1.963206e+10     1.963206e+06         1.000000        0.000000e+00   \n",
       "25%    2.107920e+11     2.107919e+07       948.000000        4.680000e+05   \n",
       "50%    6.122360e+11     6.122363e+07      1777.000000        1.057000e+06   \n",
       "75%    6.882770e+11     6.882774e+07      3290.000000        1.692000e+06   \n",
       "max    8.453130e+11     8.453134e+07      9295.000000        3.516727e+09   \n",
       "\n",
       "       CURRENT_IMPROVEMENT_VALUE  TAX_ASSESSMENT_YEAR  PREVIOUS_LAND_VALUE  \\\n",
       "count               2.053460e+05             205346.0         2.030420e+05   \n",
       "mean                4.006923e+05               2018.0         1.695359e+06   \n",
       "std                 4.148662e+06                  0.0         9.646130e+06   \n",
       "min                 0.000000e+00               2018.0         0.000000e+00   \n",
       "25%                 9.530000e+04               2018.0         3.840000e+05   \n",
       "50%                 1.830000e+05               2018.0         9.440000e+05   \n",
       "75%                 2.950000e+05               2018.0         1.680000e+06   \n",
       "max                 6.117980e+08               2018.0         3.319471e+09   \n",
       "\n",
       "       PREVIOUS_IMPROVEMENT_VALUE     YEAR_BUILT  BIG_IMPROVEMENT_YEAR  \\\n",
       "count                2.030420e+05  194899.000000         194905.000000   \n",
       "mean                 3.875009e+05    1979.969641           1987.354090   \n",
       "std                  4.236152e+06      29.419729             19.839132   \n",
       "min                  0.000000e+00    1800.000000            200.000000   \n",
       "25%                  9.470000e+04    1965.000000           1975.000000   \n",
       "50%                  1.810000e+05    1990.000000           1992.000000   \n",
       "75%                  2.880000e+05    2002.000000           2002.000000   \n",
       "max                  6.262320e+08    2015.000000           2015.000000   \n",
       "\n",
       "       TAX_LEVY  NEIGHBOURHOOD_CODE  CURRENT_PRICE  PREVIOUS_PRICE  \n",
       "count       0.0       205346.000000   2.053460e+05    2.030420e+05  \n",
       "mean        NaN           16.524159   2.263062e+06    2.082860e+06  \n",
       "std         NaN            9.052394   1.258726e+07    1.131819e+07  \n",
       "min         NaN            1.000000   1.000000e+00    1.000000e+00  \n",
       "25%         NaN            9.000000   6.530000e+05    5.670000e+05  \n",
       "50%         NaN           16.000000   1.278000e+06    1.201000e+06  \n",
       "75%         NaN           25.000000   1.984000e+06    1.937000e+06  \n",
       "max         NaN           30.000000   3.516727e+09    3.319471e+09  "
      ]
     },
     "execution_count": 3,
     "metadata": {},
     "output_type": "execute_result"
    }
   ],
   "source": [
    "# --- Write your code below ---\n",
    "df.describe()"
   ]
  },
  {
   "cell_type": "markdown",
   "metadata": {},
   "source": [
    "Please look at the above output carefully, and make sure that you understand the meanings of each row (e.g., std, 25% percentile)."
   ]
  },
  {
   "cell_type": "markdown",
   "metadata": {},
   "source": [
    "### Question 3. Examine missing values"
   ]
  },
  {
   "cell_type": "markdown",
   "metadata": {},
   "source": [
    "Now we are going to perform EDA on a single column (i.e., univariate analysis). We chose `YEAR_BUILT`, which represents in which year a property was built.  We first check whether the column has any missing value. "
   ]
  },
  {
   "cell_type": "code",
   "execution_count": 4,
   "metadata": {
    "scrolled": true
   },
   "outputs": [
    {
     "name": "stdout",
     "output_type": "stream",
     "text": [
      "Percentage missing = 5.09%\n"
     ]
    }
   ],
   "source": [
    "# --- Write your code below ---\n",
    "# Print the percentage of the rows whose YEAR_BUILT is missing.\n",
    "count = df['YEAR_BUILT'].isna().sum()\n",
    "percentage = 100*count/df['YEAR_BUILT'].shape[0]\n",
    "print(\"Percentage missing = {0:.2f}%\".format(percentage))"
   ]
  },
  {
   "cell_type": "markdown",
   "metadata": {},
   "source": [
    "Missing values are very common in real-world datasets. In practice, you should always be aware of the impact of the missing values on your downstream analysis results."
   ]
  },
  {
   "cell_type": "markdown",
   "metadata": {},
   "source": [
    "### Question 4.  Plot a line chart"
   ]
  },
  {
   "cell_type": "markdown",
   "metadata": {},
   "source": [
    "We now start investigating the values in the `YEAR_BUILT` column.  Suppose we want to know: \"How many properties were built in each year (from 1900 to 2018)?\" Please plot a line chart to answer the question."
   ]
  },
  {
   "cell_type": "code",
   "execution_count": 5,
   "metadata": {
    "scrolled": true
   },
   "outputs": [
    {
     "data": {
      "image/png": "[encoded data removed]",
      "text/plain": [
       "<Figure size 1080x288 with 1 Axes>"
      ]
     },
     "metadata": {
      "needs_background": "light"
     },
     "output_type": "display_data"
    }
   ],
   "source": [
    "# --- Write your code below ---\n",
    "import matplotlib.pyplot as plt\n",
    "%matplotlib inline\n",
    "\n",
    "fig = plt.figure(figsize=(15,4))\n",
    "df_year = pd.DataFrame(df['YEAR_BUILT'].dropna(),columns=['YEAR_BUILT'])\n",
    "df_new = df_year.groupby(['YEAR_BUILT']).size()\n",
    "plt.plot(df_new.index,df_new, color='blue', marker='D',linewidth=2, markersize=2)\n",
    "plt.grid(True)\n",
    "plt.savefig('plots/year_built_hist.jpg',dpi=300,transparent=True)"
   ]
  },
  {
   "cell_type": "markdown",
   "metadata": {
    "collapsed": true
   },
   "source": [
    "Please write down the **two** most interesting findings that you draw from the plot. For example, you can say: <font color='blue'>\"Vancouver has about 6300 properties built in 1996 alone, which is more than any other year\"</font>. For each finding, please write <font color=\"red\">no more than 2 sentences</font>.\n",
    "\n",
    "**Findings**\n",
    "1. The number of houses in the year 1994 was the highest of all the years (may be due to the real estate prices going low). \n",
    "2. However, after 1994, year 2001 saw a drastic decline in the number of houses built (indicating the real estate prices might have went up in that specific year)."
   ]
  },
  {
   "cell_type": "markdown",
   "metadata": {},
   "source": [
    "### Question 5. Plot a bar chart"
   ]
  },
  {
   "cell_type": "markdown",
   "metadata": {},
   "source": [
    "Next, we want to find that, between 1900 and 2018, which years have the most number of properties been built? Plot a bar chart to show the top 20 years. "
   ]
  },
  {
   "cell_type": "code",
   "execution_count": 6,
   "metadata": {
    "scrolled": true
   },
   "outputs": [
    {
     "data": {
      "image/png": "[encoded data removed]",
      "text/plain": [
       "<Figure size 1080x288 with 1 Axes>"
      ]
     },
     "metadata": {
      "needs_background": "light"
     },
     "output_type": "display_data"
    }
   ],
   "source": [
    "# --- Write your code below ---\n",
    "df_sorted = df_new.sort_values(ascending=False)\n",
    "select_num=20\n",
    "fig = plt.figure(figsize=(15,4))\n",
    "plt.bar(range(20),df_sorted.values[:select_num])\n",
    "plt.xlabel('YEAR')\n",
    "plt.ylabel('frequency')\n",
    "plt.xticks(range(20), df_sorted.index[:select_num],fontsize=10, rotation=30)\n",
    "plt.savefig('plots/top_20_bar_chart.jpg',dpi=300,transparent=True)"
   ]
  },
  {
   "cell_type": "markdown",
   "metadata": {},
   "source": [
    "Please write down the **two** most interesting findings that you draw from the plot. \n",
    "\n",
    "**Findings**\n",
    "1. The difference between the properties built for top two years, is pretty high. And they are consecutive 1994,1995\n",
    "2. Also, We see that the difference among properties built for rest 18 years is very low. Infact some of them like [1997,1998] have same number of properties built. "
   ]
  },
  {
   "cell_type": "markdown",
   "metadata": {},
   "source": [
    "### Question 6. Plot a histogram"
   ]
  },
  {
   "cell_type": "markdown",
   "metadata": {},
   "source": [
    "What's the distribution of the number of properties built between 1900 and 2018? Please plot a histogram to answer this question."
   ]
  },
  {
   "cell_type": "code",
   "execution_count": 7,
   "metadata": {},
   "outputs": [
    {
     "data": {
      "image/png": "[encoded data removed]",
      "text/plain": [
       "<Figure size 1080x288 with 1 Axes>"
      ]
     },
     "metadata": {
      "needs_background": "light"
     },
     "output_type": "display_data"
    }
   ],
   "source": [
    "# --- Write your code below ---\n",
    "greater_df = df_year['YEAR_BUILT'] > 1900\n",
    "lesser_df = df_year['YEAR_BUILT'] < 2019\n",
    "df_filtered = df_year[lesser_df & greater_df]\n",
    "df_fil_new = df_filtered.groupby(['YEAR_BUILT']).size()\n",
    "fig = plt.figure(figsize=(15,4))\n",
    "plt.hist(df_fil_new.values,bins=80,histtype='bar',range=(0,7000))\n",
    "plt.xlabel(\"YEAR_BUILT\")\n",
    "plt.ylabel(\"FREQUENCY\")\n",
    "plt.savefig(\"plots/histogram_year.jpg\",dpi=300)"
   ]
  },
  {
   "cell_type": "markdown",
   "metadata": {},
   "source": [
    "Please write down the **two** most interesting findings that you draw from the plot. \n",
    "\n",
    "**Findings**\n",
    "1. As expected, the frequency of properties greater than 4k built, is lower.  \n",
    "2. Most of the years have properties less than 1000 built, indicating a slow urbanization.  "
   ]
  },
  {
   "cell_type": "markdown",
   "metadata": {},
   "source": [
    "### Question 7. Make a scatter plot"
   ]
  },
  {
   "cell_type": "markdown",
   "metadata": {},
   "source": [
    "Suppose we are interested in those years which built more than 2000 properties. Make a scatter plot to examine whether there is a relationship between the number of built properties and the year?"
   ]
  },
  {
   "cell_type": "code",
   "execution_count": 8,
   "metadata": {
    "scrolled": true
   },
   "outputs": [
    {
     "data": {
      "text/plain": [
       "Text(0, 0.5, 'YEAR')"
      ]
     },
     "execution_count": 8,
     "metadata": {},
     "output_type": "execute_result"
    },
    {
     "data": {
      "image/png": "[encoded data removed]",
      "text/plain": [
       "<Figure size 720x288 with 1 Axes>"
      ]
     },
     "metadata": {
      "needs_background": "light"
     },
     "output_type": "display_data"
    }
   ],
   "source": [
    "# --- Write your code below ---\n",
    "df_n = df_new.dropna()\n",
    "df_n = df_n[df_n.values>2000]\n",
    "fig = plt.figure(figsize=(10,4))\n",
    "plt.scatter(df_n.values,df_n.index, c='green', alpha=1)\n",
    "plt.grid(True)\n",
    "plt.xlabel(\"No. Of properties\")\n",
    "plt.ylabel(\"YEAR\")"
   ]
  },
  {
   "cell_type": "markdown",
   "metadata": {},
   "source": [
    "Please write down the **two** most interesting findings that you draw from the plot. \n",
    "\n",
    "**Findings**\n",
    "1. More than 2000 properties built in an year mostly happened after the year 1970 (in modern times).\n",
    "2. Since properties mark urban development, year between 1920-1970 were the period of low urbanization (or urban development)."
   ]
  },
  {
   "cell_type": "markdown",
   "metadata": {},
   "source": [
    "### Question 8. PDF and CDF"
   ]
  },
  {
   "cell_type": "markdown",
   "metadata": {},
   "source": [
    "Can you believe that you have already drawn 8 interesting findings by exploring a single column! This is the power of EDA combined with critical thinking. Now we are moving to multivariate analysis.\n",
    "\n",
    "Suppose you want to compare the housing price between this year and last year, i.e., CURRENT_PRICE vs. PREVIOUS_PRICE. \n",
    "You can plot their distributions, and make the comparison. There are two ways to define a distribution: [Probabilistic Distribution Function](https://en.wikipedia.org/wiki/Probability_density_function) (PDF) and [Cumulative Distribution Function](https://en.wikipedia.org/wiki/Cumulative_distribution_function) (CDF). \n",
    "\n",
    "In the following, please make two plots and put them side-by-side.  \n",
    "* In the first plot, use histograms to plot the probabilistic distributions of CURRENT_PRICE and PREVIOUS_PRICE.\n",
    "* In the second plot, use histograms to plot the cumulative distributions of CURRENT_PRICE and PREVIOUS_PRICE.\n",
    "\n",
    "There are a few properties which are way more expensive than the others. For both plots, please exclude those properties by setting `xlim` = (0, 5Million)."
   ]
  },
  {
   "cell_type": "code",
   "execution_count": 30,
   "metadata": {},
   "outputs": [
    {
     "data": {
      "text/plain": [
       "<matplotlib.legend.Legend at 0x1a264881588>"
      ]
     },
     "execution_count": 30,
     "metadata": {},
     "output_type": "execute_result"
    },
    {
     "data": {
      "image/png": "[encoded data removed]",
      "text/plain": [
       "<Figure size 720x360 with 2 Axes>"
      ]
     },
     "metadata": {
      "needs_background": "light"
     },
     "output_type": "display_data"
    }
   ],
   "source": [
    "# --- Write your code below ---\n",
    "%matplotlib inline\n",
    "import matplotlib.pyplot as plt\n",
    "import pandas as pd\n",
    "\n",
    "data1 = df['CURRENT_PRICE'][(df['CURRENT_PRICE'] < 5000000)]/1000000\n",
    "data2 = df['PREVIOUS_PRICE'][(df['PREVIOUS_PRICE'] < 5000000)]/1000000\n",
    "\n",
    "\n",
    "_bin_cnt = 500\n",
    "_alpha = 0.1\n",
    "\n",
    "\n",
    "f, (pl1, pl2) = plt.subplots(1,2, figsize=(10,5))\n",
    "pl1.hist(data1, bins=_bin_cnt, alpha = _alpha, label = 'CURRENT_PRICE', density=True,color='blue')\n",
    "pl1.hist(data2, bins=_bin_cnt, alpha = _alpha, label = 'PREVIOUS_PRICE', density=True,color='yellow')\n",
    "pl1.set_ylabel('Probability');\n",
    "pl1.set_xlabel('Property Price (Million)');\n",
    "pl1.legend(loc='upper right')\n",
    "\n",
    "pl2.hist(data1, bins=_bin_cnt, alpha = _alpha, label = 'CURRENT_PRICE', cumulative= True, density= True,color='blue')\n",
    "pl2.hist(data2, bins=_bin_cnt, alpha = _alpha, label = 'PREVIOUS_PRICE', cumulative= True, density= True,color='yellow')\n",
    "pl2.set_ylabel('Probability');\n",
    "pl2.set_xlabel('Property Price (Million)');\n",
    "pl2.legend(loc='upper right')"
   ]
  },
  {
   "cell_type": "markdown",
   "metadata": {},
   "source": [
    "Please write down the **two** most interesting findings that you draw from the plots.\n",
    "\n",
    "**FINDINGS**\n",
    "1. Most of the house prices falls under 2 million bucket.\n",
    "2. From the cumulative distribution graph, we can infer that property prices dropped a little in the current year if the price of the property was < ~1.5 million."
   ]
  },
  {
   "cell_type": "markdown",
   "metadata": {},
   "source": [
    "### Question 9. Use EDA to answer an interesting question (1)"
   ]
  },
  {
   "cell_type": "markdown",
   "metadata": {},
   "source": [
    "In the above plots, we found that the overall housing price has increased, but we do not which type of property has increased more. \n",
    "\n",
    "Now we add another variable `LEGAL_TYPE` (e.g., STRATA, LAND) to the analysis, and consider three variables (`LEGAL_TYPE`, `CURRENT_PRICE`, `PREVIOUS_PRICE`) in total. \n",
    "\n",
    "In the following, please make two plots and put them side-by-side.\n",
    "* In the first plot, please use histograms to plot the probabilistic distributions of CURRENT_PRICE and PREVIOUS_PRICE for `LEGAL_TYPE` = \"STRATA\".\n",
    "* In the first plot, please use histograms to plot the probabilistic distributions of CURRENT_PRICE and PREVIOUS_PRICE for `LEGAL_TYPE` = \"LAND\"."
   ]
  },
  {
   "cell_type": "code",
   "execution_count": 31,
   "metadata": {
    "scrolled": true
   },
   "outputs": [
    {
     "name": "stderr",
     "output_type": "stream",
     "text": [
      "C:\\Users\\gargm\\Anaconda3\\lib\\site-packages\\ipykernel_launcher.py:32: MatplotlibDeprecationWarning: \n",
      "The 'normed' kwarg was deprecated in Matplotlib 2.1 and will be removed in 3.1. Use 'density' instead.\n",
      "C:\\Users\\gargm\\Anaconda3\\lib\\site-packages\\ipykernel_launcher.py:33: MatplotlibDeprecationWarning: \n",
      "The 'normed' kwarg was deprecated in Matplotlib 2.1 and will be removed in 3.1. Use 'density' instead.\n"
     ]
    },
    {
     "data": {
      "text/plain": [
       "<matplotlib.legend.Legend at 0x1a2642db4a8>"
      ]
     },
     "execution_count": 31,
     "metadata": {},
     "output_type": "execute_result"
    },
    {
     "data": {
      "image/png": "[encoded data removed]",
      "text/plain": [
       "<Figure size 720x360 with 2 Axes>"
      ]
     },
     "metadata": {
      "needs_background": "light"
     },
     "output_type": "display_data"
    }
   ],
   "source": [
    "# --- Write your code below ---\n",
    "%matplotlib inline\n",
    "import matplotlib.pyplot as plt\n",
    "import pandas as pd\n",
    "\n",
    "df['LEGAL_TYPE'].unique()\n",
    "\n",
    "strata = df[df['LEGAL_TYPE'] == 'STRATA']\n",
    "\n",
    "data1 = strata['CURRENT_PRICE'][(strata['CURRENT_PRICE'] < 5000000)]/1000000\n",
    "data2 = strata['PREVIOUS_PRICE'][(strata['PREVIOUS_PRICE'] < 5000000)]/1000000\n",
    "\n",
    "\n",
    "land = df[df['LEGAL_TYPE'] == 'LAND']\n",
    "\n",
    "data3 = land['CURRENT_PRICE'][(land['CURRENT_PRICE'] < 5000000)]/1000000\n",
    "data4 = land['PREVIOUS_PRICE'][(land['PREVIOUS_PRICE'] < 5000000)]/1000000\n",
    "\n",
    "\n",
    "_bin_cnt = 500\n",
    "_alpha = 0.5\n",
    "\n",
    "\n",
    "f, (pl1, pl2) = plt.subplots(1,2, figsize=(10,5))\n",
    "pl1.hist(data1, bins=_bin_cnt, alpha = _alpha, label = 'CURRENT_PRICE')\n",
    "pl1.hist(data2, bins=_bin_cnt, alpha = _alpha, label = 'PREVIOUS_PRICE')\n",
    "pl1.set_ylabel('Probability');\n",
    "pl1.set_xlabel('STRATA Property Price (Million)');\n",
    "pl1.legend(loc='upper right')\n",
    "\n",
    "# plt.figure(2)\n",
    "pl2.hist(data3, bins=_bin_cnt, alpha = _alpha, label = 'CURRENT_PRICE', normed=True)\n",
    "pl2.hist(data4, bins=_bin_cnt, alpha = _alpha, label = 'PREVIOUS_PRICE', normed=True)\n",
    "pl2.set_ylabel('Probability');\n",
    "pl2.set_xlabel('LAND Property Price (Million)');\n",
    "pl2.legend(loc='upper right')\n",
    "\n"
   ]
  },
  {
   "cell_type": "markdown",
   "metadata": {},
   "source": [
    "Please write down the **two** most interesting findings that you draw from the plots. \n",
    "\n",
    "**Findings**\n",
    "1. For STRATA (Condo) type property- prices tends to rise this year if it was valued more than 0.8 million last year.\n",
    "2. Compared to STRATA type where we have a property built, the prices of LAND remains stable year by year where its a piece of empty land without any property.\n"
   ]
  },
  {
   "cell_type": "markdown",
   "metadata": {},
   "source": [
    "### Question 10. Use EDA to answer interesting questions (2)"
   ]
  },
  {
   "cell_type": "markdown",
   "metadata": {},
   "source": [
    "Although the housing price of the entire Vancouver area is increasing, there might be some areas whose housing price is decreasing. To answer this question, we need to consider another column -- `PROPERTY_POSTAL_CODE`.\n",
    "\n",
    "`PROPERTY_POSTAL_CODE` (e.g., \"V5A 1S6\") is a six-character string with a space separating the third and fourth characters. We use the first three characters to represent an *area*. \n",
    "\n",
    "We first filter out the areas which have less than 10 properties. For each of the remaining areas, we calculate the percentage of the properties whose price has decreased compared to the last year. For example, if an area \"V5A\" has 50 properties, and 30 of them have decreased, then the percentage is 60%.\n",
    "\n",
    "Please write code to find the top-10 areas with the highest percentages. Create a bar chart to visualize them. "
   ]
  },
  {
   "cell_type": "code",
   "execution_count": 32,
   "metadata": {
    "scrolled": true
   },
   "outputs": [
    {
     "data": {
      "text/plain": [
       "<matplotlib.axes._subplots.AxesSubplot at 0x1a26dbeac88>"
      ]
     },
     "execution_count": 32,
     "metadata": {},
     "output_type": "execute_result"
    },
    {
     "data": {
      "image/png": "[encoded data removed]",
      "text/plain": [
       "<Figure size 432x288 with 1 Axes>"
      ]
     },
     "metadata": {
      "needs_background": "light"
     },
     "output_type": "display_data"
    }
   ],
   "source": [
    "# --- Write your code below ---\n",
    "%matplotlib inline\n",
    "import matplotlib.pyplot as plt\n",
    "data = df.copy()\n",
    "\n",
    "data['PRICE_DIFF'] = data['CURRENT_PRICE'] < data['PREVIOUS_PRICE']\n",
    "\n",
    "data.PROPERTY_POSTAL_CODE = data.PROPERTY_POSTAL_CODE.map(lambda row: str(row).split(' ')[0])\n",
    "d = data.groupby('PROPERTY_POSTAL_CODE').PRICE_DIFF.apply(lambda x: pd.Series([x.sum(), x.count()])).unstack()\n",
    "\n",
    "d = d[d[1] >10]\n",
    "d['DROPPED_PERC'] = d[0] / d[1] *100\n",
    "d['DROPPED_PERC'].sort_values(ascending = False).head(10).plot(kind='bar')\n",
    "\n"
   ]
  },
  {
   "cell_type": "markdown",
   "metadata": {},
   "source": [
    "Please write down the **two** most interesting findings that you draw from the plot. \n",
    "\n",
    "**Findings**\n",
    "1. Areas near UBC [V6S, V6L] came as the top 2 places where most percentages of property prices dropeed since last year.\n",
    "2. The other trending areas in this graph is the south Vancouver region (area code starts with V5_)"
   ]
  },
  {
   "cell_type": "markdown",
   "metadata": {},
   "source": [
    "### Question 11. Come up with your own question."
   ]
  },
  {
   "cell_type": "markdown",
   "metadata": {},
   "source": [
    "*You need to complete the following three tasks.*\n",
    "\n",
    "Firstly, please come up with an interesting question on your own (like Q9 and Q10). \n",
    "\n",
    "**A short description of the question: [ADD TEXT]**"
   ]
  },
  {
   "cell_type": "markdown",
   "metadata": {},
   "source": [
    "Secondly, please write code so that the output of your code can answer the question."
   ]
  },
  {
   "cell_type": "code",
   "execution_count": 33,
   "metadata": {},
   "outputs": [
    {
     "name": "stdout",
     "output_type": "stream",
     "text": [
      "PROPERTY_POSTAL_CODE\n",
      "V6S    15.587530\n",
      "V6L    20.340475\n",
      "V6N    37.378985\n",
      "V5W    38.188648\n",
      "V6R    38.663639\n",
      "V5P    39.170698\n",
      "V5M    57.641597\n",
      "V5X    57.696845\n",
      "V6M    59.228761\n",
      "V5S    59.358524\n",
      "Name: PRICE_RISE_PERC, dtype: float64\n"
     ]
    },
    {
     "data": {
      "image/png": "[encoded data removed]",
      "text/plain": [
       "<Figure size 432x288 with 1 Axes>"
      ]
     },
     "metadata": {
      "needs_background": "light"
     },
     "output_type": "display_data"
    }
   ],
   "source": [
    "# --- Write your code below ---\n",
    "%matplotlib inline\n",
    "import matplotlib.pyplot as plt\n",
    "data = df.copy()\n",
    "\n",
    "data['PRICE_DIFF'] = data['CURRENT_PRICE'] > data['PREVIOUS_PRICE']\n",
    "\n",
    "data.PROPERTY_POSTAL_CODE = data.PROPERTY_POSTAL_CODE.map(lambda row: str(row).split(' ')[0])\n",
    "d = data.groupby('PROPERTY_POSTAL_CODE').PRICE_DIFF.apply(lambda x: pd.Series([x.sum(), x.count()])).unstack()\n",
    "d= d.loc[d.index != 'nan']\n",
    "\n",
    "d = d[d[1] >30]\n",
    "d['PRICE_RISE_PERC'] = d[0] / d[1] *100\n",
    "d['PRICE_RISE_PERC'].sort_values().head(10).plot(kind='bar')\n",
    "print(d['PRICE_RISE_PERC'].sort_values().head(10))\n"
   ]
  },
  {
   "cell_type": "markdown",
   "metadata": {},
   "source": [
    "Thirdly, please write the two most important findings.\n",
    "\n",
    "**Findings**\n",
    "1. Areas near UBC are the bottom 2 postal codes whose housing prices increased since last year, which seems to be consistent with our previous findings.\n",
    "\n",
    "2. We can see three separate cluster patterns here, \n",
    "    \n",
    "    * areas with ~15-20% of properties price change. \n",
    "    * areas with ~38% of properties price change. \n",
    "    * areas with ~59% of properties price change. "
   ]
  },
  {
   "cell_type": "markdown",
   "metadata": {},
   "source": [
    "## Part 2. Bootstrapping"
   ]
  },
  {
   "cell_type": "markdown",
   "metadata": {},
   "source": [
    "In Part 1, we run our analysis over the full dataset. In reality, however, you may not be that lucky. It is more often than not that you can only collect a sample of the data. Whenever you derive a conclusion from a sample (e.g., The Vancouver's housing price has increased by 10\\% since last year), you should ALWAYS ask yourself: <font color=\"blue\">\"CAN I TRUST IT?\"</font>. In other words, you want to know that if the same analysis was conducted on the full data, would the same conclusion be derived? In Part 2, you will learn how to use bootstrapping to answer this question. "
   ]
  },
  {
   "cell_type": "markdown",
   "metadata": {},
   "source": [
    "Please download the sample dataset [property_tax_report_2018_sample.zip](http://tiny.cc/cmpt733-datasets/property_tax_report_2018_sample.zip), and load it as a DataFrame. "
   ]
  },
  {
   "cell_type": "code",
   "execution_count": null,
   "metadata": {},
   "outputs": [],
   "source": [
    "df_sample = pd.read_csv(\"data/property_tax_report_sample.csv\")\n",
    "\n",
    "df_sample['CURRENT_PRICE'] = df_sample.apply(lambda x: x['CURRENT_LAND_VALUE']+x['CURRENT_IMPROVEMENT_VALUE'], axis = 1)\n",
    "\n",
    "df_sample['PREVIOUS_PRICE'] = df_sample.apply(lambda x: x['PREVIOUS_LAND_VALUE']+x['PREVIOUS_IMPROVEMENT_VALUE'], axis = 1)\n",
    "\n",
    "df_sample = df_sample[df_sample['LEGAL_TYPE'] == 'STRATA']"
   ]
  },
  {
   "cell_type": "markdown",
   "metadata": {},
   "source": [
    "### Task 1. Analysis Result Without Bootstrapping"
   ]
  },
  {
   "cell_type": "markdown",
   "metadata": {},
   "source": [
    "Please compute the median of PREVIOUS_PRICE and CURRENT_PRICE, respectively, and compare them in a bar chart."
   ]
  },
  {
   "cell_type": "code",
   "execution_count": null,
   "metadata": {},
   "outputs": [],
   "source": [
    "# --- Write your code below ---\n",
    "names = ['Current Price Median','Previous Price Median']\n",
    "medians = [df_sample['CURRENT_PRICE'].median(),df_sample['PREVIOUS_PRICE'].median()]\n",
    "plt.bar(names, medians)\n",
    "plt.ylabel(\"Price\")"
   ]
  },
  {
   "cell_type": "markdown",
   "metadata": {},
   "source": [
    "### Task 2. Analysis Result With Bootstrapping"
   ]
  },
  {
   "cell_type": "markdown",
   "metadata": {},
   "source": [
    "From the above chart, we find that the median of PREVIOUS_PRICE is about 0.6 M, and the median of CURRENT_PRICE is about 0.7 M. Since the numbers were obtained from the sample, <font color=\"blue\">\"CAN WE TRUST THESE NUMBERS?\"</font> \n",
    "\n",
    "In the following, please implement the bootstrap by yourself, and compute a 95%-confidence interval for each number. [This document](./MIT18_05S14_Reading24.pdf) gives a good tutorial about the bootstrap. You can find the description of the algorithm in Section 7."
   ]
  },
  {
   "cell_type": "code",
   "execution_count": null,
   "metadata": {
    "scrolled": true
   },
   "outputs": [],
   "source": [
    "# --- Write your code below ---\n",
    "import numpy as np\n",
    "\n",
    "def bootstrap_median(x,actual_median,diff_ls,size=30):\n",
    "    med_ls=[]\n",
    "    for _ in range(1000):\n",
    "        sample = np.random.choice(x,size=size,replace=True)\n",
    "        med = np.median(sample)\n",
    "        med_ls.append(med)\n",
    "        dif = med-actual_median\n",
    "        diff_ls.append(dif)\n",
    "    return (np.median(med_ls),diff_ls)\n",
    "\n",
    "def find_confidence_interval(ratio,diff):\n",
    "    interval = (1-ratio)/2\n",
    "    upper_limit = 1-interval\n",
    "    lower_limit = interval\n",
    "    diff=sorted(diff)\n",
    "    sample_size = len(diff)\n",
    "    upper_limit = diff[int(upper_limit*sample_size)]\n",
    "    lower_limit = diff[int(lower_limit*sample_size)]\n",
    "    print(upper_limit,lower_limit)\n",
    "    return [lower_limit,upper_limit]\n",
    "    \n",
    "cmed = df_sample['CURRENT_PRICE'].dropna().median()\n",
    "pmed = df_sample['PREVIOUS_PRICE'].dropna().median()\n",
    "(bootstrap_cmed,diff_cmed) = bootstrap_median(df_sample['CURRENT_PRICE'].dropna(),cmed,[])\n",
    "(bootstrap_pmed,diff_pmed) = bootstrap_median(df_sample['PREVIOUS_PRICE'].dropna(),pmed,[])\n",
    "conf_cmed = find_confidence_interval(0.90,diff_cmed)\n",
    "conf_pmed = find_confidence_interval(0.90,diff_pmed)\n",
    "\n",
    "print(\"For current price: Actual median = {},bootstrapped median = [{},{}]\".format(cmed,bootstrap_cmed+conf_cmed[0],bootstrap_cmed+conf_cmed[1]))\n",
    "print(\"For previous price: Actual median = {},bootstrapped median = [{},{}]\".format(pmed,bootstrap_cmed+conf_pmed[0],bootstrap_cmed+conf_pmed[1]))\n",
    "print(conf_cmed,conf_pmed)"
   ]
  },
  {
   "cell_type": "markdown",
   "metadata": {},
   "source": [
    "## Submission"
   ]
  },
  {
   "cell_type": "markdown",
   "metadata": {},
   "source": [
    "Complete the code in this [notebook](https://github.com/sfu-db/bigdata-cmpt733/blob/master/Assignments/A4/A4.ipynb), and submit it to the CourSys activity Assignment 4."
   ]
  }
 ],
 "metadata": {
  "kernelspec": {
   "display_name": "Python 3",
   "language": "python",
   "name": "python3"
  },
  "language_info": {
   "codemirror_mode": {
    "name": "ipython",
    "version": 3
   },
   "file_extension": ".py",
   "mimetype": "text/x-python",
   "name": "python",
   "nbconvert_exporter": "python",
   "pygments_lexer": "ipython3",
   "version": "3.7.1"
  }
 },
 "nbformat": 4,
 "nbformat_minor": 2
}
