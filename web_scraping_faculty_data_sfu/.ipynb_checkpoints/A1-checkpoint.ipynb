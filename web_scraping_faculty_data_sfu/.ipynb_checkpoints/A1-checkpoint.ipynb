{
 "cells": [
  {
   "cell_type": "markdown",
   "metadata": {},
   "source": [
    "# Assignment 1: Web Scraping"
   ]
  },
  {
   "cell_type": "markdown",
   "metadata": {},
   "source": [
    "## Objective"
   ]
  },
  {
   "cell_type": "markdown",
   "metadata": {},
   "source": [
    "Data scientists often need to crawl data from websites and turn the crawled data (HTML pages) to structured data (tables). Thus, web scraping is an essential skill that every data scientist should master. In this assignment, you will learn the followings:\n",
    "\n",
    "\n",
    "* How to use [requests](http://www.python-requests.org/en/master/) to download HTML pages from a website?\n",
    "* How to select content on a webpage with [lxml](http://lxml.de/)? \n",
    "\n",
    "You can either use Spark DataFrame or [pandas.DataFrame](http://pandas.pydata.org/pandas-docs/stable/generated/pandas.DataFrame.html) to do the assignment. In comparison, pandas.DataFrame has richer APIs, but is not good at distributed computing."
   ]
  },
  {
   "cell_type": "markdown",
   "metadata": {},
   "source": [
    "## Preliminary"
   ]
  },
  {
   "cell_type": "markdown",
   "metadata": {},
   "source": [
    "If this is your first time to write a web scraper, you need to learn some basic knowledge of HTML, DOM, and XPath. I found that this is a good resource: [https://data-lessons.github.io](https://data-lessons.github.io/library-webscraping-DEPRECATED/). Please take a look at\n",
    "\n",
    "* [Selecting content on a web page with XPath\n",
    "](https://data-lessons.github.io/library-webscraping-DEPRECATED/xpath/)\n",
    "* [Web scraping using Python: requests and lxml](https://data-lessons.github.io/library-webscraping-DEPRECATED/04-lxml/). \n",
    "\n",
    "Please let me know if you find a better resource. I'll share it with the other students."
   ]
  },
  {
   "cell_type": "markdown",
   "metadata": {},
   "source": [
    "## Overview"
   ]
  },
  {
   "cell_type": "markdown",
   "metadata": {},
   "source": [
    "Imagine you are a data scientist working at SFU. One day, you want to analyze CS faculty data and answer two interesting questions:\n",
    "\n",
    "1. Who are the CS faculty members?\n",
    "2. What are their research interests?\n",
    "\n",
    "To do so, the first thing is to figure out what data to collect."
   ]
  },
  {
   "cell_type": "markdown",
   "metadata": {},
   "source": [
    "## Task 1: SFU CS Faculty Members"
   ]
  },
  {
   "cell_type": "markdown",
   "metadata": {},
   "source": [
    "You find that there is a web page in the CS school website, which lists all the faculty members as well as their basic information. \n",
    "\n",
    "In Task 1, your job is to write a web scraper to extract the faculty information from this page: [https://www.sfu.ca/computing/people/faculty.html](https://www.sfu.ca/computing/people/faculty.html).\n",
    "\n",
    "\n"
   ]
  },
  {
   "cell_type": "markdown",
   "metadata": {},
   "source": [
    "### (a) Crawling Web Page"
   ]
  },
  {
   "cell_type": "markdown",
   "metadata": {},
   "source": [
    "A web page is essentially a file stored in a remote machine (called web server). You can use [requests](http://www.python-requests.org/en/master/) to open such a file and read data from it. Please complete the following code to download the HTML page and save it as a text file (like [this](./faculty.txt)). "
   ]
  },
  {
   "cell_type": "code",
   "execution_count": 83,
   "metadata": {},
   "outputs": [],
   "source": [
    "import requests\n",
    "# 1. Download the webpage\n",
    "url = \"https://www.sfu.ca/computing/people/faculty.html\"\n",
    "file_to_dump = \"data/faculty.txt\"\n",
    "response = requests.get(url)\n",
    "# 2. Save it as a text file (named faculty.txt)\n",
    "with open(file_to_dump,'w') as f_open:\n",
    "    f_open.write(response.text)\n",
    "    f_open.close()"
   ]
  },
  {
   "cell_type": "markdown",
   "metadata": {},
   "source": [
    "### (b) Extracting Structured Data"
   ]
  },
  {
   "cell_type": "markdown",
   "metadata": {},
   "source": [
    "An HTML page follows the Document Object Model (DOM). It models an HTML page as a tree structure wherein each node is an object representing a part of the page. The nodes can be searched and extracted programmatically using XPath. Please complete the following code to transform the above HTML page to a CSV file (like [this](./faculty_table.csv)). "
   ]
  },
  {
   "cell_type": "code",
   "execution_count": 85,
   "metadata": {},
   "outputs": [],
   "source": [
    "import lxml.html as lxml_html\n",
    "import pandas as pd\n",
    "\n",
    "# 1. Open faculty.txt\n",
    "with open(file_to_dump,'r') as text:\n",
    "    content = lxml_html.fromstring(text.read())\n",
    "\n",
    "# 2. Parse the HTML page as a tree structure\n",
    "faculty_info = content.xpath(\"//div[contains(@class,'text')]\")\n",
    "\n",
    "# 3. Extract related content from the tree using XPath\n",
    "info_list = []\n",
    "for els in faculty_info:\n",
    "  dc = {}\n",
    "  name = els.xpath(\"./h4/text()\")\n",
    "  if name:\n",
    "        dc['name']=name[0].split(',')[0].strip()\n",
    "        dc['designation']=name[0].split(',')[1].strip()\n",
    "        dc['area'] = els.xpath(\"./p/text()\")[0].strip()\n",
    "        urls = els.xpath(\".//a/@href\")\n",
    "        if len(urls)>=2:\n",
    "            dc['profile_page'] = urls[-2].strip()\n",
    "            dc['home_page'] = urls[-1].strip()\n",
    "        elif len(urls)==1:\n",
    "            dc['profile_page'] = urls[0].strip()\n",
    "            dc['home_page'] = ''\n",
    "        else:\n",
    "            dc['profile_page'] = ''\n",
    "            dc['home_page'] = ''\n",
    "        info_list.append(dc)\n",
    "        #print(dc)\n",
    "# 4. Save the extracted content as an csv file (named faculty_table.csv)\n",
    "df = pd.DataFrame(info_list)\n",
    "header = ['name','designation','area','profile_page','home_page']\n",
    "df.to_csv(\"data/faculty_table.csv\",columns=header)"
   ]
  },
  {
   "cell_type": "markdown",
   "metadata": {},
   "source": [
    "## Task 2: Research Interests"
   ]
  },
  {
   "cell_type": "markdown",
   "metadata": {},
   "source": [
    "Suppose you want to know the research interests of each faculty. However, the above crawled web page does not contain such information. "
   ]
  },
  {
   "cell_type": "markdown",
   "metadata": {},
   "source": [
    "### (a) Crawling Web Page"
   ]
  },
  {
   "cell_type": "markdown",
   "metadata": {},
   "source": [
    "You notice that such information can be found on the profile page of each faculty. For example, you can find the research interests of Dr. Jiannan Wang from [http://www.sfu.ca/computing/people/faculty/jiannanwang.html](http://www.sfu.ca/computing/people/faculty/jiannanwang.html). \n",
    "\n",
    "\n",
    "Please complete the following code to download the profile pages and save them as text files. There are 60 faculties, so you need to download 60 web pages in total. "
   ]
  },
  {
   "cell_type": "code",
   "execution_count": 103,
   "metadata": {},
   "outputs": [],
   "source": [
    "import requests\n",
    "\n",
    "# 1. Download the profile pages of 60 faculties\n",
    "header = ['name','designation','area','profile_page','home_page']\n",
    "faculty_df = pd.read_csv('data/faculty_table.csv',usecols=header)\n",
    "base_url = \"https://www.sfu.ca/\"\n",
    "for i,rows in faculty_df.iterrows():\n",
    "    if(rows['profile_page']!=''):\n",
    "        html_resp =  requests.get(base_url + rows['profile_page'])\n",
    "        fname = \"data/faculty_profile_html/\"+rows['name'].lower()\n",
    "        # 2. Save each page as a text file\n",
    "        with open(fname,'w',encoding='utf-8',errors=None) as f_html:\n",
    "            f_html.write(html_resp.text)\n",
    "            f_html.close()"
   ]
  },
  {
   "cell_type": "markdown",
   "metadata": {},
   "source": [
    "### (b) Extracting Structured Data"
   ]
  },
  {
   "cell_type": "markdown",
   "metadata": {},
   "source": [
    "Please complete the following code to extract the research interests of each faculty, and generate a file like [this](./faculty_more_table.csv). "
   ]
  },
  {
   "cell_type": "code",
   "execution_count": 130,
   "metadata": {},
   "outputs": [],
   "source": [
    "import lxml.html as lxml_html\n",
    "import os\n",
    "\n",
    "file_location = \"data/faculty_profile_html/\"\n",
    "research_table = []\n",
    "for files in os.listdir(file_location):\n",
    "    # 1. Open each text file and parse it as a tree structure\n",
    "    with open(file_location+files,'r',encoding='utf-8') as html_text:\n",
    "        # 2. Extract the research interests from each tree using XPath\n",
    "        content = lxml_html.fromstring(html_text.read())\n",
    "        #res_interests = content.xpath(\"//div[contains(@class,'text parbase section')]//div[contains(@class,'listed')]/text()\")\n",
    "        res_interests = content.xpath('//div[contains(@class,\"listed\")]/h2[contains(.,\"Research interests\")]')\n",
    "        dc = {\"faculty_name\": files,'research_interests':\"\"}\n",
    "        for els in res_interests:\n",
    "               dc['research_interests'] = \"|\".join(els.xpath(\"..//li/text()\"))\n",
    "        research_table.append(dc)\n",
    "df = pd.DataFrame(research_table) \n",
    "df.to_csv(\"data/faculty_more_table.csv\",columns=['faculty_name','research_interests'])\n",
    "# 3. Add the extracted content to faculty_table.csv\n",
    "# 4. Generate a new CSV file, named faculty_more_table.csv"
   ]
  },
  {
   "cell_type": "markdown",
   "metadata": {},
   "source": [
    "## Submission"
   ]
  },
  {
   "cell_type": "markdown",
   "metadata": {},
   "source": [
    "Complete the code in this [notebook](A1.ipynb), and submit it to the CourSys activity `Assignment 1`."
   ]
  }
 ],
 "metadata": {
  "kernelspec": {
   "display_name": "Python 3",
   "language": "python",
   "name": "python3"
  },
  "language_info": {
   "codemirror_mode": {
    "name": "ipython",
    "version": 3
   },
   "file_extension": ".py",
   "mimetype": "text/x-python",
   "name": "python",
   "nbconvert_exporter": "python",
   "pygments_lexer": "ipython3",
   "version": "3.7.1"
  }
 },
 "nbformat": 4,
 "nbformat_minor": 1
}
