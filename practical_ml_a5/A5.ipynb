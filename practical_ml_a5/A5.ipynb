{
 "cells": [
  {
   "cell_type": "markdown",
   "metadata": {},
   "source": [
    "# Assignment 5: Pratical Machine Learning"
   ]
  },
  {
   "cell_type": "markdown",
   "metadata": {},
   "source": [
    "## Overview"
   ]
  },
  {
   "cell_type": "markdown",
   "metadata": {},
   "source": [
    "Imagine you want to build a classification model for your company. It's not uncommon that you may encounter the following three problems:\n",
    "\n",
    "* There is no training data available; data labeling may cost you a lot of money and time.\n",
    "* The number of features is very large, which may not only lead to long training time but also hurt model generalization. \n",
    "* There are a number of parameters associated with your model, and you do not know what parameters should be used. \n",
    "\n",
    "In this assignment, you will learn how to use Active Learning to address the first problem, learn how to apply a feature selection approach as well as Principal Component Analysis (PCA) to addressing the second one, and learn how to use the Spark ML pipeline API to tune parameters.\n",
    "\n",
    "\n",
    "After completing this assignment, you should be able to answer the following questions:\n",
    "\n",
    "**Data Labeling**\n",
    "1. Why Active Learning?\n",
    "2. How to implement uncertain sampling, a popular query strategy for Active Learning?\n",
    "3. How to solve an ER problem using Active Learning?\n",
    "\n",
    "**Feature Selection**\n",
    "1. Why Feature Selection?\n",
    "2. What are typical Feature Selection approaches?\n",
    "3. How does a filter-based feature selection approach work?\n",
    "4. How does PCA work?\n",
    "5. What're the advantages and disadvantages of PCA? \n",
    "\n",
    "**Parameter Tuning**\n",
    "1. Why parameter tuning?\n",
    "2. What is cross-validation?\n",
    "3. What is areaUnderROC?\n",
    "4. How to tune parameters?\n",
    "\n"
   ]
  },
  {
   "cell_type": "markdown",
   "metadata": {},
   "source": [
    "\n",
    "Note: In this assignment, the example code was writtin for Python 2. If you use Python 3, please feel free to make changes (e.g., print x --> print(x)).\n",
    "\n",
    "You can download the datasets of each assignment from http://tiny.cc/cmpt733-datasets."
   ]
  },
  {
   "cell_type": "markdown",
   "metadata": {},
   "source": [
    "## Part 1. Data Labeling"
   ]
  },
  {
   "cell_type": "markdown",
   "metadata": {},
   "source": [
    "[Active learning](http://tiny.cc/al-wiki) is a certain type of ML algorithms that can train a high-quality ML model with small data-labeling cost. Its basic idea is quite easy to understand. Consider a typical supervised ML problem, which requires a (relatively) large training dataset. In the training dataset, there may be only a small number of data points that are beneficial to the trained ML model. In other words, labeling the small number of data points is enough to train a high-quality ML model. The goal of active learning is to help us to identify the data points. \n",
    "\n",
    "\n",
    "In this assignment, we will revisit [Entity Resolution](https://sfu-db.github.io/bigdata-cmpt733/Lectures/lec2.pdf) and develop an Active Learning approach for it. Recall that entity Resolution (ER) is defined as finding different records that refer to the same real-world entity, e.g., \"iPhone 4-th Generation\" vs. \"iPhone Four\". It is central to data integration and cleaning. The following figure shows the architecture of an entity resolution solution. It consists of four major steps. **I will provide you the source code for Steps 1, 2, 4. Your job is to implement Step 3.**  \n",
    "\n",
    "<img src=\"img/arch.png\", width=800/>"
   ]
  },
  {
   "cell_type": "markdown",
   "metadata": {},
   "source": [
    "### Step 1. Read Data"
   ]
  },
  {
   "cell_type": "markdown",
   "metadata": {},
   "source": [
    "The [restaurant data](restaurant.csv) is in an CSV file. Here is the code to read it. "
   ]
  },
  {
   "cell_type": "code",
   "execution_count": 9,
   "metadata": {
    "scrolled": true
   },
   "outputs": [
    {
     "name": "stdout",
     "output_type": "stream",
     "text": [
      "(858, 5) :\n"
     ]
    },
    {
     "data": {
      "text/html": [
       "<div>\n",
       "<style scoped>\n",
       "    .dataframe tbody tr th:only-of-type {\n",
       "        vertical-align: middle;\n",
       "    }\n",
       "\n",
       "    .dataframe tbody tr th {\n",
       "        vertical-align: top;\n",
       "    }\n",
       "\n",
       "    .dataframe thead th {\n",
       "        text-align: right;\n",
       "    }\n",
       "</style>\n",
       "<table border=\"1\" class=\"dataframe\">\n",
       "  <thead>\n",
       "    <tr style=\"text-align: right;\">\n",
       "      <th></th>\n",
       "      <th>id</th>\n",
       "      <th>name</th>\n",
       "      <th>address</th>\n",
       "      <th>city</th>\n",
       "      <th>type</th>\n",
       "    </tr>\n",
       "  </thead>\n",
       "  <tbody>\n",
       "    <tr>\n",
       "      <th>0</th>\n",
       "      <td>1</td>\n",
       "      <td>arnie morton's of chicago</td>\n",
       "      <td>435 s. la cienega blv.</td>\n",
       "      <td>los angeles</td>\n",
       "      <td>american</td>\n",
       "    </tr>\n",
       "    <tr>\n",
       "      <th>1</th>\n",
       "      <td>2</td>\n",
       "      <td>arnie morton's of chicago</td>\n",
       "      <td>435 s. la cienega blvd.</td>\n",
       "      <td>los angeles</td>\n",
       "      <td>steakhouses</td>\n",
       "    </tr>\n",
       "    <tr>\n",
       "      <th>2</th>\n",
       "      <td>3</td>\n",
       "      <td>art's delicatessen</td>\n",
       "      <td>12224 ventura blvd.</td>\n",
       "      <td>studio city</td>\n",
       "      <td>american</td>\n",
       "    </tr>\n",
       "    <tr>\n",
       "      <th>3</th>\n",
       "      <td>4</td>\n",
       "      <td>art's deli</td>\n",
       "      <td>12224 ventura blvd.</td>\n",
       "      <td>studio city</td>\n",
       "      <td>delis</td>\n",
       "    </tr>\n",
       "    <tr>\n",
       "      <th>4</th>\n",
       "      <td>5</td>\n",
       "      <td>hotel bel-air</td>\n",
       "      <td>701 stone canyon rd.</td>\n",
       "      <td>bel air</td>\n",
       "      <td>californian</td>\n",
       "    </tr>\n",
       "  </tbody>\n",
       "</table>\n",
       "</div>"
      ],
      "text/plain": [
       "   id                       name                  address         city  \\\n",
       "0   1  arnie morton's of chicago   435 s. la cienega blv.  los angeles   \n",
       "1   2  arnie morton's of chicago  435 s. la cienega blvd.  los angeles   \n",
       "2   3         art's delicatessen      12224 ventura blvd.  studio city   \n",
       "3   4                 art's deli      12224 ventura blvd.  studio city   \n",
       "4   5              hotel bel-air     701 stone canyon rd.      bel air   \n",
       "\n",
       "          type  \n",
       "0     american  \n",
       "1  steakhouses  \n",
       "2     american  \n",
       "3        delis  \n",
       "4  californian  "
      ]
     },
     "execution_count": 9,
     "metadata": {},
     "output_type": "execute_result"
    }
   ],
   "source": [
    "import pandas as pd\n",
    "import numpy as np\n",
    "\n",
    "df = pd.read_csv('restaurant.csv')\n",
    "print(\"{} :\".format(df.shape))\n",
    "df.head(5)"
   ]
  },
  {
   "cell_type": "markdown",
   "metadata": {},
   "source": [
    "From this dataset, you will find many matching record pairs. For example, the first two rows shown above are matching (i.e., refer to the same real-world entity). You can check out all matching record pairs in the [true_matches.json](true_matches.json) file. "
   ]
  },
  {
   "cell_type": "markdown",
   "metadata": {},
   "source": [
    "### Step 2. Remove Obviously Non-matching Pairs"
   ]
  },
  {
   "cell_type": "markdown",
   "metadata": {},
   "source": [
    "A naive implementation of entity resolution is to enumerate all $n^2$ pairs and check whether they are matching or not. As you've learnt in [Assignment 2](https://rawgit.com/sfu-db/bigdata-cmpt733/master/Assignments/A2/A2.html), we can avoid $n^2$ comparisons using a similarity-join algorithm. \n",
    "\n",
    "Here is the code. After running the code, you will get 678 similar pairs ordered by their similarity decreasingly."
   ]
  },
  {
   "cell_type": "code",
   "execution_count": 2,
   "metadata": {
    "scrolled": true
   },
   "outputs": [
    {
     "name": "stdout",
     "output_type": "stream",
     "text": [
      "Num of Pairs:367653.0 \n",
      "Num of Similar Pairs:678 \n",
      "The Most Similar Pair: ([170, \"mary mac's tea room\", '224 ponce de leon ave.', 'atlanta', 'southern/soul'], [169, \"mary mac's tea room\", '224 ponce de leon ave.', 'atlanta', 'southern'])\n"
     ]
    }
   ],
   "source": [
    "from a9_utils import *\n",
    "\n",
    "data = df.values.tolist()\n",
    "simpairs = simjoin(data)\n",
    "\n",
    "print(\"Num of Pairs:{} \".format(len(data)*(len(data)-1)/2))\n",
    "print(\"Num of Similar Pairs:{} \".format(len(simpairs)))\n",
    "print(\"The Most Similar Pair: {}\".format(simpairs[0]))"
   ]
  },
  {
   "cell_type": "markdown",
   "metadata": {},
   "source": [
    "We can see that `simjoin` helps us remove the number of pairs from 367653 to 678. But, there are still many non-matching pairs in `simpairs` (see below). "
   ]
  },
  {
   "cell_type": "code",
   "execution_count": 3,
   "metadata": {},
   "outputs": [
    {
     "name": "stdout",
     "output_type": "stream",
     "text": [
      "([764, \"buzio's in the rio\", '3700 w. flamingo rd.', 'las vegas', 'seafood'], [542, 'carnival world', '3700 w. flamingo rd.', 'las vegas', 'buffets'])\n"
     ]
    }
   ],
   "source": [
    "print(simpairs[-1])"
   ]
  },
  {
   "cell_type": "markdown",
   "metadata": {},
   "source": [
    "Next, we will use active learning to train a classifier, and then use the classifier to classify each pair in `simpairs` as either \"matching\" or \"nonmatching\". "
   ]
  },
  {
   "cell_type": "markdown",
   "metadata": {},
   "source": [
    "### Step 3. Active Learning (Task A)"
   ]
  },
  {
   "cell_type": "markdown",
   "metadata": {},
   "source": [
    "Given a set of similar pairs, what you need to do next is to iteratively train a classifier to decide which pairs are truly matching. We are going to use [logistic regression](https://en.wikipedia.org/wiki/Logistic_regression) as our classifier. "
   ]
  },
  {
   "cell_type": "markdown",
   "metadata": {},
   "source": [
    "#### Featurization"
   ]
  },
  {
   "cell_type": "markdown",
   "metadata": {},
   "source": [
    "To train the model, the first thing you need to think about is how to featurize data. That is, transforming each similar pair to a feature vector. Please use the `featurize()` function for featurization. The function takes a pair as input and returns a vector of 6 features."
   ]
  },
  {
   "cell_type": "code",
   "execution_count": 4,
   "metadata": {},
   "outputs": [
    {
     "name": "stdout",
     "output_type": "stream",
     "text": [
      "The feature vector of the first pair:(1.0, 1.0, 1.0, 1.0, 1.0, 0.6153846153846154) \n"
     ]
    }
   ],
   "source": [
    "from a9_utils import featurize\n",
    "\n",
    "print(\"The feature vector of the first pair:{} \".format(featurize(simpairs[0])))"
   ]
  },
  {
   "cell_type": "markdown",
   "metadata": {},
   "source": [
    "#### Initialization"
   ]
  },
  {
   "cell_type": "markdown",
   "metadata": {},
   "source": [
    "At the beginning, all the pairs are unlabeled. To initialize a model, we first pick up ten pairs and then label each pair using  the `crowdsourcing()` function. You can assume that `crowdsourcing()` will ask a crowd worker (e.g., on Amazon Mechanical Turk) to label a pair. \n",
    "\n",
    "\n",
    "`crowdsourcing(pair)` is a function that simulates the use of crowdsourcing to label a pair\n",
    "  \n",
    "  - **Input:**\tpair – A pair of records \n",
    "\n",
    "  - **Output:**\tBoolean –  *True*: The pair of records are matching; *False*: The pair of records are NOT matching;\n",
    "\n",
    "Please use the following code to do the initialization. "
   ]
  },
  {
   "cell_type": "code",
   "execution_count": 6,
   "metadata": {},
   "outputs": [
    {
     "name": "stdout",
     "output_type": "stream",
     "text": [
      "\u001b[1;31mAre they matching?\u001b[0m\n",
      "[170, \"mary mac's tea room\", '224 ponce de leon ave.', 'atlanta', 'southern/soul']\n",
      "[169, \"mary mac's tea room\", '224 ponce de leon ave.', 'atlanta', 'southern']\n",
      "\u001b[1;31mAnswer: Yes\u001b[0m\n",
      "\u001b[1;31mAre they matching?\u001b[0m\n",
      "[88, 'manhattan ocean club', '57 w. 58th st.', 'new york city', 'seafood']\n",
      "[87, 'manhattan ocean club', '57 w. 58th st.', 'new york', 'seafood']\n",
      "\u001b[1;31mAnswer: Yes\u001b[0m\n",
      "\u001b[1;31mAre they matching?\u001b[0m\n",
      "[112, 'san domenico', '240 central park s.', 'new york city', 'italian']\n",
      "[111, 'san domenico', '240 central park s', 'new york', 'italian']\n",
      "\u001b[1;31mAnswer: Yes\u001b[0m\n",
      "\u001b[1;31mAre they matching?\u001b[0m\n",
      "[197, 'fleur de lys', '777 sutter st.', 'san francisco', 'french (new)']\n",
      "[196, 'fleur de lys', '777 sutter st.', 'san francisco', 'french']\n",
      "\u001b[1;31mAnswer: Yes\u001b[0m\n",
      "\u001b[1;31mAre they matching?\u001b[0m\n",
      "[8, 'cafe bizou', '14016 ventura blvd.', 'sherman oaks', 'french bistro']\n",
      "[7, 'cafe bizou', '14016 ventura blvd.', 'sherman oaks', 'french']\n",
      "\u001b[1;31mAnswer: Yes\u001b[0m\n",
      "\u001b[1;31mAre they matching?\u001b[0m\n",
      "[709, 'arcadia', '21 e. 62nd st.', 'new york city', 'american (new)']\n",
      "[66, 'four seasons', '99 e. 52nd st.', 'new york city', 'american (new)']\n",
      "\u001b[1;31mAnswer: No\u001b[0m\n",
      "\u001b[1;31mAre they matching?\u001b[0m\n",
      "[709, 'arcadia', '21 e. 62nd st.', 'new york city', 'american (new)']\n",
      "[70, 'gramercy tavern', '42 e. 20th st.', 'new york city', 'american (new)']\n",
      "\u001b[1;31mAnswer: No\u001b[0m\n",
      "\u001b[1;31mAre they matching?\u001b[0m\n",
      "[729, 'la grenouille', '3 e. 52nd st.', 'new york city', 'french (classic)']\n",
      "[60, 'daniel', '20 e. 76th st.', 'new york city', 'french (new)']\n",
      "\u001b[1;31mAnswer: No\u001b[0m\n",
      "\u001b[1;31mAre they matching?\u001b[0m\n",
      "[733, 'menchanko-tei', '39 w. 55th st.', 'new york city', 'japanese']\n",
      "[76, 'la caravelle', '33 w. 55th st.', 'new york city', 'french (classic)']\n",
      "\u001b[1;31mAnswer: No\u001b[0m\n",
      "\u001b[1;31mAre they matching?\u001b[0m\n",
      "[764, \"buzio's in the rio\", '3700 w. flamingo rd.', 'las vegas', 'seafood']\n",
      "[542, 'carnival world', '3700 w. flamingo rd.', 'las vegas', 'buffets']\n",
      "\u001b[1;31mAnswer: No\u001b[0m\n",
      "Number of matches:5\n",
      "Number of nonmatches:5\n"
     ]
    }
   ],
   "source": [
    "from a9_utils import crowdsourcing\n",
    "\n",
    "# choose the most/least similar five pairs as initial training data\n",
    "init_pairs = simpairs[:5] + simpairs[-5:]\n",
    "matches = []\n",
    "nonmatches = []\n",
    "for pair in init_pairs:\n",
    "    is_match = crowdsourcing(pair)\n",
    "    if is_match == True:\n",
    "        matches.append(pair)\n",
    "    else:\n",
    "        nonmatches.append(pair)\n",
    "        \n",
    "print(\"Number of matches:{}\".format(len(matches)))\n",
    "print(\"Number of nonmatches:{}\".format(len(nonmatches)))"
   ]
  },
  {
   "cell_type": "markdown",
   "metadata": {},
   "source": [
    "#### Interactive Model Training"
   ]
  },
  {
   "cell_type": "markdown",
   "metadata": {},
   "source": [
    "Here is the only code you need to write in Part 1.\n"
   ]
  },
  {
   "cell_type": "code",
   "execution_count": 98,
   "metadata": {},
   "outputs": [
    {
     "name": "stdout",
     "output_type": "stream",
     "text": [
      "\u001b[1;31mAre they matching?\u001b[0m\n",
      "[64, 'felidia', '243 e. 58th st.', 'new york city', 'italian']\n",
      "[63, 'felidia', '243 e. 58th st.', 'new york', 'italian']\n",
      "\u001b[1;31mAnswer: Yes\u001b[0m\n",
      "\u001b[1;31mAre they matching?\u001b[0m\n",
      "[98, 'oceana', '55 e. 54th st.', 'new york city', 'seafood']\n",
      "[97, 'oceana', '55 e. 54th st.', 'new york', 'seafood']\n",
      "\u001b[1;31mAnswer: Yes\u001b[0m\n",
      "\u001b[1;31mAre they matching?\u001b[0m\n",
      "[104, 'picholine', '35 w. 64th st.', 'new york city', 'mediterranean']\n",
      "[103, 'picholine', '35 w. 64th st.', 'new york', 'mediterranean']\n",
      "\u001b[1;31mAnswer: Yes\u001b[0m\n",
      "\u001b[1;31mAre they matching?\u001b[0m\n",
      "[185, 'alain rondelli', '126 clement st.', 'san francisco', 'french (new)']\n",
      "[184, 'alain rondelli', '126 clement st.', 'san francisco', 'french']\n",
      "\u001b[1;31mAnswer: Yes\u001b[0m\n",
      "\u001b[1;31mAre they matching?\u001b[0m\n",
      "[193, 'campton place', '340 stockton st.', 'san francisco', 'american (new)']\n",
      "[192, 'campton place', '340 stockton st.', 'san francisco', 'american']\n",
      "\u001b[1;31mAnswer: Yes\u001b[0m\n",
      "10\n",
      "663\n"
     ]
    }
   ],
   "source": [
    "from a9_utils import featurize, crowdsourcing\n",
    "import random\n",
    "\n",
    "labeled_pairs = matches + nonmatches\n",
    "unlabeled_pairs = [p for p in simpairs if p not in labeled_pairs]\n",
    "iter_num = 5\n",
    "\n",
    "#<-- Write Your Code -->\n",
    "from sklearn.linear_model import LogisticRegression as LR\n",
    "#initialize model \n",
    "model = LR(solver='lbfgs')\n",
    "X_train = [list(featurize(labeled_pairs[features])) for features in range(len(labeled_pairs))]\n",
    "Y_train = list(np.ones(5))+list(np.zeros(5)) #Creating prediction variable for the model.\n",
    "\n",
    "def train_model(model,X_train,Y_train,unlabeled_pair):\n",
    "    model.fit(X_train,Y_train)\n",
    "    X_pred = [list(featurize(unlabeled_pair[features])) for features in range(len(unlabeled_pair))]\n",
    "    prediction = model.predict(X_pred)\n",
    "    probability = model.predict_proba(X_pred)\n",
    "    x = probability[:,0]\n",
    "    indexes = np.where(x==min(x))\n",
    "    index = random.choice(indexes[0])\n",
    "    return index\n",
    "    \n",
    "    \n",
    "    \n",
    "\n",
    "for i in range(iter_num):\n",
    "    uncertain_index = train_model(model,X_train,Y_train,unlabeled_pairs)\n",
    "    uncertain_pair = unlabeled_pairs.pop(index)\n",
    "    is_match = 1 if crowdsourcing(uncertain_pair) else 0\n",
    "    X_train.append(featurize(uncertain_pair))\n",
    "    Y_train.append(is_match)\n",
    "\n",
    "print(len(labeled_pairs))\n",
    "print(len(unlabeled_pairs))"
   ]
  },
  {
   "cell_type": "markdown",
   "metadata": {},
   "source": [
    "**[Algorithm Description].**   Active learning has many [query strategies](http://tiny.cc/al-wiki-qs) to decide which data point should be labeled. You need to implement uncertain sampling for Task A. The algorithm trains an initial model on `labeled_pairs`. Then, it iteratively trains a model. At each iteration, it first applies the model to `unlabeled_pairs`, and makes a prediction on each unlabeled pair along with a probability, where the probability indicates the confidence of the prediction. After that, it selects the most uncertain pair (If there is still a tie, break it randomly),  and call the `crowdsroucing()` function to label the pair. After the pair is labeled, it updates `labeled_pairs` and `unlabeled_pairs`, and then retrain the model on `labeled_pairs`.\n",
    "\n",
    "**[Input].** \n",
    "- `labeled_pairs`: 10 labeled pairs (by default)\n",
    "- `unlabeled_pairs`: 668 unlabeled pairs (by default)\n",
    "- `iter_num`: 5 (by default)\n",
    "\n",
    "**[Output].** \n",
    "- `model`: A logistic regression model built by scikit-learn\n"
   ]
  },
  {
   "cell_type": "markdown",
   "metadata": {},
   "source": [
    "### Step 4. Model Evaluation"
   ]
  },
  {
   "cell_type": "markdown",
   "metadata": {},
   "source": [
    "[Precision, Recall](https://en.wikipedia.org/wiki/Precision_and_recall), [F-Score](https://en.wikipedia.org/wiki/F1_score) are commonly used to evaluate an entity-resolution result. After training an model, you can use the following code to evalute it."
   ]
  },
  {
   "cell_type": "code",
   "execution_count": 100,
   "metadata": {},
   "outputs": [
    {
     "name": "stdout",
     "output_type": "stream",
     "text": [
      "Precision:0.8888888888888888\n",
      "Recall:0.9056603773584906\n",
      "Fscore:0.897196261682243\n"
     ]
    }
   ],
   "source": [
    "import json\n",
    "import numpy as np\n",
    "from a9_utils import evaluate\n",
    "\n",
    "            \n",
    "sp_features = np.array([featurize(sp) for sp in simpairs])\n",
    "label = model.predict(sp_features)\n",
    "pair_label = zip(simpairs, label)\n",
    "\n",
    "identified_matches = []\n",
    "for pair, label in pair_label:\n",
    "    if label == 1:\n",
    "        identified_matches.append(pair)\n",
    "        \n",
    "precision, recall, fscore = evaluate(identified_matches)\n",
    "\n",
    "print(\"Precision:{}\".format(precision))\n",
    "print(\"Recall:{}\".format(recall))\n",
    "print(\"Fscore:{}\".format(fscore))\n",
    "   "
   ]
  },
  {
   "cell_type": "markdown",
   "metadata": {},
   "source": [
    "## Part 2. Feature Selection"
   ]
  },
  {
   "cell_type": "markdown",
   "metadata": {},
   "source": [
    "Feature selection and dimensionality reduction have been extensively studied in the ML community. In this part, I designed two simple tasks for you to get familiar with these topics. If you want to know more, please refer to Prof. Michael Jordan's [Practical Machine Learning](https://people.eecs.berkeley.edu/~jordan/courses/294-fall09/) course at UC Berkeley. "
   ]
  },
  {
   "cell_type": "markdown",
   "metadata": {},
   "source": [
    "### Task B. Filter-based Feature Selection"
   ]
  },
  {
   "cell_type": "markdown",
   "metadata": {},
   "source": [
    "There are [three classes](https://en.wikipedia.org/wiki/Feature_selection#Main_principles) of feature-selection methods: filter-based, wrapper-based, and embeded-based. Filter-based is the most simple one. Its basic idea is to assign a heuristic score to each feature to filter out the \"obviously\" useless ones. There are many ways to compute the score, e.g., chi-squared, information gain, correlation, and mutual information. We use [chi-squared](http://scikit-learn.org/stable/modules/generated/sklearn.feature_selection.chi2.html) for Task B. \n",
    "\n",
    "Imagine you have a collection of newsgroup documents, and you want to build a classification model to predicate the topic of each newsgroup document: \"comp.graphics (0)\" or \"sci.space (1)\". You use bag of words to represent each document. That is, each feature is a single word. I have already helped you load the dataset and generated the feature vectors (see the code below). "
   ]
  },
  {
   "cell_type": "code",
   "execution_count": 103,
   "metadata": {
    "scrolled": true
   },
   "outputs": [
    {
     "name": "stderr",
     "output_type": "stream",
     "text": [
      "Downloading 20news dataset. This may take a few minutes.\n",
      "Downloading dataset from https://ndownloader.figshare.com/files/5975967 (14 MB)\n"
     ]
    },
    {
     "name": "stdout",
     "output_type": "stream",
     "text": [
      "Target Labels:['comp.graphics', 'sci.space']\n",
      "(NSamples, NFeatures):(1177, 19493)\n"
     ]
    }
   ],
   "source": [
    "from sklearn.datasets import fetch_20newsgroups\n",
    "from sklearn.feature_extraction.text import TfidfVectorizer\n",
    "\n",
    "\n",
    "data_train = fetch_20newsgroups(subset='train', categories=['comp.graphics','sci.space'],\n",
    "                                shuffle=True, random_state=42,\n",
    "                                remove=('headers', 'footers', 'quotes'))\n",
    "\n",
    "vectorizer = TfidfVectorizer()\n",
    "X = vectorizer.fit_transform(data_train.data)\n",
    "y = data_train.target\n",
    "\n",
    "print(\"Target Labels:{}\".format(data_train.target_names))\n",
    "print(\"(NSamples, NFeatures):{}\".format(X.shape))\n"
   ]
  },
  {
   "cell_type": "markdown",
   "metadata": {},
   "source": [
    "From the output of the above code, you find that the number of features (19493) is very large, so you want to use a filter-based method to choose the top-10 words as your features. \n",
    "\n",
    "Please write your code below. The code computes chi-squared stat between each feature and the target label, and return the top-10 words with the highest score. "
   ]
  },
  {
   "cell_type": "code",
   "execution_count": 120,
   "metadata": {},
   "outputs": [
    {
     "name": "stdout",
     "output_type": "stream",
     "text": [
      "<class 'sklearn.feature_selection.univariate_selection.SelectKBest'>\n",
      "['3d', 'file', 'files', 'graphics', 'image', 'moon', 'nasa', 'orbit', 'space', 'windows']\n"
     ]
    }
   ],
   "source": [
    "from sklearn.feature_selection import SelectKBest, chi2\n",
    "\n",
    "#<-- Write Your Code -->\n",
    "chi_score,pvals = chi2(X,y)\n",
    "X_new = SelectKBest(chi2,k=10).fit(X,y)\n",
    "print(type(X_new))\n",
    "indexes = X_new.get_support(indices=True)\n",
    "\n",
    "# retrieve top features\n",
    "features = vectorizer.get_feature_names()\n",
    "top_features = [features[i] for i in indexes]\n",
    "print(top_features)\n"
   ]
  },
  {
   "cell_type": "markdown",
   "metadata": {},
   "source": [
    "### Task C. Principal Component Analysis (PCA)"
   ]
  },
  {
   "cell_type": "markdown",
   "metadata": {},
   "source": [
    "PCA is a well-known dimensionality reduction algorithm. Obviously, we can use PCA to transform each feature vector to a 10-D feature vector. See the code below. "
   ]
  },
  {
   "cell_type": "code",
   "execution_count": 116,
   "metadata": {},
   "outputs": [
    {
     "name": "stdout",
     "output_type": "stream",
     "text": [
      "[0.01690229 0.00799231 0.00645212 0.00520748 0.00477457 0.00446175\n",
      " 0.0041662  0.00391556 0.00382357 0.00365613]\n"
     ]
    }
   ],
   "source": [
    "import numpy as np\n",
    "from sklearn.decomposition import PCA\n",
    "\n",
    "pca = PCA(n_components=10)\n",
    "pca.fit(X.toarray())\n",
    "print(pca.explained_variance_ratio_)"
   ]
  },
  {
   "cell_type": "markdown",
   "metadata": {},
   "source": [
    "Both filter-based feature selection and PCA can help us reduce the number of features in a feature vector. The question is what's the difference between them. In this task, you don't need to write any code. Just let me know what you think about the advantages and disadvantages of PCA compared to filter-based feature section. Please list (at least) two advantages and two disadvantages. "
   ]
  },
  {
   "cell_type": "markdown",
   "metadata": {},
   "source": [
    "**Advantages of PCA**\n",
    " - Easy to use, extracts the top 10 features based on variance calculated for each features which is good for large datasets with varying features.  \n",
    " - considers all the features for calculation unlike chi squared technique which uses only individual features. \n",
    "\n",
    "**Disadvantages of PCA**\n",
    "- Does not provide the flexibility to choose the \"scoring\" function. Only uses the method of variance. Sometimes variance is not the most optimal method of feature extraction. For ex. smaller datasets.  \n",
    "- Slower computation than other methods as it finds the principal component based on all the features. "
   ]
  },
  {
   "cell_type": "markdown",
   "metadata": {},
   "source": [
    "## Part 3. Parameter Tuning"
   ]
  },
  {
   "cell_type": "markdown",
   "metadata": {},
   "source": [
    "### Preliminary"
   ]
  },
  {
   "cell_type": "markdown",
   "metadata": {},
   "source": [
    "Imagine you have a collection of newsgroup documents, and you want to build a classification model to predicate the topic of each newsgroup document: \"science (1)\" or \"non-science (0)\". Here is the Spark program (below) that can help you to finish the job. ** Your preliminary task is to read the code and understand how it works. ** I highly recommend you to read through the [Spark ML Pipeline Programming Guide](http://spark.apache.org/docs/latest/ml-pipeline.html), which is very well written, and will aid your understanding of the code. "
   ]
  },
  {
   "cell_type": "code",
   "execution_count": 130,
   "metadata": {},
   "outputs": [
    {
     "name": "stdout",
     "output_type": "stream",
     "text": [
      "0.7486382404197034\n"
     ]
    }
   ],
   "source": [
    "from pyspark.sql import SparkSession\n",
    "from pyspark.ml import Pipeline\n",
    "from pyspark.ml.classification import LogisticRegression\n",
    "from pyspark.ml.feature import HashingTF, Tokenizer\n",
    "from pyspark.ml.evaluation import BinaryClassificationEvaluator\n",
    "\n",
    "spark = SparkSession.builder.appName('parameter tuning').getOrCreate()\n",
    "sc = spark.sparkContext\n",
    "trainDF = spark.read.parquet(\"20news_train.parquet\")\n",
    "\n",
    "# Configure an ML pipeline, which consists of three stages: tokenizer, hashingTF, and lr.\n",
    "tokenizer = Tokenizer(inputCol=\"text\", outputCol=\"words\")\n",
    "hashingTF = HashingTF(inputCol=tokenizer.getOutputCol(), outputCol=\"features\", numFeatures=1000)\n",
    "lr = LogisticRegression(maxIter=20, regParam=0.1)\n",
    "pipeline = Pipeline(stages=[tokenizer, hashingTF, lr])\n",
    "\n",
    "# Fit the pipeline to training data.\n",
    "model = pipeline.fit(trainDF)\n",
    "\n",
    "# Evaluate the model on testing data\n",
    "testDF = spark.read.parquet(\"20news_test.parquet\")\n",
    "prediction = model.transform(testDF)\n",
    "evaluator = BinaryClassificationEvaluator()\n",
    "print(evaluator.evaluate(prediction))\n"
   ]
  },
  {
   "cell_type": "markdown",
   "metadata": {},
   "source": [
    "If you run the program, you will see that the trained model can only get an [areaUnderROC](https://en.wikipedia.org/wiki/Receiver_operating_characteristic#Area_under_the_curve) of ~0.75 on the testing dataset."
   ]
  },
  {
   "cell_type": "markdown",
   "metadata": {},
   "source": [
    "### Task D - Parameter Tuning"
   ]
  },
  {
   "cell_type": "markdown",
   "metadata": {},
   "source": [
    "Now it comes to the final task of the assignment. Let's take a look at the above program. It actually used `numFeatures=1000` and `regParam=0.1` to train the model. One natural question is that if we used different values for the two parameters, would that lead to a better model (i.e., a higher areaUnderROC)?\n",
    "\n",
    "\n",
    "In this task, your job is to complete the following code. "
   ]
  },
  {
   "cell_type": "code",
   "execution_count": 132,
   "metadata": {},
   "outputs": [
    {
     "name": "stdout",
     "output_type": "stream",
     "text": [
      "0.8536581733181826\n"
     ]
    }
   ],
   "source": [
    "# The code will tune the following two parameters on the training dataset:\n",
    "# \n",
    "#   numFeatures=1000, 5000, 10000\n",
    "#   regParam=0.1, 0.2, 0.3, 0.4, 0.5, 0.6, 0.7, 0.8, 0.9\n",
    "# \n",
    "# and will use 2-fold cross-validation for model evaluation.\n",
    "\n",
    "from pyspark.ml.tuning import CrossValidator, ParamGridBuilder\n",
    "\n",
    "\n",
    "hashingTF = HashingTF(inputCol=tokenizer.getOutputCol(), outputCol=\"features\")\n",
    "lr = LogisticRegression(maxIter=20)\n",
    "pipeline = Pipeline(stages=[tokenizer, hashingTF, lr])\n",
    "\n",
    "paramgrid = ParamGridBuilder().addGrid(hashingTF.numFeatures,[1000, 5000, 10000]) \\\n",
    "                            .addGrid(lr.regParam,[0.1, 0.2, 0.3, 0.4, 0.5, 0.6, 0.7, 0.8, 0.9]) \\\n",
    "                            .build()\n",
    "cross_validator = CrossValidator(estimator=pipeline,\n",
    "                                 estimatorParamMaps=paramgrid,\n",
    "                                 evaluator=BinaryClassificationEvaluator(),\n",
    "                                 numFolds=2)\n",
    "\n",
    "\n",
    "cv_model = cross_validator.fit(trainDF)\n",
    "prediction = cv_model.transform(testDF)\n",
    "evaluator = BinaryClassificationEvaluator()\n",
    "print(evaluator.evaluate(prediction))"
   ]
  },
  {
   "cell_type": "markdown",
   "metadata": {},
   "source": [
    "Once you get the best model with the best parameters, please apply the model to the testing dataset, and `print` the new areaUnderROC value. "
   ]
  },
  {
   "cell_type": "markdown",
   "metadata": {},
   "source": [
    "## Submission"
   ]
  },
  {
   "cell_type": "markdown",
   "metadata": {},
   "source": [
    "Download [A5.zip](A5.zip). Complete Tasks A, B, C and D in A5.ipynb, and submit it to the CourSys activity Assignment 5."
   ]
  }
 ],
 "metadata": {
  "kernelspec": {
   "display_name": "Python 3",
   "language": "python",
   "name": "python3"
  },
  "language_info": {
   "codemirror_mode": {
    "name": "ipython",
    "version": 3
   },
   "file_extension": ".py",
   "mimetype": "text/x-python",
   "name": "python",
   "nbconvert_exporter": "python",
   "pygments_lexer": "ipython3",
   "version": "3.7.1"
  }
 },
 "nbformat": 4,
 "nbformat_minor": 1
}
